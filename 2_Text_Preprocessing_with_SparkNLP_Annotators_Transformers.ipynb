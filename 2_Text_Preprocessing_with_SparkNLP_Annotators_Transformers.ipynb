{
  "cells": [
    {
      "cell_type": "markdown",
      "metadata": {
        "id": "sXatvRX899i0"
      },
      "source": [
        "![JohnSnowLabs](https://nlp.johnsnowlabs.com/assets/images/logo.png)"
      ]
    },
    {
      "cell_type": "markdown",
      "metadata": {
        "id": "Xj5fx5ir-wMt"
      },
      "source": [
        "# **Text Preprocessing with Spark NLP**"
      ]
    },
    {
      "cell_type": "markdown",
      "metadata": {
        "id": "H_SG0VCrix5p"
      },
      "source": [
        "**Note** Read this article if you want to understand the basic concepts in Spark NLP.\n",
        "\n",
        "[Introduction to Spark NLP: Foundations and Basic Components](https://towardsdatascience.com/introduction-to-spark-nlp-foundations-and-basic-components-part-i-c83b7629ed59)\n"
      ]
    },
    {
      "cell_type": "markdown",
      "metadata": {
        "id": "MfkkKkbVF309"
      },
      "source": [
        "## **0. Colab Setup**"
      ]
    },
    {
      "cell_type": "code",
      "execution_count": null,
      "metadata": {
        "id": "iMkMQtZNF2n-"
      },
      "outputs": [],
      "source": [
        "!pip install -q pyspark==3.3.0  spark-nlp==4.2.4"
      ]
    },
    {
      "cell_type": "markdown",
      "metadata": {
        "id": "SS07N80gEtSt"
      },
      "source": [
        "### **1. Annotators and Transformer Concepts**"
      ]
    },
    {
      "cell_type": "markdown",
      "metadata": {
        "id": "g3_ic8K7E0sy"
      },
      "source": [
        "In Spark NLP, all Annotators are either Estimators or Transformers as we see in Spark ML. An Estimator in Spark ML is an algorithm which can be fit on a DataFrame to produce a Transformer. E.g., a learning algorithm is an Estimator which trains on a DataFrame and produces a model. A Transformer is an algorithm which can transform one DataFrame into another DataFrame. E.g., an ML model is a Transformer that transforms a DataFrame with features into a DataFrame with predictions.\n",
        "In Spark NLP, there are two types of annotators: AnnotatorApproach and AnnotatorModel\n",
        "AnnotatorApproach extends Estimators from Spark ML, which are meant to be trained through fit(), and AnnotatorModel extends Transformers which are meant to transform data frames through transform().\n",
        "Some of Spark NLP annotators have a Model suffix and some do not. The model suffix is explicitly stated when the annotator is the result of a training process. Some annotators, such as Tokenizer are transformers but do not contain the suffix Model since they are not trained, annotators. Model annotators have a pre-trained() on its static object, to retrieve the public pre-trained version of a model.\n",
        "Long story short, if it trains on a DataFrame and produces a model, it’s an AnnotatorApproach; and if it transforms one DataFrame into another DataFrame through some models, it’s an AnnotatorModel (e.g. WordEmbeddingsModel) and it doesn’t take Model suffix if it doesn’t rely on a pre-trained annotator while transforming a DataFrame (e.g. Tokenizer)."
      ]
    },
    {
      "cell_type": "markdown",
      "metadata": {
        "id": "x6SaPXwtFBM-"
      },
      "source": [
        "By convention, there are three possible names:\n",
        "\n",
        "**Approach** — Trainable annotator\n",
        "\n",
        "**Model** — Trained annotator\n",
        "\n",
        "**nothing** — Either a non-trainable annotator with pre-processing\n",
        "step or shorthand for a model\n",
        "\n",
        "So for example, Stemmer doesn’t say Approach nor Model, however, it is a Model. On the other hand, Tokenizer doesn’t say Approach nor Model, but it has a TokenizerModel(). Because it is not “training” anything, but it is doing some preprocessing before converting into a Model.\n",
        "When in doubt, please refer to official documentation and API reference.\n",
        "Even though we will do many hands-on practices in the following articles, let us give you a glimpse to let you understand the difference between AnnotatorApproach and AnnotatorModel.\n",
        "As stated above, Tokenizer is an AnnotatorModel. So we need to call fit() and then transform()."
      ]
    },
    {
      "cell_type": "markdown",
      "metadata": {
        "id": "ALiQ2TsOFNyc"
      },
      "source": [
        "Now let’s see how this can be done in Spark NLP using Annotators and Transformers. Assume that we have the following steps that need to be applied one by one on a data frame.\n",
        "\n",
        "- Split text into sentences\n",
        "- Tokenize\n",
        "- Normalize\n",
        "- Get word embeddings"
      ]
    },
    {
      "cell_type": "markdown",
      "metadata": {
        "id": "suLa96N7Fijt"
      },
      "source": [
        "**What’s actually happening under the hood?**\n",
        "\n",
        "When we fit() on the pipeline with Spark data frame (df), its text column is fed into DocumentAssembler() transformer at first and then a new column “document” is created in Document type (AnnotatorType). As we mentioned before, this transformer is basically the initial entry point to Spark NLP for any Spark data frame. Then its document column is fed into SentenceDetector() (AnnotatorApproach) and the text is split into an array of sentences and a new column “sentences” in Document type is created. Then “sentences” column is fed into Tokenizer() (AnnotatorModel) and each sentence is tokenized and a new column “token” in Token type is created. And so on. "
      ]
    },
    {
      "cell_type": "code",
      "execution_count": null,
      "metadata": {
        "colab": {
          "base_uri": "https://localhost:8080/",
          "height": 254
        },
        "id": "SDasO3DbKu2Z",
        "outputId": "a9668318-0afc-43f6-c6c5-5b9c5b7f803e"
      },
      "outputs": [
        {
          "output_type": "stream",
          "name": "stdout",
          "text": [
            "Spark NLP version:  4.2.4\n",
            "Apache Spark version:  3.3.0\n"
          ]
        },
        {
          "output_type": "execute_result",
          "data": {
            "text/plain": [
              "<pyspark.sql.session.SparkSession at 0x7f5127be0d60>"
            ],
            "text/html": [
              "\n",
              "            <div>\n",
              "                <p><b>SparkSession - in-memory</b></p>\n",
              "                \n",
              "        <div>\n",
              "            <p><b>SparkContext</b></p>\n",
              "\n",
              "            <p><a href=\"http://03eba3c2d755:4040\">Spark UI</a></p>\n",
              "\n",
              "            <dl>\n",
              "              <dt>Version</dt>\n",
              "                <dd><code>v3.3.0</code></dd>\n",
              "              <dt>Master</dt>\n",
              "                <dd><code>local[*]</code></dd>\n",
              "              <dt>AppName</dt>\n",
              "                <dd><code>Spark NLP</code></dd>\n",
              "            </dl>\n",
              "        </div>\n",
              "        \n",
              "            </div>\n",
              "        "
            ]
          },
          "metadata": {},
          "execution_count": 2
        }
      ],
      "source": [
        "import sparknlp\n",
        "\n",
        "spark = sparknlp.start()\n",
        "\n",
        "print(\"Spark NLP version: \", sparknlp.version())\n",
        "print(\"Apache Spark version: \", spark.version)\n",
        "\n",
        "spark"
      ]
    },
    {
      "cell_type": "markdown",
      "metadata": {
        "id": "Ab6V51l_nPyR"
      },
      "source": [
        "### **Create Spark Dataframe**"
      ]
    },
    {
      "cell_type": "code",
      "execution_count": null,
      "metadata": {
        "colab": {
          "base_uri": "https://localhost:8080/"
        },
        "id": "qj-Q4LzMGCtQ",
        "outputId": "234637b2-5205-45b9-9800-b1e6fc80e833"
      },
      "outputs": [
        {
          "output_type": "stream",
          "name": "stdout",
          "text": [
            "+------------------------------------------------+\n",
            "|text                                            |\n",
            "+------------------------------------------------+\n",
            "|Peter Parker is a nice guy and lives in New York|\n",
            "+------------------------------------------------+\n",
            "\n"
          ]
        }
      ],
      "source": [
        "text = 'Peter Parker is a nice guy and lives in New York'\n",
        "\n",
        "spark_df = spark.createDataFrame([[text]]).toDF(\"text\")\n",
        "\n",
        "spark_df.show(truncate=False)"
      ]
    },
    {
      "cell_type": "code",
      "execution_count": null,
      "metadata": {
        "colab": {
          "base_uri": "https://localhost:8080/"
        },
        "id": "SGpOOlBHkPxP",
        "outputId": "608317c0-50ce-474c-e109-1241afc49c40"
      },
      "outputs": [
        {
          "output_type": "stream",
          "name": "stdout",
          "text": [
            "+--------------------------------------------------------+\n",
            "|                                                    text|\n",
            "+--------------------------------------------------------+\n",
            "|       Peter Parker is a nice guy and lives in New York.|\n",
            "|Bruce Wayne is also a nice guy and lives in Gotham City.|\n",
            "+--------------------------------------------------------+\n",
            "\n"
          ]
        }
      ],
      "source": [
        "from pyspark.sql.types import StringType, IntegerType\n",
        "\n",
        "# if you want to create a spark datafarme from a list of strings\n",
        "\n",
        "text_list = ['Peter Parker is a nice guy and lives in New York.', 'Bruce Wayne is also a nice guy and lives in Gotham City.']\n",
        "\n",
        "spark.createDataFrame(text_list, StringType()).toDF(\"text\").show(truncate=80)\n"
      ]
    },
    {
      "cell_type": "code",
      "execution_count": null,
      "metadata": {
        "colab": {
          "base_uri": "https://localhost:8080/"
        },
        "id": "Hz6bw9a6t_Br",
        "outputId": "d174e4f1-5881-460d-957f-3e3f0727a424"
      },
      "outputs": [
        {
          "output_type": "stream",
          "name": "stdout",
          "text": [
            "+--------------------------------------------------------+\n",
            "|                                                    text|\n",
            "+--------------------------------------------------------+\n",
            "|       Peter Parker is a nice guy and lives in New York.|\n",
            "|Bruce Wayne is also a nice guy and lives in Gotham City.|\n",
            "+--------------------------------------------------------+\n",
            "\n"
          ]
        }
      ],
      "source": [
        "from pyspark.sql import Row\n",
        "\n",
        "spark.createDataFrame(list(map(lambda x: Row(text=x), text_list))).show(truncate=80)"
      ]
    },
    {
      "cell_type": "code",
      "execution_count": null,
      "metadata": {
        "id": "ggnHbf1rGn1H"
      },
      "outputs": [],
      "source": [
        "!wget -q https://raw.githubusercontent.com/JohnSnowLabs/spark-nlp-workshop/master/jupyter/annotation/english/spark-nlp-basics/sample-sentences-en.txt"
      ]
    },
    {
      "cell_type": "code",
      "execution_count": null,
      "metadata": {
        "colab": {
          "base_uri": "https://localhost:8080/"
        },
        "id": "GaOe_G-OnBVg",
        "outputId": "7494dfdd-0c91-4ceb-f679-3b73b3e4a63e"
      },
      "outputs": [
        {
          "output_type": "stream",
          "name": "stdout",
          "text": [
            "Peter is a very good person.\n",
            "My life in Russia is very interesting.\n",
            "John and Peter are brothers. However they don't support each other that much.\n",
            "Lucas Nogal Dunbercker is no longer happy. He has a good car though.\n",
            "Europe is very culture rich. There are huge churches! and big houses!\n"
          ]
        }
      ],
      "source": [
        "with open('./sample-sentences-en.txt') as f:\n",
        "  print (f.read())"
      ]
    },
    {
      "cell_type": "code",
      "execution_count": null,
      "metadata": {
        "colab": {
          "base_uri": "https://localhost:8080/"
        },
        "id": "wdrkFmcVGW-o",
        "outputId": "e71e2243-647b-4f2a-8cf8-873407533def"
      },
      "outputs": [
        {
          "output_type": "stream",
          "name": "stdout",
          "text": [
            "+-----------------------------------------------------------------------------+\n",
            "|text                                                                         |\n",
            "+-----------------------------------------------------------------------------+\n",
            "|Peter is a very good person.                                                 |\n",
            "|My life in Russia is very interesting.                                       |\n",
            "|John and Peter are brothers. However they don't support each other that much.|\n",
            "|Lucas Nogal Dunbercker is no longer happy. He has a good car though.         |\n",
            "|Europe is very culture rich. There are huge churches! and big houses!        |\n",
            "+-----------------------------------------------------------------------------+\n",
            "\n"
          ]
        }
      ],
      "source": [
        "spark_df = spark.read.text('./sample-sentences-en.txt').toDF('text')\n",
        "\n",
        "spark_df.show(truncate=False)"
      ]
    },
    {
      "cell_type": "code",
      "execution_count": null,
      "metadata": {
        "colab": {
          "base_uri": "https://localhost:8080/"
        },
        "id": "IzBvpIZtGrLX",
        "outputId": "738e7935-3399-4186-d08b-1a3d7fdb3d9a"
      },
      "outputs": [
        {
          "output_type": "stream",
          "name": "stdout",
          "text": [
            "+-----------------------------------------------------------------------------+\n",
            "|text                                                                         |\n",
            "+-----------------------------------------------------------------------------+\n",
            "|Peter is a very good person.                                                 |\n",
            "|My life in Russia is very interesting.                                       |\n",
            "|John and Peter are brothers. However they don't support each other that much.|\n",
            "|Lucas Nogal Dunbercker is no longer happy. He has a good car though.         |\n",
            "|Europe is very culture rich. There are huge churches! and big houses!        |\n",
            "+-----------------------------------------------------------------------------+\n",
            "\n"
          ]
        }
      ],
      "source": [
        "spark_df.select('text').show(truncate=False)"
      ]
    },
    {
      "cell_type": "code",
      "execution_count": null,
      "metadata": {
        "colab": {
          "base_uri": "https://localhost:8080/"
        },
        "id": "s66VfRkXK9l3",
        "outputId": "16ab2afd-7ff1-4095-9662-50f8a1a65fc6"
      },
      "outputs": [
        {
          "output_type": "stream",
          "name": "stdout",
          "text": [
            "+------------------------------+------------------------------+\n",
            "|                          path|                          text|\n",
            "+------------------------------+------------------------------+\n",
            "|file:/content/sample-senten...|Peter is a very good person...|\n",
            "+------------------------------+------------------------------+\n",
            "\n"
          ]
        }
      ],
      "source": [
        "textFiles = spark.sparkContext.wholeTextFiles(\"./*.txt\",4)\n",
        "    \n",
        "spark_df_folder = textFiles.toDF(schema=['path','text'])\n",
        "\n",
        "spark_df_folder.show(truncate=30)"
      ]
    },
    {
      "cell_type": "code",
      "execution_count": null,
      "metadata": {
        "colab": {
          "base_uri": "https://localhost:8080/"
        },
        "id": "myuUF6vVV1cJ",
        "outputId": "fe298db6-1bd8-43c5-ecea-0aaacfec7118"
      },
      "outputs": [
        {
          "output_type": "execute_result",
          "data": {
            "text/plain": [
              "[Row(text=\"Peter is a very good person.\\nMy life in Russia is very interesting.\\nJohn and Peter are brothers. However they don't support each other that much.\\nLucas Nogal Dunbercker is no longer happy. He has a good car though.\\nEurope is very culture rich. There are huge churches! and big houses!\")]"
            ]
          },
          "metadata": {},
          "execution_count": 11
        }
      ],
      "source": [
        "spark_df_folder.select('text').take(1)"
      ]
    },
    {
      "cell_type": "code",
      "execution_count": null,
      "metadata": {
        "colab": {
          "base_uri": "https://localhost:8080/"
        },
        "id": "s3K_q2ptmFnH",
        "outputId": "bc21dd48-beb9-44f5-c0d6-50d4fa8ae8cc"
      },
      "outputs": [
        {
          "output_type": "execute_result",
          "data": {
            "text/plain": [
              "[Row(text=\"Peter is a very good person.\\nMy life in Russia is very interesting.\\nJohn and Peter are brothers. However they don't support each other that much.\\nLucas Nogal Dunbercker is no longer happy. He has a good car though.\\nEurope is very culture rich. There are huge churches! and big houses!\")]"
            ]
          },
          "metadata": {},
          "execution_count": 12
        }
      ],
      "source": [
        "spark_df_folder.select('text').collect()"
      ]
    },
    {
      "cell_type": "markdown",
      "metadata": {
        "id": "ZTcOJCrieNQK"
      },
      "source": [
        "### **Transformers**"
      ]
    },
    {
      "cell_type": "markdown",
      "metadata": {
        "id": "AwbTXq-keP7V"
      },
      "source": [
        "What are we going to do if our DataFrame doesn’t have columns in those type? Here comes transformers. In Spark NLP, we have five different transformers that are mainly used for getting the data in or transform the data from one AnnotatorType to another. Here is the list of transformers:\n",
        "\n",
        "| **Transformers**  | **Description** |\n",
        "| - | - |\n",
        "|**DocumentAssembler**      |To get through the NLP process, we need to get raw data annotated. This is a special transformer that does this for us; it creates the first annotation of type Document which may be used by annotators down the road.\n",
        "|**TokenAssembler**      |This transformer reconstructs a Document type annotation from tokens, usually after these have been, lemmatized, normalized, spell checked, etc, to use this document annotation in further annotators.\n",
        "|**Doc2Chunk**      | Converts DOCUMENT type annotations into CHUNK type with the contents of a chunkCol.\n",
        "|**Chunk2Doc**      |Converts a CHUNK type column back into DOCUMENT. Useful when trying to re-tokenize or do further analysis on a CHUNK result.\n",
        "|**Finisher** |Once we have our NLP pipeline ready to go, we might want to use our annotation results somewhere else where it is easy to use. The Finisher outputs annotation(s) values into a string.\n"
      ]
    },
    {
      "cell_type": "markdown",
      "metadata": {
        "id": "tOBEa23Odr-C"
      },
      "source": [
        "Each annotator accepts certain types of columns and outputs new columns in another type (we call this AnnotatorType).\n",
        "\n",
        "In Spark NLP, we have the following types: \n",
        "\n",
        ">`Document`, `token`, `chunk`, `pos`, `word_embeddings`, `date`, `entity`, `sentiment`, `named_entity`, `dependency`, `labeled_dependency`. \n",
        "\n",
        "That is, the DataFrame you have needs to have a column from one of these types if that column will be fed into an annotator; otherwise, you’d need to use one of the Spark NLP transformers."
      ]
    },
    {
      "cell_type": "markdown",
      "metadata": {
        "id": "ss59Lk4ULNRT"
      },
      "source": [
        "##  **Document Assembler**"
      ]
    },
    {
      "cell_type": "markdown",
      "metadata": {
        "id": "74S30BktM8p-"
      },
      "source": [
        "In Spark NLP, we have five different transformers that are mainly used for getting the data in or transform the data from one AnnotatorType to another."
      ]
    },
    {
      "cell_type": "markdown",
      "metadata": {
        "id": "TtyKgt_iM_5C"
      },
      "source": [
        "That is, the DataFrame you have needs to have a column from one of these types if that column will be fed into an annotator; otherwise, you’d need to use one of the Spark NLP transformers. Here is the list of transformers: DocumentAssembler, TokenAssembler, Doc2Chunk, Chunk2Doc, and the Finisher.\n",
        "\n",
        "So, let’s start with DocumentAssembler(), an entry point to Spark NLP annotators."
      ]
    },
    {
      "cell_type": "markdown",
      "metadata": {
        "id": "GLiXAucCLWS3"
      },
      "source": [
        "To get through the process in Spark NLP, we need to get raw data transformed into Document type at first. \n",
        "\n",
        "DocumentAssembler() is a special transformer that does this for us; it creates the first annotation of type Document which may be used by annotators down the road.\n",
        "\n",
        "DocumentAssembler() comes from sparknlp.base class and has the following settable parameters. See the full list here and the source code here.\n",
        "\n",
        "\n",
        "| Parametre  | Value | Description |\n",
        "| - | - | - |\n",
        "|**setInputCol()***       |String |The name of the column that will be converted. We can specify only one column here. It can read either a String column or an Array.|\n",
        "|**setOutputCol()*** |optional|The name of the column in Document type that is generated. We can specify only one column here. Default is '**document**'.|\n",
        "|**setIdCol()***  |optional|String type column with id information|\n",
        "|**setMetadataCol()*** |optional|Map type column with metadata information.|\n",
        "|**setCleanupMode()***|optional| Cleaning up options|\n",
        "\n",
        "\n",
        "possible values for setCleanupMode :\n",
        "  ```\n",
        "  disabled: Source kept as original. This is a default.\n",
        "  inplace: removes new lines and tabs.\n",
        "  inplace_full: removes new lines and tabs but also those which were converted to strings (i.e. \\n)\n",
        "  shrink: removes new lines and tabs, plus merging multiple spaces and blank lines to a single space.\n",
        "  shrink_full: remove new lines and tabs, including stringified values, plus shrinking spaces and blank lines.\n",
        "  ```"
      ]
    },
    {
      "cell_type": "code",
      "execution_count": null,
      "metadata": {
        "colab": {
          "base_uri": "https://localhost:8080/"
        },
        "id": "7aV9M823mWXF",
        "outputId": "faeacc37-4266-407f-a4a3-7abfbeedaa71"
      },
      "outputs": [
        {
          "output_type": "stream",
          "name": "stdout",
          "text": [
            "+--------------------+\n",
            "|                text|\n",
            "+--------------------+\n",
            "|Peter is a very g...|\n",
            "|My life in Russia...|\n",
            "|John and Peter ar...|\n",
            "|Lucas Nogal Dunbe...|\n",
            "|Europe is very cu...|\n",
            "+--------------------+\n",
            "\n"
          ]
        }
      ],
      "source": [
        "spark_df.show()"
      ]
    },
    {
      "cell_type": "code",
      "execution_count": null,
      "metadata": {
        "colab": {
          "base_uri": "https://localhost:8080/"
        },
        "id": "p8kMdclKHr-O",
        "outputId": "8fe046e8-7ccf-4169-9b35-79a686c9a80a"
      },
      "outputs": [
        {
          "output_type": "stream",
          "name": "stdout",
          "text": [
            "+-----------------------------------------------------------------------------+\n",
            "|text                                                                         |\n",
            "+-----------------------------------------------------------------------------+\n",
            "|Peter is a very good person.                                                 |\n",
            "|My life in Russia is very interesting.                                       |\n",
            "|John and Peter are brothers. However they don't support each other that much.|\n",
            "|Lucas Nogal Dunbercker is no longer happy. He has a good car though.         |\n",
            "|Europe is very culture rich. There are huge churches! and big houses!        |\n",
            "+-----------------------------------------------------------------------------+\n",
            "\n"
          ]
        }
      ],
      "source": [
        "spark_df.show(truncate=False)"
      ]
    },
    {
      "cell_type": "code",
      "execution_count": null,
      "metadata": {
        "colab": {
          "base_uri": "https://localhost:8080/"
        },
        "id": "E76Z1SCPLOyy",
        "outputId": "1690ef1f-1aa3-499e-fff9-84a71b7457aa"
      },
      "outputs": [
        {
          "output_type": "stream",
          "name": "stdout",
          "text": [
            "+-----------------------------------------------------------------------------+-----------------------------------------------------------------------------------------------------------------------+\n",
            "|text                                                                         |document                                                                                                               |\n",
            "+-----------------------------------------------------------------------------+-----------------------------------------------------------------------------------------------------------------------+\n",
            "|Peter is a very good person.                                                 |[{document, 0, 27, Peter is a very good person., {sentence -> 0}, []}]                                                 |\n",
            "|My life in Russia is very interesting.                                       |[{document, 0, 37, My life in Russia is very interesting., {sentence -> 0}, []}]                                       |\n",
            "|John and Peter are brothers. However they don't support each other that much.|[{document, 0, 76, John and Peter are brothers. However they don't support each other that much., {sentence -> 0}, []}]|\n",
            "|Lucas Nogal Dunbercker is no longer happy. He has a good car though.         |[{document, 0, 67, Lucas Nogal Dunbercker is no longer happy. He has a good car though., {sentence -> 0}, []}]         |\n",
            "|Europe is very culture rich. There are huge churches! and big houses!        |[{document, 0, 68, Europe is very culture rich. There are huge churches! and big houses!, {sentence -> 0}, []}]        |\n",
            "+-----------------------------------------------------------------------------+-----------------------------------------------------------------------------------------------------------------------+\n",
            "\n"
          ]
        }
      ],
      "source": [
        "from sparknlp.base import *\n",
        "\n",
        "documentAssembler = DocumentAssembler()\\\n",
        "    .setInputCol(\"text\")\\\n",
        "    .setOutputCol(\"document\")\\\n",
        "    .setCleanupMode(\"shrink\")\n",
        "\n",
        "doc_df = documentAssembler.transform(spark_df)\n",
        "\n",
        "doc_df.show(truncate=False)"
      ]
    },
    {
      "cell_type": "markdown",
      "metadata": {
        "id": "4gAyd6D0MSDF"
      },
      "source": [
        "At first, we define DocumentAssembler with desired parameters and then transform the data frame with it. The most important point to pay attention to here is that you need to use a String or String[Array] type column in .setInputCol(). So it doesn’t have to be named as text. You just use the column name as it is."
      ]
    },
    {
      "cell_type": "code",
      "execution_count": null,
      "metadata": {
        "colab": {
          "base_uri": "https://localhost:8080/"
        },
        "id": "Ui6Ufm_fMS5h",
        "outputId": "0f8ef585-73e4-4712-f8bd-7f9aac303372"
      },
      "outputs": [
        {
          "output_type": "stream",
          "name": "stdout",
          "text": [
            "root\n",
            " |-- text: string (nullable = true)\n",
            " |-- document: array (nullable = true)\n",
            " |    |-- element: struct (containsNull = true)\n",
            " |    |    |-- annotatorType: string (nullable = true)\n",
            " |    |    |-- begin: integer (nullable = false)\n",
            " |    |    |-- end: integer (nullable = false)\n",
            " |    |    |-- result: string (nullable = true)\n",
            " |    |    |-- metadata: map (nullable = true)\n",
            " |    |    |    |-- key: string\n",
            " |    |    |    |-- value: string (valueContainsNull = true)\n",
            " |    |    |-- embeddings: array (nullable = true)\n",
            " |    |    |    |-- element: float (containsNull = false)\n",
            "\n"
          ]
        }
      ],
      "source": [
        "doc_df.printSchema()"
      ]
    },
    {
      "cell_type": "code",
      "execution_count": null,
      "metadata": {
        "colab": {
          "base_uri": "https://localhost:8080/"
        },
        "id": "UHX6sM47NIVP",
        "outputId": "b45ca5ea-ac51-4c85-f8dc-d8ffc11bcc70"
      },
      "outputs": [
        {
          "output_type": "stream",
          "name": "stdout",
          "text": [
            "+-------------------------------------------------------------------------------+-----+----+\n",
            "|result                                                                         |begin|end |\n",
            "+-------------------------------------------------------------------------------+-----+----+\n",
            "|[Peter is a very good person.]                                                 |[0]  |[27]|\n",
            "|[My life in Russia is very interesting.]                                       |[0]  |[37]|\n",
            "|[John and Peter are brothers. However they don't support each other that much.]|[0]  |[76]|\n",
            "|[Lucas Nogal Dunbercker is no longer happy. He has a good car though.]         |[0]  |[67]|\n",
            "|[Europe is very culture rich. There are huge churches! and big houses!]        |[0]  |[68]|\n",
            "+-------------------------------------------------------------------------------+-----+----+\n",
            "\n"
          ]
        }
      ],
      "source": [
        "doc_df.select('document.result','document.begin','document.end').show(truncate=False)"
      ]
    },
    {
      "cell_type": "markdown",
      "metadata": {
        "id": "1zb-mdaNMbS5"
      },
      "source": [
        "The new column is in an array of struct type and has the parameters shown above. The annotators and transformers all come with universal metadata that would be filled down the road depending on the annotators being used. Unless you want to append other Spark NLP annotators to DocumentAssembler(), you don’t need to know what all these parameters mean for now. So we will talk about them in the following articles. You can access all these parameters with {column name}.{parameter name}.\n",
        "\n",
        "Let’s print out the first item’s result."
      ]
    },
    {
      "cell_type": "code",
      "execution_count": null,
      "metadata": {
        "colab": {
          "base_uri": "https://localhost:8080/"
        },
        "id": "r-EWE7TIMb69",
        "outputId": "43d78b7b-ad71-4fd8-f14c-61b9fa3249c9"
      },
      "outputs": [
        {
          "output_type": "execute_result",
          "data": {
            "text/plain": [
              "[Row(result=['Peter is a very good person.'])]"
            ]
          },
          "metadata": {},
          "execution_count": 18
        }
      ],
      "source": [
        "doc_df.select(\"document.result\").take(1)"
      ]
    },
    {
      "cell_type": "markdown",
      "metadata": {
        "id": "SiogyzI-MjsI"
      },
      "source": [
        "If we would like to flatten the document column, we can do as follows.\n"
      ]
    },
    {
      "cell_type": "code",
      "execution_count": null,
      "metadata": {
        "colab": {
          "base_uri": "https://localhost:8080/"
        },
        "id": "ocMbESMGMeJA",
        "outputId": "61ba1c6d-d63a-4f9d-a02a-0e5410018a44"
      },
      "outputs": [
        {
          "output_type": "stream",
          "name": "stdout",
          "text": [
            "+-------------+-----+---+-----------------------------------------------------------------------------+---------------+----------+\n",
            "|annotatorType|begin|end|result                                                                       |metadata       |embeddings|\n",
            "+-------------+-----+---+-----------------------------------------------------------------------------+---------------+----------+\n",
            "|document     |0    |27 |Peter is a very good person.                                                 |{sentence -> 0}|[]        |\n",
            "|document     |0    |37 |My life in Russia is very interesting.                                       |{sentence -> 0}|[]        |\n",
            "|document     |0    |76 |John and Peter are brothers. However they don't support each other that much.|{sentence -> 0}|[]        |\n",
            "|document     |0    |67 |Lucas Nogal Dunbercker is no longer happy. He has a good car though.         |{sentence -> 0}|[]        |\n",
            "|document     |0    |68 |Europe is very culture rich. There are huge churches! and big houses!        |{sentence -> 0}|[]        |\n",
            "+-------------+-----+---+-----------------------------------------------------------------------------+---------------+----------+\n",
            "\n"
          ]
        }
      ],
      "source": [
        "import pyspark.sql.functions as F\n",
        "\n",
        "doc_df.withColumn(\n",
        "    \"tmp\", \n",
        "    F.explode(\"document\"))\\\n",
        "    .select(\"tmp.*\")\\\n",
        "    .show(truncate=False)"
      ]
    },
    {
      "cell_type": "markdown",
      "metadata": {
        "id": "yYxUBF6vMl3o"
      },
      "source": [
        "## **Sentence Detector**"
      ]
    },
    {
      "cell_type": "markdown",
      "metadata": {
        "id": "H8YL-VNMcfQx"
      },
      "source": [
        "Finds sentence bounds in raw text. "
      ]
    },
    {
      "cell_type": "markdown",
      "metadata": {
        "id": "NeFCrak7chlb"
      },
      "source": [
        "| Parametre  | Value | Description |\n",
        "| - | - | - |\n",
        "|**setCustomBounds()***       |String |Custom sentence separator text e.g. `[\"\\n\"]`|\n",
        "|**setUseCustomOnly()*** |Bool|Use only custom bounds without considering those of Pragmatic Segmenter. Defaults to false. Needs customBounds.|\n",
        "|**setUseAbbreviations***  |Bool| Whether to consider abbreviation strategies for better accuracy but slower performance. Defaults to true.|\n",
        "|**setExplodeSentences*** |Bool|Whether to split sentences into different Dataset rows. Useful for higher parallelism in fat rows. Defaults to false.|\n"
      ]
    },
    {
      "cell_type": "code",
      "execution_count": null,
      "metadata": {
        "id": "hfMNS_fXb3mx"
      },
      "outputs": [],
      "source": [
        "from sparknlp.annotator import *\n",
        "\n",
        "# we feed the document column coming from Document Assembler\n",
        "\n",
        "sentenceDetector = SentenceDetector()\\\n",
        "      .setInputCols(['document'])\\\n",
        "      .setOutputCol('sentences')"
      ]
    },
    {
      "cell_type": "code",
      "execution_count": null,
      "metadata": {
        "colab": {
          "base_uri": "https://localhost:8080/"
        },
        "id": "atHSGu_oIK6C",
        "outputId": "dfe36280-2eaa-43aa-b192-4072c59e78c8"
      },
      "outputs": [
        {
          "output_type": "execute_result",
          "data": {
            "text/plain": [
              "{Param(parent='SentenceDetector_6cc5bc86691e', name='lazyAnnotator', doc='Whether this AnnotatorModel acts as lazy in RecursivePipelines'): False,\n",
              " Param(parent='SentenceDetector_6cc5bc86691e', name='useAbbreviations', doc='whether to apply abbreviations at sentence detection'): True,\n",
              " Param(parent='SentenceDetector_6cc5bc86691e', name='detectLists', doc='whether detect lists during sentence detection'): True,\n",
              " Param(parent='SentenceDetector_6cc5bc86691e', name='useCustomBoundsOnly', doc='Only utilize custom bounds in sentence detection'): False,\n",
              " Param(parent='SentenceDetector_6cc5bc86691e', name='customBounds', doc='characters used to explicitly mark sentence bounds'): [],\n",
              " Param(parent='SentenceDetector_6cc5bc86691e', name='customBoundsStrategy', doc='How to return matched custom bounds'): 'none',\n",
              " Param(parent='SentenceDetector_6cc5bc86691e', name='explodeSentences', doc='whether to explode each sentence into a different row, for better parallelization. Defaults to false.'): False,\n",
              " Param(parent='SentenceDetector_6cc5bc86691e', name='minLength', doc='Set the minimum allowed length for each sentence.'): 0,\n",
              " Param(parent='SentenceDetector_6cc5bc86691e', name='maxLength', doc='Set the maximum allowed length for each sentence'): 99999,\n",
              " Param(parent='SentenceDetector_6cc5bc86691e', name='inputCols', doc='previous annotations columns, if renamed'): ['document'],\n",
              " Param(parent='SentenceDetector_6cc5bc86691e', name='outputCol', doc='output annotation column. can be left default.'): 'sentences'}"
            ]
          },
          "metadata": {},
          "execution_count": 21
        }
      ],
      "source": [
        "sentenceDetector.extractParamMap()"
      ]
    },
    {
      "cell_type": "code",
      "execution_count": null,
      "metadata": {
        "colab": {
          "base_uri": "https://localhost:8080/"
        },
        "id": "uNGl8ndXnTKA",
        "outputId": "2f2eabc7-891d-438d-f3b7-751fb1c486db"
      },
      "outputs": [
        {
          "output_type": "stream",
          "name": "stdout",
          "text": [
            "+-----------------------------------------------------------------------------+-----------------------------------------------------------------------------------------------------------------------+\n",
            "|text                                                                         |document                                                                                                               |\n",
            "+-----------------------------------------------------------------------------+-----------------------------------------------------------------------------------------------------------------------+\n",
            "|Peter is a very good person.                                                 |[{document, 0, 27, Peter is a very good person., {sentence -> 0}, []}]                                                 |\n",
            "|My life in Russia is very interesting.                                       |[{document, 0, 37, My life in Russia is very interesting., {sentence -> 0}, []}]                                       |\n",
            "|John and Peter are brothers. However they don't support each other that much.|[{document, 0, 76, John and Peter are brothers. However they don't support each other that much., {sentence -> 0}, []}]|\n",
            "|Lucas Nogal Dunbercker is no longer happy. He has a good car though.         |[{document, 0, 67, Lucas Nogal Dunbercker is no longer happy. He has a good car though., {sentence -> 0}, []}]         |\n",
            "|Europe is very culture rich. There are huge churches! and big houses!        |[{document, 0, 68, Europe is very culture rich. There are huge churches! and big houses!, {sentence -> 0}, []}]        |\n",
            "+-----------------------------------------------------------------------------+-----------------------------------------------------------------------------------------------------------------------+\n",
            "\n"
          ]
        }
      ],
      "source": [
        "doc_df.show(truncate=False)"
      ]
    },
    {
      "cell_type": "code",
      "execution_count": null,
      "metadata": {
        "colab": {
          "base_uri": "https://localhost:8080/"
        },
        "id": "yMcJmxwyeii3",
        "outputId": "c6140fe7-3315-44d6-ded4-51f72a4d26ca"
      },
      "outputs": [
        {
          "output_type": "stream",
          "name": "stdout",
          "text": [
            "+-----------------------------------------------------------------------------+-----------------------------------------------------------------------------------------------------------------------+---------------------------------------------------------------------------------------------------------------------------------------------------------------------------------------------------+\n",
            "|text                                                                         |document                                                                                                               |sentences                                                                                                                                                                                          |\n",
            "+-----------------------------------------------------------------------------+-----------------------------------------------------------------------------------------------------------------------+---------------------------------------------------------------------------------------------------------------------------------------------------------------------------------------------------+\n",
            "|Peter is a very good person.                                                 |[{document, 0, 27, Peter is a very good person., {sentence -> 0}, []}]                                                 |[{document, 0, 27, Peter is a very good person., {sentence -> 0}, []}]                                                                                                                             |\n",
            "|My life in Russia is very interesting.                                       |[{document, 0, 37, My life in Russia is very interesting., {sentence -> 0}, []}]                                       |[{document, 0, 37, My life in Russia is very interesting., {sentence -> 0}, []}]                                                                                                                   |\n",
            "|John and Peter are brothers. However they don't support each other that much.|[{document, 0, 76, John and Peter are brothers. However they don't support each other that much., {sentence -> 0}, []}]|[{document, 0, 27, John and Peter are brothers., {sentence -> 0}, []}, {document, 29, 76, However they don't support each other that much., {sentence -> 1}, []}]                                  |\n",
            "|Lucas Nogal Dunbercker is no longer happy. He has a good car though.         |[{document, 0, 67, Lucas Nogal Dunbercker is no longer happy. He has a good car though., {sentence -> 0}, []}]         |[{document, 0, 41, Lucas Nogal Dunbercker is no longer happy., {sentence -> 0}, []}, {document, 43, 67, He has a good car though., {sentence -> 1}, []}]                                           |\n",
            "|Europe is very culture rich. There are huge churches! and big houses!        |[{document, 0, 68, Europe is very culture rich. There are huge churches! and big houses!, {sentence -> 0}, []}]        |[{document, 0, 27, Europe is very culture rich., {sentence -> 0}, []}, {document, 29, 52, There are huge churches!, {sentence -> 1}, []}, {document, 54, 68, and big houses!, {sentence -> 2}, []}]|\n",
            "+-----------------------------------------------------------------------------+-----------------------------------------------------------------------------------------------------------------------+---------------------------------------------------------------------------------------------------------------------------------------------------------------------------------------------------+\n",
            "\n"
          ]
        }
      ],
      "source": [
        "sent_df = sentenceDetector.transform(doc_df)\n",
        "\n",
        "sent_df.show(truncate=False)"
      ]
    },
    {
      "cell_type": "code",
      "execution_count": null,
      "metadata": {
        "colab": {
          "base_uri": "https://localhost:8080/"
        },
        "id": "uJrXlWNWfSs2",
        "outputId": "3e81a6b5-b554-486b-a9ea-f729ba436918"
      },
      "outputs": [
        {
          "output_type": "execute_result",
          "data": {
            "text/plain": [
              "[Row(sentences=[Row(annotatorType='document', begin=0, end=27, result='Peter is a very good person.', metadata={'sentence': '0'}, embeddings=[])]),\n",
              " Row(sentences=[Row(annotatorType='document', begin=0, end=37, result='My life in Russia is very interesting.', metadata={'sentence': '0'}, embeddings=[])]),\n",
              " Row(sentences=[Row(annotatorType='document', begin=0, end=27, result='John and Peter are brothers.', metadata={'sentence': '0'}, embeddings=[]), Row(annotatorType='document', begin=29, end=76, result=\"However they don't support each other that much.\", metadata={'sentence': '1'}, embeddings=[])])]"
            ]
          },
          "metadata": {},
          "execution_count": 24
        }
      ],
      "source": [
        "sent_df.select('sentences').take(3)"
      ]
    },
    {
      "cell_type": "code",
      "execution_count": null,
      "metadata": {
        "colab": {
          "base_uri": "https://localhost:8080/"
        },
        "id": "9lfy4uxkntFx",
        "outputId": "44a322f9-af7f-4f54-b35a-2110b2a4d4ee"
      },
      "outputs": [
        {
          "output_type": "execute_result",
          "data": {
            "text/plain": [
              "[Row(result=['Peter is a very good person.']),\n",
              " Row(result=['My life in Russia is very interesting.']),\n",
              " Row(result=['John and Peter are brothers.', \"However they don't support each other that much.\"])]"
            ]
          },
          "metadata": {},
          "execution_count": 25
        }
      ],
      "source": [
        "sent_df.select('sentences.result').take(3)"
      ]
    },
    {
      "cell_type": "code",
      "execution_count": null,
      "metadata": {
        "colab": {
          "base_uri": "https://localhost:8080/"
        },
        "id": "2rXfNjSKpcxs",
        "outputId": "7c4d6cbb-3d7a-4264-a7a5-9bffa31fd2b0"
      },
      "outputs": [
        {
          "output_type": "execute_result",
          "data": {
            "text/plain": [
              "[Row(metadata=[{'sentence': '0'}]),\n",
              " Row(metadata=[{'sentence': '0'}]),\n",
              " Row(metadata=[{'sentence': '0'}, {'sentence': '1'}])]"
            ]
          },
          "metadata": {},
          "execution_count": 26
        }
      ],
      "source": [
        "sent_df.select('sentences.metadata').take(3)"
      ]
    },
    {
      "cell_type": "code",
      "execution_count": null,
      "metadata": {
        "colab": {
          "base_uri": "https://localhost:8080/",
          "height": 53
        },
        "id": "Ly4eTKK0Th60",
        "outputId": "af40af92-4647-4835-f991-3b3ced833aa2"
      },
      "outputs": [
        {
          "output_type": "execute_result",
          "data": {
            "text/plain": [
              "'The patient was prescribed 1 capsule of Advil for 5 days. He was seen by the endocrinology service and she was discharged on 40 units of insulin glargine at night, 12 units of insulin lispro with meals, and metformin 1000 mg two times a day. It was determined that all SGLT2 inhibitors should be discontinued indefinitely fro 3 months.'"
            ],
            "application/vnd.google.colaboratory.intrinsic+json": {
              "type": "string"
            }
          },
          "metadata": {},
          "execution_count": 27
        }
      ],
      "source": [
        "text ='The patient was prescribed 1 capsule of Advil for 5 days. He was seen by the endocrinology service and she was discharged on 40 units of insulin glargine at night, 12 units of insulin lispro with meals, and metformin 1000 mg two times a day. It was determined that all SGLT2 inhibitors should be discontinued indefinitely fro 3 months.'\n",
        "text\n"
      ]
    },
    {
      "cell_type": "code",
      "execution_count": null,
      "metadata": {
        "colab": {
          "base_uri": "https://localhost:8080/"
        },
        "id": "q3wTJSVnULpX",
        "outputId": "b511f23b-e469-41c3-bfe7-2adeee567140"
      },
      "outputs": [
        {
          "output_type": "stream",
          "name": "stdout",
          "text": [
            "+-----------------------------------------------------------------------------------------------------------------------------------------------------------------------------------------------------------------------------------------------------------------------------------------------------------------------------------------------+\n",
            "|text                                                                                                                                                                                                                                                                                                                                           |\n",
            "+-----------------------------------------------------------------------------------------------------------------------------------------------------------------------------------------------------------------------------------------------------------------------------------------------------------------------------------------------+\n",
            "|The patient was prescribed 1 capsule of Advil for 5 days. He was seen by the endocrinology service and she was discharged on 40 units of insulin glargine at night, 12 units of insulin lispro with meals, and metformin 1000 mg two times a day. It was determined that all SGLT2 inhibitors should be discontinued indefinitely fro 3 months.|\n",
            "+-----------------------------------------------------------------------------------------------------------------------------------------------------------------------------------------------------------------------------------------------------------------------------------------------------------------------------------------------+\n",
            "\n"
          ]
        }
      ],
      "source": [
        "spark_df = spark.createDataFrame([[text]]).toDF(\"text\")\n",
        "\n",
        "spark_df.show(truncate=False)"
      ]
    },
    {
      "cell_type": "code",
      "execution_count": null,
      "metadata": {
        "colab": {
          "base_uri": "https://localhost:8080/"
        },
        "id": "bkF2C2_GVK2S",
        "outputId": "f79e17ae-9cf3-4625-8461-84ad63b8d58a"
      },
      "outputs": [
        {
          "output_type": "stream",
          "name": "stdout",
          "text": [
            "+--------------------------------------------------+\n",
            "|                                              text|\n",
            "+--------------------------------------------------+\n",
            "|The patient was prescribed 1 capsule of Advil f...|\n",
            "+--------------------------------------------------+\n",
            "\n"
          ]
        }
      ],
      "source": [
        "spark_df.show(truncate=50)"
      ]
    },
    {
      "cell_type": "code",
      "execution_count": null,
      "metadata": {
        "colab": {
          "base_uri": "https://localhost:8080/"
        },
        "id": "UASqrLkWV2sJ",
        "outputId": "160f24a2-5bab-4b4b-bd8f-48bd3579d637"
      },
      "outputs": [
        {
          "output_type": "stream",
          "name": "stdout",
          "text": [
            "+--------------------------------------------------+--------------------------------------------------+--------------------------------------------------+\n",
            "|                                              text|                                          document|                                         sentences|\n",
            "+--------------------------------------------------+--------------------------------------------------+--------------------------------------------------+\n",
            "|The patient was prescribed 1 capsule of Advil f...|[{document, 0, 334, The patient was prescribed ...|[{document, 0, 56, The patient was prescribed 1...|\n",
            "+--------------------------------------------------+--------------------------------------------------+--------------------------------------------------+\n",
            "\n"
          ]
        }
      ],
      "source": [
        "doc_df = documentAssembler.transform(spark_df)\n",
        "\n",
        "sent_df = sentenceDetector.transform(doc_df)\n",
        "\n",
        "sent_df.show(truncate=50)"
      ]
    },
    {
      "cell_type": "code",
      "execution_count": null,
      "metadata": {
        "colab": {
          "base_uri": "https://localhost:8080/"
        },
        "id": "rYSQKC4lWf_m",
        "outputId": "9c0240fc-8d52-4865-ca1e-815d2e8b2252"
      },
      "outputs": [
        {
          "output_type": "execute_result",
          "data": {
            "text/plain": [
              "[Row(result=['The patient was prescribed 1 capsule of Advil for 5 days.', 'He was seen by the endocrinology service and she was discharged on 40 units of insulin glargine at night, 12 units of insulin lispro with meals, and metformin 1000 mg two times a day.', 'It was determined that all SGLT2 inhibitors should be discontinued indefinitely fro 3 months.'])]"
            ]
          },
          "metadata": {},
          "execution_count": 31
        }
      ],
      "source": [
        "sent_df.select('sentences.result').take(1)"
      ]
    },
    {
      "cell_type": "code",
      "execution_count": null,
      "metadata": {
        "colab": {
          "base_uri": "https://localhost:8080/"
        },
        "id": "ZBjcZbj8WwxC",
        "outputId": "bb5929d0-629b-49dd-9af0-8d68f3b220d2"
      },
      "outputs": [
        {
          "output_type": "execute_result",
          "data": {
            "text/plain": [
              "SentenceDetector_6cc5bc86691e"
            ]
          },
          "metadata": {},
          "execution_count": 32
        }
      ],
      "source": [
        "# setExplodeSentences: Whether to split sentences into different Dataset rows. Useful for higher parallelism in fat rows. Defaults to false.\n",
        "\n",
        "sentenceDetector.setExplodeSentences(True)"
      ]
    },
    {
      "cell_type": "code",
      "execution_count": null,
      "metadata": {
        "colab": {
          "base_uri": "https://localhost:8080/"
        },
        "id": "hJ6b7ZEXW8UY",
        "outputId": "426cac11-956e-41ca-ec41-cc7cd396af5f"
      },
      "outputs": [
        {
          "output_type": "stream",
          "name": "stdout",
          "text": [
            "+--------------------------------------------------+--------------------------------------------------+--------------------------------------------------+\n",
            "|                                              text|                                          document|                                         sentences|\n",
            "+--------------------------------------------------+--------------------------------------------------+--------------------------------------------------+\n",
            "|The patient was prescribed 1 capsule of Advil f...|[{document, 0, 334, The patient was prescribed ...|[{document, 0, 56, The patient was prescribed 1...|\n",
            "|The patient was prescribed 1 capsule of Advil f...|[{document, 0, 334, The patient was prescribed ...|[{document, 58, 240, He was seen by the endocri...|\n",
            "|The patient was prescribed 1 capsule of Advil f...|[{document, 0, 334, The patient was prescribed ...|[{document, 242, 334, It was determined that al...|\n",
            "+--------------------------------------------------+--------------------------------------------------+--------------------------------------------------+\n",
            "\n"
          ]
        }
      ],
      "source": [
        "sent_df = sentenceDetector.transform(doc_df)\n",
        "\n",
        "sent_df.show(truncate=50)"
      ]
    },
    {
      "cell_type": "code",
      "execution_count": null,
      "metadata": {
        "colab": {
          "base_uri": "https://localhost:8080/"
        },
        "id": "9UEVo1RTs3ok",
        "outputId": "3e2296ba-d0f8-4c47-abba-dcd148b6ad46"
      },
      "outputs": [
        {
          "output_type": "stream",
          "name": "stdout",
          "text": [
            "+-----------------------------------------------------------------------------------------------------------------------------------------------------------------------------------------+\n",
            "|result                                                                                                                                                                                   |\n",
            "+-----------------------------------------------------------------------------------------------------------------------------------------------------------------------------------------+\n",
            "|[The patient was prescribed 1 capsule of Advil for 5 days.]                                                                                                                              |\n",
            "|[He was seen by the endocrinology service and she was discharged on 40 units of insulin glargine at night, 12 units of insulin lispro with meals, and metformin 1000 mg two times a day.]|\n",
            "|[It was determined that all SGLT2 inhibitors should be discontinued indefinitely fro 3 months.]                                                                                          |\n",
            "+-----------------------------------------------------------------------------------------------------------------------------------------------------------------------------------------+\n",
            "\n"
          ]
        }
      ],
      "source": [
        "sent_df.select('sentences.result').show(truncate=False)"
      ]
    },
    {
      "cell_type": "code",
      "execution_count": null,
      "metadata": {
        "colab": {
          "base_uri": "https://localhost:8080/"
        },
        "id": "AYvdI1mkysgJ",
        "outputId": "2d258ffe-eafa-4ec5-8c34-4262f9e718e0"
      },
      "outputs": [
        {
          "output_type": "stream",
          "name": "stdout",
          "text": [
            "+---------------------------------------------------------------------------------------------------------------------------------------------------------------------------------------+\n",
            "|col                                                                                                                                                                                    |\n",
            "+---------------------------------------------------------------------------------------------------------------------------------------------------------------------------------------+\n",
            "|The patient was prescribed 1 capsule of Advil for 5 days.                                                                                                                              |\n",
            "|He was seen by the endocrinology service and she was discharged on 40 units of insulin glargine at night, 12 units of insulin lispro with meals, and metformin 1000 mg two times a day.|\n",
            "|It was determined that all SGLT2 inhibitors should be discontinued indefinitely fro 3 months.                                                                                          |\n",
            "+---------------------------------------------------------------------------------------------------------------------------------------------------------------------------------------+\n",
            "\n"
          ]
        }
      ],
      "source": [
        "from pyspark.sql import functions as F\n",
        "\n",
        "sent_df.select(F.explode('sentences.result')).show(truncate=False)"
      ]
    },
    {
      "cell_type": "markdown",
      "metadata": {
        "id": "vpSNJ1Z4tzbE"
      },
      "source": [
        "**`.setCustomBounds([r\"\\\\.\", \";\"])`**\n",
        "\n",
        "**`.setCustomBoundsStrategy(\"append\")`**\n"
      ]
    },
    {
      "cell_type": "code",
      "execution_count": null,
      "metadata": {
        "id": "A2zB7ICWrZUd"
      },
      "outputs": [],
      "source": [
        "text = [\n",
        "    [\"Peter is a very good person.\"],\n",
        "    [\"My life in Russia is very interesting.\"], \n",
        "    [\"John and Peter are brothers. However; they don't support each other that much.\"],\n",
        "    [\"Lucas Nogal Dunbercker is no longer happy. He has a good car though.\"],\n",
        "    [\"Europe is very culture rich. There are huge churches! and big houses!\"]\n",
        "    ]"
      ]
    },
    {
      "cell_type": "code",
      "execution_count": null,
      "metadata": {
        "colab": {
          "base_uri": "https://localhost:8080/"
        },
        "id": "kDeWXEcvr1rz",
        "outputId": "156ab4a7-b71f-4396-9519-bcf421ddce90"
      },
      "outputs": [
        {
          "output_type": "stream",
          "name": "stdout",
          "text": [
            "+------------------------------------------------------------------------------+\n",
            "|text                                                                          |\n",
            "+------------------------------------------------------------------------------+\n",
            "|Peter is a very good person.                                                  |\n",
            "|My life in Russia is very interesting.                                        |\n",
            "|John and Peter are brothers. However; they don't support each other that much.|\n",
            "|Lucas Nogal Dunbercker is no longer happy. He has a good car though.          |\n",
            "|Europe is very culture rich. There are huge churches! and big houses!         |\n",
            "+------------------------------------------------------------------------------+\n",
            "\n"
          ]
        }
      ],
      "source": [
        "spark_df = spark.createDataFrame(text).toDF(\"text\")\n",
        "spark_df.show(truncate=False)"
      ]
    },
    {
      "cell_type": "code",
      "execution_count": null,
      "metadata": {
        "id": "EaeWEgBUsc9I"
      },
      "outputs": [],
      "source": [
        "doc_df = documentAssembler.transform(spark_df)"
      ]
    },
    {
      "cell_type": "code",
      "execution_count": null,
      "metadata": {
        "colab": {
          "base_uri": "https://localhost:8080/"
        },
        "id": "awALJxI2rNXa",
        "outputId": "9d72c21f-40e5-4092-fbb5-cd228588225a"
      },
      "outputs": [
        {
          "output_type": "stream",
          "name": "stdout",
          "text": [
            "+------------------------------------------------------------------------------+------------------------------------------------------------------------------------------------------------------------+------------------------------------------------------------------------------------------------------------------------------------------------------------------------------------------------------------+\n",
            "|text                                                                          |document                                                                                                                |sentences                                                                                                                                                                                                   |\n",
            "+------------------------------------------------------------------------------+------------------------------------------------------------------------------------------------------------------------+------------------------------------------------------------------------------------------------------------------------------------------------------------------------------------------------------------+\n",
            "|Peter is a very good person.                                                  |[{document, 0, 27, Peter is a very good person., {sentence -> 0}, []}]                                                  |[{document, 0, 27, Peter is a very good person., {sentence -> 0}, []}]                                                                                                                                      |\n",
            "|My life in Russia is very interesting.                                        |[{document, 0, 37, My life in Russia is very interesting., {sentence -> 0}, []}]                                        |[{document, 0, 37, My life in Russia is very interesting., {sentence -> 0}, []}]                                                                                                                            |\n",
            "|John and Peter are brothers. However; they don't support each other that much.|[{document, 0, 77, John and Peter are brothers. However; they don't support each other that much., {sentence -> 0}, []}]|[{document, 0, 27, John and Peter are brothers., {sentence -> 0}, []}, {document, 29, 36, However;, {sentence -> 1}, []}, {document, 38, 77, they don't support each other that much., {sentence -> 2}, []}]|\n",
            "|Lucas Nogal Dunbercker is no longer happy. He has a good car though.          |[{document, 0, 67, Lucas Nogal Dunbercker is no longer happy. He has a good car though., {sentence -> 0}, []}]          |[{document, 0, 41, Lucas Nogal Dunbercker is no longer happy., {sentence -> 0}, []}, {document, 43, 67, He has a good car though., {sentence -> 1}, []}]                                                    |\n",
            "|Europe is very culture rich. There are huge churches! and big houses!         |[{document, 0, 68, Europe is very culture rich. There are huge churches! and big houses!, {sentence -> 0}, []}]         |[{document, 0, 27, Europe is very culture rich., {sentence -> 0}, []}, {document, 29, 52, There are huge churches!, {sentence -> 1}, []}, {document, 54, 68, and big houses!, {sentence -> 2}, []}]         |\n",
            "+------------------------------------------------------------------------------+------------------------------------------------------------------------------------------------------------------------+------------------------------------------------------------------------------------------------------------------------------------------------------------------------------------------------------------+\n",
            "\n"
          ]
        }
      ],
      "source": [
        "sentenceDetector = SentenceDetector()\\\n",
        "      .setInputCols(['document'])\\\n",
        "      .setOutputCol('sentences')\\\n",
        "      .setCustomBounds([r\"\\.\", \";\", \"!\"])\\\n",
        "      .setCustomBoundsStrategy(\"append\")\n",
        "      \n",
        "sent_df = sentenceDetector.transform(doc_df)\n",
        "sent_df.show(truncate=False)"
      ]
    },
    {
      "cell_type": "code",
      "execution_count": null,
      "metadata": {
        "colab": {
          "base_uri": "https://localhost:8080/"
        },
        "id": "-RHMB4glq5pS",
        "outputId": "23fd39af-f78f-491c-eb63-ae306eac8874"
      },
      "outputs": [
        {
          "output_type": "execute_result",
          "data": {
            "text/plain": [
              "[Row(result=['Peter is a very good person.']),\n",
              " Row(result=['My life in Russia is very interesting.']),\n",
              " Row(result=['John and Peter are brothers.', 'However;', \"they don't support each other that much.\"]),\n",
              " Row(result=['Lucas Nogal Dunbercker is no longer happy.', 'He has a good car though.']),\n",
              " Row(result=['Europe is very culture rich.', 'There are huge churches!', 'and big houses!'])]"
            ]
          },
          "metadata": {},
          "execution_count": 40
        }
      ],
      "source": [
        "sent_df.select('sentences.result').take(5)"
      ]
    },
    {
      "cell_type": "markdown",
      "metadata": {
        "id": "bg9a63CTv51L"
      },
      "source": [
        "**`.setCustomBoundsStrategy(\"prepend\")`**"
      ]
    },
    {
      "cell_type": "code",
      "execution_count": null,
      "metadata": {
        "colab": {
          "base_uri": "https://localhost:8080/"
        },
        "id": "YW8bMUNxszaF",
        "outputId": "776d85ff-4d19-405f-bf34-3172787fb3eb"
      },
      "outputs": [
        {
          "output_type": "stream",
          "name": "stdout",
          "text": [
            "+------------------------------------------------------------------------------+------------------------------------------------------------------------------------------------------------------------+---------------------------------------------------------------------------------------------------------------------------------------------------------------------------------------------------------------------------------------------------------------------------------------------------------------------------------------------+\n",
            "|text                                                                          |document                                                                                                                |sentences                                                                                                                                                                                                                                                                                                                                    |\n",
            "+------------------------------------------------------------------------------+------------------------------------------------------------------------------------------------------------------------+---------------------------------------------------------------------------------------------------------------------------------------------------------------------------------------------------------------------------------------------------------------------------------------------------------------------------------------------+\n",
            "|Peter is a very good person.                                                  |[{document, 0, 27, Peter is a very good person., {sentence -> 0}, []}]                                                  |[{document, 0, 26, Peter is a very good person, {sentence -> 0}, []}, {document, 27, 27, ., {sentence -> 1}, []}]                                                                                                                                                                                                                            |\n",
            "|My life in Russia is very interesting.                                        |[{document, 0, 37, My life in Russia is very interesting., {sentence -> 0}, []}]                                        |[{document, 0, 36, My life in Russia is very interesting, {sentence -> 0}, []}, {document, 37, 37, ., {sentence -> 1}, []}]                                                                                                                                                                                                                  |\n",
            "|John and Peter are brothers. However; they don't support each other that much.|[{document, 0, 77, John and Peter are brothers. However; they don't support each other that much., {sentence -> 0}, []}]|[{document, 0, 26, John and Peter are brothers, {sentence -> 0}, []}, {document, 27, 27, ., {sentence -> 1}, []}, {document, 29, 35, However, {sentence -> 2}, []}, {document, 36, 36, ;, {sentence -> 3}, []}, {document, 38, 76, they don't support each other that much, {sentence -> 4}, []}, {document, 77, 77, ., {sentence -> 5}, []}]|\n",
            "|Lucas Nogal Dunbercker is no longer happy. He has a good car though.          |[{document, 0, 67, Lucas Nogal Dunbercker is no longer happy. He has a good car though., {sentence -> 0}, []}]          |[{document, 0, 40, Lucas Nogal Dunbercker is no longer happy, {sentence -> 0}, []}, {document, 41, 41, ., {sentence -> 1}, []}, {document, 43, 66, He has a good car though, {sentence -> 2}, []}, {document, 67, 67, ., {sentence -> 3}, []}]                                                                                               |\n",
            "|Europe is very culture rich. There are huge churches! and big houses!         |[{document, 0, 68, Europe is very culture rich. There are huge churches! and big houses!, {sentence -> 0}, []}]         |[{document, 0, 26, Europe is very culture rich, {sentence -> 0}, []}, {document, 27, 27, ., {sentence -> 1}, []}, {document, 29, 51, There are huge churches, {sentence -> 2}, []}, {document, 52, 52, !, {sentence -> 3}, []}, {document, 54, 67, and big houses, {sentence -> 4}, []}, {document, 68, 68, !, {sentence -> 5}, []}]         |\n",
            "+------------------------------------------------------------------------------+------------------------------------------------------------------------------------------------------------------------+---------------------------------------------------------------------------------------------------------------------------------------------------------------------------------------------------------------------------------------------------------------------------------------------------------------------------------------------+\n",
            "\n"
          ]
        }
      ],
      "source": [
        "sentenceDetector = SentenceDetector()\\\n",
        "      .setInputCols(['document'])\\\n",
        "      .setOutputCol('sentences')\\\n",
        "      .setCustomBounds([r\"\\.\", \";\", \"!\"])\\\n",
        "      .setCustomBoundsStrategy(\"prepend\")\n",
        "\n",
        "sent_df = sentenceDetector.transform(doc_df)\n",
        "sent_df.show(truncate=False)"
      ]
    },
    {
      "cell_type": "code",
      "execution_count": null,
      "metadata": {
        "colab": {
          "base_uri": "https://localhost:8080/"
        },
        "id": "IT4E13iooMXA",
        "outputId": "10a27c27-722f-432f-a1fb-318a3e601cb5"
      },
      "outputs": [
        {
          "output_type": "execute_result",
          "data": {
            "text/plain": [
              "[Row(result=['Peter is a very good person', '.']),\n",
              " Row(result=['My life in Russia is very interesting', '.']),\n",
              " Row(result=['John and Peter are brothers', '.', 'However', ';', \"they don't support each other that much\", '.']),\n",
              " Row(result=['Lucas Nogal Dunbercker is no longer happy', '.', 'He has a good car though', '.']),\n",
              " Row(result=['Europe is very culture rich', '.', 'There are huge churches', '!', 'and big houses', '!'])]"
            ]
          },
          "metadata": {},
          "execution_count": 42
        }
      ],
      "source": [
        "sent_df.select('sentences.result').take(5)"
      ]
    },
    {
      "cell_type": "markdown",
      "metadata": {
        "id": "sk-r3ZiTxrAM"
      },
      "source": [
        "The separation of the sentences is determined according to the characters we set with custom bound. When we use `append`, sentences are differentiated according to the characters, if `prepend` is used, it also determines the characters as separate sentences."
      ]
    },
    {
      "cell_type": "markdown",
      "metadata": {
        "id": "pRiC65UdZ7LC"
      },
      "source": [
        "### **Sentence Detector DL**"
      ]
    },
    {
      "cell_type": "code",
      "execution_count": null,
      "metadata": {
        "id": "YIlgqqgLzZLl"
      },
      "outputs": [],
      "source": [
        "text ='The patient was prescribed 1 capsule of Advil for 5 days. He was seen by the endocrinology service and she was discharged on 40 units of insulin glargine at night, 12 units of insulin lispro with meals, and metformin 1000 mg two times a day. It was determined that all SGLT2 inhibitors should be discontinued indefinitely from 3 months.'\n",
        "\n",
        "spark_df = spark.createDataFrame([[text]]).toDF(\"text\")\n",
        "\n",
        "doc_df = documentAssembler.transform(spark_df)"
      ]
    },
    {
      "cell_type": "code",
      "execution_count": null,
      "metadata": {
        "colab": {
          "base_uri": "https://localhost:8080/"
        },
        "id": "Vsesd8t4aA0W",
        "outputId": "aa2a6bf3-2c5f-405d-81a3-d1b0c5429bd1"
      },
      "outputs": [
        {
          "output_type": "stream",
          "name": "stdout",
          "text": [
            "sentence_detector_dl download started this may take some time.\n",
            "Approximate size to download 354.6 KB\n",
            "[OK!]\n",
            "+---------------------------------------------------------------------------------------------------------------------------------------------------------------------------------------+\n",
            "|col                                                                                                                                                                                    |\n",
            "+---------------------------------------------------------------------------------------------------------------------------------------------------------------------------------------+\n",
            "|The patient was prescribed 1 capsule of Advil for 5 days.                                                                                                                              |\n",
            "|He was seen by the endocrinology service and she was discharged on 40 units of insulin glargine at night, 12 units of insulin lispro with meals, and metformin 1000 mg two times a day.|\n",
            "|It was determined that all SGLT2 inhibitors should be discontinued indefinitely from 3 months.                                                                                         |\n",
            "+---------------------------------------------------------------------------------------------------------------------------------------------------------------------------------------+\n",
            "\n"
          ]
        }
      ],
      "source": [
        "sentencerDL = SentenceDetectorDLModel\\\n",
        "    .pretrained(\"sentence_detector_dl\", \"en\") \\\n",
        "    .setInputCols([\"document\"]) \\\n",
        "    .setOutputCol(\"sentences\")\\\n",
        "\n",
        "sent_dl_df = sentencerDL.transform(doc_df)\n",
        "\n",
        "sent_dl_df.select(F.explode('sentences.result')).show(truncate=False)"
      ]
    },
    {
      "cell_type": "code",
      "execution_count": null,
      "metadata": {
        "colab": {
          "base_uri": "https://localhost:8080/"
        },
        "id": "kKZ6YKJebE_0",
        "outputId": "891d3cc5-edbb-44c2-8e3a-4ec766187533"
      },
      "outputs": [
        {
          "output_type": "stream",
          "name": "stdout",
          "text": [
            "sentence_detector_dl download started this may take some time.\n",
            "Approximate size to download 354.6 KB\n",
            "[OK!]\n"
          ]
        }
      ],
      "source": [
        "documenter = DocumentAssembler()\\\n",
        "    .setInputCol(\"text\")\\\n",
        "    .setOutputCol(\"document\")\n",
        "\n",
        "sentenceDetector = SentenceDetector()\\\n",
        "    .setInputCols(['document'])\\\n",
        "    .setOutputCol('sentences')\\\n",
        "    \n",
        "sentencerDL = SentenceDetectorDLModel\\\n",
        "    .pretrained(\"sentence_detector_dl\", \"en\") \\\n",
        "    .setInputCols([\"document\"]) \\\n",
        "    .setOutputCol(\"sentences\")\n",
        "\n",
        "\n",
        "sd_pipeline = PipelineModel(stages=[documenter, sentenceDetector])\n",
        "sd_model = LightPipeline(sd_pipeline)\n",
        "\n",
        "\n",
        "# DL version\n",
        "sd_dl_pipeline = PipelineModel(stages=[documenter, sentencerDL])\n",
        "sd_dl_model = LightPipeline(sd_dl_pipeline)"
      ]
    },
    {
      "cell_type": "code",
      "execution_count": null,
      "metadata": {
        "colab": {
          "base_uri": "https://localhost:8080/"
        },
        "id": "ylVTYULea6B-",
        "outputId": "3fe409d6-1736-47b0-a3f9-7e34ee04e771"
      },
      "outputs": [
        {
          "output_type": "stream",
          "name": "stdout",
          "text": [
            "0\t0\t51\tJohn loves Mary.Mary loves Peter\n",
            "Peter loves Helen .\n",
            "1\t52\t68\tHelen loves John;\n",
            "2\t71\t98\tTotal: four people involved.\n"
          ]
        }
      ],
      "source": [
        "text = \"\"\"John loves Mary.Mary loves Peter\n",
        "Peter loves Helen .Helen loves John; \n",
        "Total: four people involved.\"\"\"\n",
        "\n",
        "# sd_model\n",
        "for anno in sd_model.fullAnnotate(text)[0][\"sentences\"]:\n",
        "    print(\"{}\\t{}\\t{}\\t{}\".format(\n",
        "        anno.metadata[\"sentence\"], anno.begin, anno.end, anno.result))"
      ]
    },
    {
      "cell_type": "code",
      "execution_count": null,
      "metadata": {
        "colab": {
          "base_uri": "https://localhost:8080/"
        },
        "id": "SlSnXKZ3bmjR",
        "outputId": "fb52959b-3047-4285-d4dc-3aa4c8741dec"
      },
      "outputs": [
        {
          "output_type": "stream",
          "name": "stdout",
          "text": [
            "0\t0\t15\tJohn loves Mary.\n",
            "1\t16\t31\tMary loves Peter\n",
            "2\t33\t51\tPeter loves Helen .\n",
            "3\t52\t68\tHelen loves John;\n",
            "4\t71\t98\tTotal: four people involved.\n"
          ]
        }
      ],
      "source": [
        "# sd_dl_model\n",
        "for anno in sd_dl_model.fullAnnotate(text)[0][\"sentences\"]:\n",
        "    print(\"{}\\t{}\\t{}\\t{}\".format(\n",
        "        anno.metadata[\"sentence\"], anno.begin, anno.end, anno.result))"
      ]
    },
    {
      "cell_type": "markdown",
      "metadata": {
        "id": "ELZyacNqbgeq"
      },
      "source": [
        "## Tokenizer"
      ]
    },
    {
      "cell_type": "markdown",
      "metadata": {
        "id": "tnkBJxAqbu2b"
      },
      "source": [
        "Identifies tokens with tokenization open standards. It is an **Annotator Approach, so it requires .fit()**.\n",
        "\n",
        "A few rules will help customizing it if defaults do not fit user needs.\n",
        "\n",
        "setExceptions(StringArray): List of tokens to not alter at all. Allows composite tokens like two worded tokens that the user may not want to split.\n",
        "\n",
        "| Parametre  | Value | Description |\n",
        "| - | - | - |\n",
        "|**addException()***       |String |Add a single exception.|\n",
        "|**setExceptionsPath()*** |String|Path to txt file with list of token exceptions.|\n",
        "|**caseSensitiveExceptions***  |Bool| Whether to follow case sensitiveness for matching exceptions in text.|\n",
        "|**contextChars()*** |StringArray|List of 1 character string to rip off from tokens, such as parenthesis or question marks. Ignored if using prefix, infix or suffix patterns.|\n",
        "|**splitChars()*** |StringArray|List of 1 character string to split tokens inside, such as hyphens. Ignored if using infix, prefix or suffix patterns.|\n",
        "|**splitPattern()*** |String|pattern to separate from the inside of tokens. takes priority over splitChars. setTargetPattern: Basic regex rule to identify a candidate for tokenization. Defaults to \\S+ which means anything not a space.|\n",
        "|**setSuffixPattern()*** ||Regex to identify subtokens that are in the end of the token. Regex has to end with \\z and must contain groups (). Each group will become a separate token within the prefix. Defaults to non-letter characters. e.g. quotes or parenthesis|\n",
        "|**setPrefixPattern()*** ||Regex to identify subtokens that come in the beginning of the token. Regex has to start with \\A and must contain groups (). Each group will become a separate token within the prefix. Defaults to non-letter characters. e.g. quotes or parenthesis.|\n",
        "|**addInfixPattern()*** ||Add an extension pattern regex with groups to the top of the rules (will target first, from more specific to the more general).|\n",
        "|**minLength()*** ||Set the minimum allowed legth for each token.|\n",
        "|**maxLength()*** ||Set the maximum allowed legth for each token.|\n",
        "\n",
        "\n"
      ]
    },
    {
      "cell_type": "code",
      "execution_count": null,
      "metadata": {
        "id": "AyfeGRPKNrDF"
      },
      "outputs": [],
      "source": [
        "tokenizer = Tokenizer() \\\n",
        "    .setInputCols([\"document\"]) \\\n",
        "    .setOutputCol(\"token\")"
      ]
    },
    {
      "cell_type": "code",
      "execution_count": null,
      "metadata": {
        "colab": {
          "base_uri": "https://localhost:8080/"
        },
        "id": "XKIVvy07J-8F",
        "outputId": "55713dd9-e32a-4996-b700-c393c466ba72"
      },
      "outputs": [
        {
          "output_type": "execute_result",
          "data": {
            "text/plain": [
              "{Param(parent='Tokenizer_5b977c55059e', name='lazyAnnotator', doc='Whether this AnnotatorModel acts as lazy in RecursivePipelines'): False,\n",
              " Param(parent='Tokenizer_5b977c55059e', name='targetPattern', doc='pattern to grab from text as token candidates. Defaults \\\\S+'): '\\\\S+',\n",
              " Param(parent='Tokenizer_5b977c55059e', name='contextChars', doc='character list used to separate from token boundaries'): ['.',\n",
              "  ',',\n",
              "  ';',\n",
              "  ':',\n",
              "  '!',\n",
              "  '?',\n",
              "  '*',\n",
              "  '-',\n",
              "  '(',\n",
              "  ')',\n",
              "  '\"',\n",
              "  \"'\"],\n",
              " Param(parent='Tokenizer_5b977c55059e', name='caseSensitiveExceptions', doc='Whether to care for case sensitiveness in exceptions'): True,\n",
              " Param(parent='Tokenizer_5b977c55059e', name='minLength', doc='Set the minimum allowed length for each token'): 0,\n",
              " Param(parent='Tokenizer_5b977c55059e', name='maxLength', doc='Set the maximum allowed length for each token'): 99999,\n",
              " Param(parent='Tokenizer_5b977c55059e', name='inputCols', doc='previous annotations columns, if renamed'): ['document'],\n",
              " Param(parent='Tokenizer_5b977c55059e', name='outputCol', doc='output annotation column. can be left default.'): 'token'}"
            ]
          },
          "metadata": {},
          "execution_count": 49
        }
      ],
      "source": [
        "tokenizer.extractParamMap()"
      ]
    },
    {
      "cell_type": "code",
      "execution_count": null,
      "metadata": {
        "id": "v-GQJmCWcYsL"
      },
      "outputs": [],
      "source": [
        "text = 'Peter Parker (Spiderman) is a nice guy and lives in New York but has no e-mail!'\n",
        "\n",
        "spark_df = spark.createDataFrame([[text]]).toDF(\"text\")"
      ]
    },
    {
      "cell_type": "code",
      "execution_count": null,
      "metadata": {
        "colab": {
          "base_uri": "https://localhost:8080/"
        },
        "id": "iAgf0v4ucraf",
        "outputId": "05181db9-0d92-4821-996c-dee4db59cac7"
      },
      "outputs": [
        {
          "output_type": "stream",
          "name": "stdout",
          "text": [
            "+-------------------------------------------------------------------------------+----------------------------------------------------------------------------------------------------+----------------------------------------------------------------------------------------------------+\n",
            "|                                                                           text|                                                                                            document|                                                                                               token|\n",
            "+-------------------------------------------------------------------------------+----------------------------------------------------------------------------------------------------+----------------------------------------------------------------------------------------------------+\n",
            "|Peter Parker (Spiderman) is a nice guy and lives in New York but has no e-mail!|[{document, 0, 78, Peter Parker (Spiderman) is a nice guy and lives in New York but has no e-mail...|[{token, 0, 4, Peter, {sentence -> 0}, []}, {token, 6, 11, Parker, {sentence -> 0}, []}, {token, ...|\n",
            "+-------------------------------------------------------------------------------+----------------------------------------------------------------------------------------------------+----------------------------------------------------------------------------------------------------+\n",
            "\n"
          ]
        }
      ],
      "source": [
        "doc_df = documentAssembler.transform(spark_df)\n",
        "\n",
        "token_df = tokenizer.fit(doc_df).transform(doc_df)\n",
        "\n",
        "token_df.show(truncate=100)"
      ]
    },
    {
      "cell_type": "code",
      "execution_count": null,
      "metadata": {
        "colab": {
          "base_uri": "https://localhost:8080/"
        },
        "id": "sQ8eoN1mdEn-",
        "outputId": "0f06e2a9-40a5-43ed-a4f8-2a09e77e4fa4"
      },
      "outputs": [
        {
          "output_type": "execute_result",
          "data": {
            "text/plain": [
              "[Row(result=['Peter', 'Parker', '(', 'Spiderman', ')', 'is', 'a', 'nice', 'guy', 'and', 'lives', 'in', 'New', 'York', 'but', 'has', 'no', 'e-mail', '!'])]"
            ]
          },
          "metadata": {},
          "execution_count": 52
        }
      ],
      "source": [
        "token_df.select('token.result').take(1)"
      ]
    },
    {
      "cell_type": "code",
      "execution_count": null,
      "metadata": {
        "id": "JTlinLhmfKTw"
      },
      "outputs": [],
      "source": [
        "tokenizer = Tokenizer() \\\n",
        "    .setInputCols([\"document\"]) \\\n",
        "    .setOutputCol(\"token\") \\\n",
        "    .setSplitChars(['-']) \\\n",
        "    .setContextChars(['?', '!']) \\\n",
        "    .addException(\"New York\")"
      ]
    },
    {
      "cell_type": "code",
      "execution_count": null,
      "metadata": {
        "colab": {
          "base_uri": "https://localhost:8080/"
        },
        "id": "KY5V7FcXfSrs",
        "outputId": "db067a7b-386d-42ac-8cf3-f158bb7fee80"
      },
      "outputs": [
        {
          "output_type": "execute_result",
          "data": {
            "text/plain": [
              "[Row(result=['Peter', 'Parker', '(Spiderman)', 'is', 'a', 'nice', 'guy', 'and', 'lives', 'in', 'New York', 'but', 'has', 'no', 'e', 'mail', '!'])]"
            ]
          },
          "metadata": {},
          "execution_count": 54
        }
      ],
      "source": [
        "token_df = tokenizer.fit(doc_df).transform(doc_df)\n",
        "\n",
        "token_df.select('token.result').take(1)"
      ]
    },
    {
      "cell_type": "markdown",
      "metadata": {
        "id": "AOn8d1tcBkK3"
      },
      "source": [
        "## Regex Tokenizer"
      ]
    },
    {
      "cell_type": "code",
      "execution_count": null,
      "metadata": {
        "colab": {
          "base_uri": "https://localhost:8080/"
        },
        "id": "Y4ruucl4BnLJ",
        "outputId": "87b897a1-3aa5-40e5-b749-b1bf109936ec"
      },
      "outputs": [
        {
          "output_type": "stream",
          "name": "stdout",
          "text": [
            "+---------------------------------------------------+---------------------------------------------------------------------------------------------+---------------------------------------------------------------------------------------------+-------------------------------------------------------------------------------------------------------------------------------------------------------------------------------------------------------------------------------------------------------------------------------------------------------------------------------------------------------------------------------------------------------------------------------------------------------------------------------------------------------------------------------------------------------------------------------------------------------------------------------------------------------------------------------------------------------------------------------------------------------------------------------------------------------------------------------------------------------------------------------------------------------------------------------------------------+\n",
            "|text                                               |document                                                                                     |sentence                                                                                     |regexToken                                                                                                                                                                                                                                                                                                                                                                                                                                                                                                                                                                                                                                                                                                                                                                                                                                                                                                                                       |\n",
            "+---------------------------------------------------+---------------------------------------------------------------------------------------------+---------------------------------------------------------------------------------------------+-------------------------------------------------------------------------------------------------------------------------------------------------------------------------------------------------------------------------------------------------------------------------------------------------------------------------------------------------------------------------------------------------------------------------------------------------------------------------------------------------------------------------------------------------------------------------------------------------------------------------------------------------------------------------------------------------------------------------------------------------------------------------------------------------------------------------------------------------------------------------------------------------------------------------------------------------+\n",
            "|1. T1-T2 DATE**[12/24/13] $1.99 () (10/12), ph+ 90%|[{document, 0, 50, 1. T1-T2 DATE**[12/24/13] $1.99 () (10/12), ph+ 90%, {sentence -> 0}, []}]|[{document, 0, 50, 1. T1-T2 DATE**[12/24/13] $1.99 () (10/12), ph+ 90%, {sentence -> 0}, []}]|[{token, 0, 0, 1, {sentence -> 0}, []}, {token, 1, 1, ., {sentence -> 0}, []}, {token, 3, 4, T1, {sentence -> 0}, []}, {token, 5, 5, -, {sentence -> 0}, []}, {token, 6, 7, T2, {sentence -> 0}, []}, {token, 9, 12, DATE, {sentence -> 0}, []}, {token, 13, 13, *, {sentence -> 0}, []}, {token, 14, 14, *, {sentence -> 0}, []}, {token, 15, 15, [, {sentence -> 0}, []}, {token, 16, 23, 12/24/13, {sentence -> 0}, []}, {token, 24, 24, ], {sentence -> 0}, []}, {token, 26, 26, $, {sentence -> 0}, []}, {token, 27, 27, 1, {sentence -> 0}, []}, {token, 28, 28, ., {sentence -> 0}, []}, {token, 29, 30, 99, {sentence -> 0}, []}, {token, 32, 33, (), {sentence -> 0}, []}, {token, 35, 41, (10/12), {sentence -> 0}, []}, {token, 42, 42, ,, {sentence -> 0}, []}, {token, 44, 45, ph, {sentence -> 0}, []}, {token, 46, 46, +, {sentence -> 0}, []}, {token, 48, 49, 90, {sentence -> 0}, []}, {token, 50, 50, %, {sentence -> 0}, []}]|\n",
            "+---------------------------------------------------+---------------------------------------------------------------------------------------------+---------------------------------------------------------------------------------------------+-------------------------------------------------------------------------------------------------------------------------------------------------------------------------------------------------------------------------------------------------------------------------------------------------------------------------------------------------------------------------------------------------------------------------------------------------------------------------------------------------------------------------------------------------------------------------------------------------------------------------------------------------------------------------------------------------------------------------------------------------------------------------------------------------------------------------------------------------------------------------------------------------------------------------------------------------+\n",
            "\n"
          ]
        }
      ],
      "source": [
        "from pyspark.sql.types import StringType\n",
        "\n",
        "content = \"1. T1-T2 DATE**[12/24/13] $1.99 () (10/12), ph+ 90%\"\n",
        "pattern = \"\\\\s+|(?=[-.:;*+,$&%\\\\[\\\\]])|(?<=[-.:;*+,$&%\\\\[\\\\]])\"\n",
        "\n",
        "df = spark.createDataFrame([content], StringType()).withColumnRenamed(\"value\", \"text\")\n",
        "\n",
        "documenter = DocumentAssembler()\\\n",
        "    .setInputCol(\"text\")\\\n",
        "    .setOutputCol(\"document\")\n",
        "\n",
        "sentenceDetector = SentenceDetector()\\\n",
        "    .setInputCols(['document'])\\\n",
        "    .setOutputCol('sentence')\n",
        "\n",
        "regexTokenizer = RegexTokenizer() \\\n",
        "    .setInputCols([\"sentence\"]) \\\n",
        "    .setOutputCol(\"regexToken\") \\\n",
        "    .setPattern(pattern) \\\n",
        "    .setPositionalMask(False)\n",
        "\n",
        "docPatternRemoverPipeline = Pipeline().setStages([documenter,\n",
        "                                                  sentenceDetector,\n",
        "                                                  regexTokenizer])\n",
        "\n",
        "result = docPatternRemoverPipeline.fit(df).transform(df)\n",
        "result.show(truncate=False)"
      ]
    },
    {
      "cell_type": "code",
      "execution_count": null,
      "metadata": {
        "colab": {
          "base_uri": "https://localhost:8080/",
          "height": 739
        },
        "id": "APA8zhR-F1WB",
        "outputId": "b3a8b861-2a59-4de2-ed20-752bf16c14f3"
      },
      "outputs": [
        {
          "output_type": "execute_result",
          "data": {
            "text/plain": [
              "   regexToken\n",
              "0           1\n",
              "1           .\n",
              "2          T1\n",
              "3           -\n",
              "4          T2\n",
              "5        DATE\n",
              "6           *\n",
              "7           *\n",
              "8           [\n",
              "9    12/24/13\n",
              "10          ]\n",
              "11          $\n",
              "12          1\n",
              "13          .\n",
              "14         99\n",
              "15         ()\n",
              "16    (10/12)\n",
              "17          ,\n",
              "18         ph\n",
              "19          +\n",
              "20         90\n",
              "21          %"
            ],
            "text/html": [
              "\n",
              "  <div id=\"df-c04d61bb-d360-4c3f-b3c3-db70b3d2e64c\">\n",
              "    <div class=\"colab-df-container\">\n",
              "      <div>\n",
              "<style scoped>\n",
              "    .dataframe tbody tr th:only-of-type {\n",
              "        vertical-align: middle;\n",
              "    }\n",
              "\n",
              "    .dataframe tbody tr th {\n",
              "        vertical-align: top;\n",
              "    }\n",
              "\n",
              "    .dataframe thead th {\n",
              "        text-align: right;\n",
              "    }\n",
              "</style>\n",
              "<table border=\"1\" class=\"dataframe\">\n",
              "  <thead>\n",
              "    <tr style=\"text-align: right;\">\n",
              "      <th></th>\n",
              "      <th>regexToken</th>\n",
              "    </tr>\n",
              "  </thead>\n",
              "  <tbody>\n",
              "    <tr>\n",
              "      <th>0</th>\n",
              "      <td>1</td>\n",
              "    </tr>\n",
              "    <tr>\n",
              "      <th>1</th>\n",
              "      <td>.</td>\n",
              "    </tr>\n",
              "    <tr>\n",
              "      <th>2</th>\n",
              "      <td>T1</td>\n",
              "    </tr>\n",
              "    <tr>\n",
              "      <th>3</th>\n",
              "      <td>-</td>\n",
              "    </tr>\n",
              "    <tr>\n",
              "      <th>4</th>\n",
              "      <td>T2</td>\n",
              "    </tr>\n",
              "    <tr>\n",
              "      <th>5</th>\n",
              "      <td>DATE</td>\n",
              "    </tr>\n",
              "    <tr>\n",
              "      <th>6</th>\n",
              "      <td>*</td>\n",
              "    </tr>\n",
              "    <tr>\n",
              "      <th>7</th>\n",
              "      <td>*</td>\n",
              "    </tr>\n",
              "    <tr>\n",
              "      <th>8</th>\n",
              "      <td>[</td>\n",
              "    </tr>\n",
              "    <tr>\n",
              "      <th>9</th>\n",
              "      <td>12/24/13</td>\n",
              "    </tr>\n",
              "    <tr>\n",
              "      <th>10</th>\n",
              "      <td>]</td>\n",
              "    </tr>\n",
              "    <tr>\n",
              "      <th>11</th>\n",
              "      <td>$</td>\n",
              "    </tr>\n",
              "    <tr>\n",
              "      <th>12</th>\n",
              "      <td>1</td>\n",
              "    </tr>\n",
              "    <tr>\n",
              "      <th>13</th>\n",
              "      <td>.</td>\n",
              "    </tr>\n",
              "    <tr>\n",
              "      <th>14</th>\n",
              "      <td>99</td>\n",
              "    </tr>\n",
              "    <tr>\n",
              "      <th>15</th>\n",
              "      <td>()</td>\n",
              "    </tr>\n",
              "    <tr>\n",
              "      <th>16</th>\n",
              "      <td>(10/12)</td>\n",
              "    </tr>\n",
              "    <tr>\n",
              "      <th>17</th>\n",
              "      <td>,</td>\n",
              "    </tr>\n",
              "    <tr>\n",
              "      <th>18</th>\n",
              "      <td>ph</td>\n",
              "    </tr>\n",
              "    <tr>\n",
              "      <th>19</th>\n",
              "      <td>+</td>\n",
              "    </tr>\n",
              "    <tr>\n",
              "      <th>20</th>\n",
              "      <td>90</td>\n",
              "    </tr>\n",
              "    <tr>\n",
              "      <th>21</th>\n",
              "      <td>%</td>\n",
              "    </tr>\n",
              "  </tbody>\n",
              "</table>\n",
              "</div>\n",
              "      <button class=\"colab-df-convert\" onclick=\"convertToInteractive('df-c04d61bb-d360-4c3f-b3c3-db70b3d2e64c')\"\n",
              "              title=\"Convert this dataframe to an interactive table.\"\n",
              "              style=\"display:none;\">\n",
              "        \n",
              "  <svg xmlns=\"http://www.w3.org/2000/svg\" height=\"24px\"viewBox=\"0 0 24 24\"\n",
              "       width=\"24px\">\n",
              "    <path d=\"M0 0h24v24H0V0z\" fill=\"none\"/>\n",
              "    <path d=\"M18.56 5.44l.94 2.06.94-2.06 2.06-.94-2.06-.94-.94-2.06-.94 2.06-2.06.94zm-11 1L8.5 8.5l.94-2.06 2.06-.94-2.06-.94L8.5 2.5l-.94 2.06-2.06.94zm10 10l.94 2.06.94-2.06 2.06-.94-2.06-.94-.94-2.06-.94 2.06-2.06.94z\"/><path d=\"M17.41 7.96l-1.37-1.37c-.4-.4-.92-.59-1.43-.59-.52 0-1.04.2-1.43.59L10.3 9.45l-7.72 7.72c-.78.78-.78 2.05 0 2.83L4 21.41c.39.39.9.59 1.41.59.51 0 1.02-.2 1.41-.59l7.78-7.78 2.81-2.81c.8-.78.8-2.07 0-2.86zM5.41 20L4 18.59l7.72-7.72 1.47 1.35L5.41 20z\"/>\n",
              "  </svg>\n",
              "      </button>\n",
              "      \n",
              "  <style>\n",
              "    .colab-df-container {\n",
              "      display:flex;\n",
              "      flex-wrap:wrap;\n",
              "      gap: 12px;\n",
              "    }\n",
              "\n",
              "    .colab-df-convert {\n",
              "      background-color: #E8F0FE;\n",
              "      border: none;\n",
              "      border-radius: 50%;\n",
              "      cursor: pointer;\n",
              "      display: none;\n",
              "      fill: #1967D2;\n",
              "      height: 32px;\n",
              "      padding: 0 0 0 0;\n",
              "      width: 32px;\n",
              "    }\n",
              "\n",
              "    .colab-df-convert:hover {\n",
              "      background-color: #E2EBFA;\n",
              "      box-shadow: 0px 1px 2px rgba(60, 64, 67, 0.3), 0px 1px 3px 1px rgba(60, 64, 67, 0.15);\n",
              "      fill: #174EA6;\n",
              "    }\n",
              "\n",
              "    [theme=dark] .colab-df-convert {\n",
              "      background-color: #3B4455;\n",
              "      fill: #D2E3FC;\n",
              "    }\n",
              "\n",
              "    [theme=dark] .colab-df-convert:hover {\n",
              "      background-color: #434B5C;\n",
              "      box-shadow: 0px 1px 3px 1px rgba(0, 0, 0, 0.15);\n",
              "      filter: drop-shadow(0px 1px 2px rgba(0, 0, 0, 0.3));\n",
              "      fill: #FFFFFF;\n",
              "    }\n",
              "  </style>\n",
              "\n",
              "      <script>\n",
              "        const buttonEl =\n",
              "          document.querySelector('#df-c04d61bb-d360-4c3f-b3c3-db70b3d2e64c button.colab-df-convert');\n",
              "        buttonEl.style.display =\n",
              "          google.colab.kernel.accessAllowed ? 'block' : 'none';\n",
              "\n",
              "        async function convertToInteractive(key) {\n",
              "          const element = document.querySelector('#df-c04d61bb-d360-4c3f-b3c3-db70b3d2e64c');\n",
              "          const dataTable =\n",
              "            await google.colab.kernel.invokeFunction('convertToInteractive',\n",
              "                                                     [key], {});\n",
              "          if (!dataTable) return;\n",
              "\n",
              "          const docLinkHtml = 'Like what you see? Visit the ' +\n",
              "            '<a target=\"_blank\" href=https://colab.research.google.com/notebooks/data_table.ipynb>data table notebook</a>'\n",
              "            + ' to learn more about interactive tables.';\n",
              "          element.innerHTML = '';\n",
              "          dataTable['output_type'] = 'display_data';\n",
              "          await google.colab.output.renderOutput(dataTable, element);\n",
              "          const docLink = document.createElement('div');\n",
              "          docLink.innerHTML = docLinkHtml;\n",
              "          element.appendChild(docLink);\n",
              "        }\n",
              "      </script>\n",
              "    </div>\n",
              "  </div>\n",
              "  "
            ]
          },
          "metadata": {},
          "execution_count": 56
        }
      ],
      "source": [
        "import pyspark.sql.functions as F\n",
        "\n",
        "result_df = result.select(F.explode(result.regexToken.result).alias('regexToken')).toPandas()\n",
        "result_df"
      ]
    },
    {
      "cell_type": "markdown",
      "metadata": {
        "id": "l_LM44ZzgYhs"
      },
      "source": [
        "## Stacking Spark NLP Annotators in Spark ML Pipeline"
      ]
    },
    {
      "cell_type": "markdown",
      "metadata": {
        "id": "bm0mUMQMhFPU"
      },
      "source": [
        "Spark NLP provides an easy API to integrate with Spark ML Pipelines and all the Spark NLP annotators and transformers can be used within Spark ML Pipelines. So, it’s better to explain Pipeline concept through Spark ML official documentation.\n",
        "\n",
        "What is a Pipeline anyway? In machine learning, it is common to run a sequence of algorithms to process and learn from data. \n",
        "\n",
        "Apache Spark ML represents such a workflow as a Pipeline, which consists of a sequence of PipelineStages (Transformers and Estimators) to be run in a specific order.\n",
        "\n",
        "In simple terms, a pipeline chains multiple Transformers and Estimators together to specify an ML workflow. We use Pipeline to chain multiple Transformers and Estimators together to specify our machine learning workflow.\n"
      ]
    },
    {
      "cell_type": "markdown",
      "metadata": {
        "id": "dwLlY7i4hhq1"
      },
      "source": [
        "A Pipeline is specified as a sequence of stages, and each stage is either a Transformer or an Estimator. These stages are run in order, and the input DataFrame is transformed as it passes through each stage. That is, the data are passed through the fitted pipeline in order. Each stage’s transform() method updates the dataset and passes it to the next stage. With the help of Pipelines, we can ensure that training and test data go through identical feature processing steps.\n",
        "\n",
        "Now let’s see how this can be done in Spark NLP using Annotators and Transformers. Assume that we have the following steps that need to be applied one by one on a data frame.\n",
        "\n",
        "- Split text into sentences\n",
        "- Tokenize\n",
        "\n",
        "And here is how we code this pipeline up in Spark NLP."
      ]
    },
    {
      "cell_type": "code",
      "execution_count": null,
      "metadata": {
        "id": "_2mZXDVehhDU"
      },
      "outputs": [],
      "source": [
        "from pyspark.ml import Pipeline\n",
        "\n",
        "documentAssembler = DocumentAssembler()\\\n",
        "    .setInputCol(\"text\")\\\n",
        "    .setOutputCol(\"document\")\n",
        "\n",
        "sentenceDetector = SentenceDetector()\\\n",
        "    .setInputCols(['document'])\\\n",
        "    .setOutputCol('sentences')\n",
        "\n",
        "tokenizer = Tokenizer() \\\n",
        "    .setInputCols([\"sentences\"]) \\\n",
        "    .setOutputCol(\"token\")\n",
        "\n",
        "nlpPipeline = Pipeline(stages=[documentAssembler, \n",
        "                               sentenceDetector,\n",
        "                               tokenizer])\n",
        "\n",
        "spark_df = spark.read.text('./sample-sentences-en.txt').toDF('text')\n",
        "\n",
        "pipelineModel = nlpPipeline.fit(spark_df)"
      ]
    },
    {
      "cell_type": "code",
      "execution_count": null,
      "metadata": {
        "colab": {
          "base_uri": "https://localhost:8080/"
        },
        "id": "9Rq_CRWN6Zge",
        "outputId": "c7dd9dea-79d2-4007-b0b5-f807c65ca698"
      },
      "outputs": [
        {
          "output_type": "stream",
          "name": "stdout",
          "text": [
            "+-----------------------------------------------------------------------------+\n",
            "|text                                                                         |\n",
            "+-----------------------------------------------------------------------------+\n",
            "|Peter is a very good person.                                                 |\n",
            "|My life in Russia is very interesting.                                       |\n",
            "|John and Peter are brothers. However they don't support each other that much.|\n",
            "|Lucas Nogal Dunbercker is no longer happy. He has a good car though.         |\n",
            "|Europe is very culture rich. There are huge churches! and big houses!        |\n",
            "+-----------------------------------------------------------------------------+\n",
            "\n"
          ]
        }
      ],
      "source": [
        "spark_df = spark.read.text('./sample-sentences-en.txt').toDF('text')\n",
        "\n",
        "spark_df.show(truncate=False)"
      ]
    },
    {
      "cell_type": "code",
      "execution_count": null,
      "metadata": {
        "id": "JuhTX4-Vk-cd"
      },
      "outputs": [],
      "source": [
        "result = pipelineModel.transform(spark_df)"
      ]
    },
    {
      "cell_type": "code",
      "execution_count": null,
      "metadata": {
        "colab": {
          "base_uri": "https://localhost:8080/"
        },
        "id": "iaWf94QPlT51",
        "outputId": "ca589541-e958-4966-c9c0-4cee64daaae4"
      },
      "outputs": [
        {
          "output_type": "stream",
          "name": "stdout",
          "text": [
            "+----------------------------------------+----------------------------------------+----------------------------------------+----------------------------------------+\n",
            "|                                    text|                                document|                               sentences|                                   token|\n",
            "+----------------------------------------+----------------------------------------+----------------------------------------+----------------------------------------+\n",
            "|            Peter is a very good person.|[{document, 0, 27, Peter is a very go...|[{document, 0, 27, Peter is a very go...|[{token, 0, 4, Peter, {sentence -> 0}...|\n",
            "|  My life in Russia is very interesting.|[{document, 0, 37, My life in Russia ...|[{document, 0, 37, My life in Russia ...|[{token, 0, 1, My, {sentence -> 0}, [...|\n",
            "|John and Peter are brothers. However ...|[{document, 0, 76, John and Peter are...|[{document, 0, 27, John and Peter are...|[{token, 0, 3, John, {sentence -> 0},...|\n",
            "|Lucas Nogal Dunbercker is no longer h...|[{document, 0, 67, Lucas Nogal Dunber...|[{document, 0, 41, Lucas Nogal Dunber...|[{token, 0, 4, Lucas, {sentence -> 0}...|\n",
            "|Europe is very culture rich. There ar...|[{document, 0, 68, Europe is very cul...|[{document, 0, 27, Europe is very cul...|[{token, 0, 5, Europe, {sentence -> 0...|\n",
            "+----------------------------------------+----------------------------------------+----------------------------------------+----------------------------------------+\n",
            "\n"
          ]
        }
      ],
      "source": [
        "result.show(truncate=40)"
      ]
    },
    {
      "cell_type": "code",
      "execution_count": null,
      "metadata": {
        "colab": {
          "base_uri": "https://localhost:8080/"
        },
        "id": "zfz0_-eFlXzk",
        "outputId": "2e04bdff-ef1e-4d41-bf94-3720a2308b81"
      },
      "outputs": [
        {
          "output_type": "stream",
          "name": "stdout",
          "text": [
            "root\n",
            " |-- text: string (nullable = true)\n",
            " |-- document: array (nullable = true)\n",
            " |    |-- element: struct (containsNull = true)\n",
            " |    |    |-- annotatorType: string (nullable = true)\n",
            " |    |    |-- begin: integer (nullable = false)\n",
            " |    |    |-- end: integer (nullable = false)\n",
            " |    |    |-- result: string (nullable = true)\n",
            " |    |    |-- metadata: map (nullable = true)\n",
            " |    |    |    |-- key: string\n",
            " |    |    |    |-- value: string (valueContainsNull = true)\n",
            " |    |    |-- embeddings: array (nullable = true)\n",
            " |    |    |    |-- element: float (containsNull = false)\n",
            " |-- sentences: array (nullable = true)\n",
            " |    |-- element: struct (containsNull = true)\n",
            " |    |    |-- annotatorType: string (nullable = true)\n",
            " |    |    |-- begin: integer (nullable = false)\n",
            " |    |    |-- end: integer (nullable = false)\n",
            " |    |    |-- result: string (nullable = true)\n",
            " |    |    |-- metadata: map (nullable = true)\n",
            " |    |    |    |-- key: string\n",
            " |    |    |    |-- value: string (valueContainsNull = true)\n",
            " |    |    |-- embeddings: array (nullable = true)\n",
            " |    |    |    |-- element: float (containsNull = false)\n",
            " |-- token: array (nullable = true)\n",
            " |    |-- element: struct (containsNull = true)\n",
            " |    |    |-- annotatorType: string (nullable = true)\n",
            " |    |    |-- begin: integer (nullable = false)\n",
            " |    |    |-- end: integer (nullable = false)\n",
            " |    |    |-- result: string (nullable = true)\n",
            " |    |    |-- metadata: map (nullable = true)\n",
            " |    |    |    |-- key: string\n",
            " |    |    |    |-- value: string (valueContainsNull = true)\n",
            " |    |    |-- embeddings: array (nullable = true)\n",
            " |    |    |    |-- element: float (containsNull = false)\n",
            "\n"
          ]
        }
      ],
      "source": [
        "result.printSchema()"
      ]
    },
    {
      "cell_type": "code",
      "execution_count": null,
      "metadata": {
        "colab": {
          "base_uri": "https://localhost:8080/"
        },
        "id": "599Y4hQsl_mF",
        "outputId": "f7ea9fdc-54fc-4d6d-c091-437ed58c0db3"
      },
      "outputs": [
        {
          "output_type": "execute_result",
          "data": {
            "text/plain": [
              "[Row(result=['Peter is a very good person.']),\n",
              " Row(result=['My life in Russia is very interesting.']),\n",
              " Row(result=['John and Peter are brothers.', \"However they don't support each other that much.\"])]"
            ]
          },
          "metadata": {},
          "execution_count": 62
        }
      ],
      "source": [
        "result.select('sentences.result').take(3)"
      ]
    },
    {
      "cell_type": "code",
      "execution_count": null,
      "metadata": {
        "colab": {
          "base_uri": "https://localhost:8080/"
        },
        "id": "ehzhHXu6luaF",
        "outputId": "fe3a5cc8-3915-473e-d0c7-69e1a074ec66"
      },
      "outputs": [
        {
          "output_type": "execute_result",
          "data": {
            "text/plain": [
              "Row(token=[Row(annotatorType='token', begin=0, end=3, result='John', metadata={'sentence': '0'}, embeddings=[]), Row(annotatorType='token', begin=5, end=7, result='and', metadata={'sentence': '0'}, embeddings=[]), Row(annotatorType='token', begin=9, end=13, result='Peter', metadata={'sentence': '0'}, embeddings=[]), Row(annotatorType='token', begin=15, end=17, result='are', metadata={'sentence': '0'}, embeddings=[]), Row(annotatorType='token', begin=19, end=26, result='brothers', metadata={'sentence': '0'}, embeddings=[]), Row(annotatorType='token', begin=27, end=27, result='.', metadata={'sentence': '0'}, embeddings=[]), Row(annotatorType='token', begin=29, end=35, result='However', metadata={'sentence': '1'}, embeddings=[]), Row(annotatorType='token', begin=37, end=40, result='they', metadata={'sentence': '1'}, embeddings=[]), Row(annotatorType='token', begin=42, end=46, result=\"don't\", metadata={'sentence': '1'}, embeddings=[]), Row(annotatorType='token', begin=48, end=54, result='support', metadata={'sentence': '1'}, embeddings=[]), Row(annotatorType='token', begin=56, end=59, result='each', metadata={'sentence': '1'}, embeddings=[]), Row(annotatorType='token', begin=61, end=65, result='other', metadata={'sentence': '1'}, embeddings=[]), Row(annotatorType='token', begin=67, end=70, result='that', metadata={'sentence': '1'}, embeddings=[]), Row(annotatorType='token', begin=72, end=75, result='much', metadata={'sentence': '1'}, embeddings=[]), Row(annotatorType='token', begin=76, end=76, result='.', metadata={'sentence': '1'}, embeddings=[])])"
            ]
          },
          "metadata": {},
          "execution_count": 63
        }
      ],
      "source": [
        "result.select('token').take(3)[2]"
      ]
    },
    {
      "cell_type": "markdown",
      "metadata": {
        "id": "42dSp9dGmtmr"
      },
      "source": [
        "## Normalizer"
      ]
    },
    {
      "cell_type": "markdown",
      "metadata": {
        "id": "spOjcducnAsR"
      },
      "source": [
        "Removes all dirty characters from text following a regex pattern and transforms words based on a provided dictionary\n",
        "\n",
        "`setCleanupPatterns(patterns)`: Regular expressions list for normalization, defaults [^A-Za-z]\n",
        "\n",
        "`setLowercase(value)`: lowercase tokens, default false\n",
        "\n",
        "`setSlangDictionary(path)`: txt file with delimited words to be transformed into something else\n"
      ]
    },
    {
      "cell_type": "code",
      "execution_count": null,
      "metadata": {
        "colab": {
          "base_uri": "https://localhost:8080/",
          "height": 35
        },
        "id": "h6XKX2l7_Jqk",
        "outputId": "1386740f-3549-4441-9969-9ff2ddc3f98f"
      },
      "outputs": [
        {
          "output_type": "execute_result",
          "data": {
            "text/plain": [
              "'!\"#$%&\\'()*+,-./:;<=>?@[\\\\]^_`{|}~'"
            ],
            "application/vnd.google.colaboratory.intrinsic+json": {
              "type": "string"
            }
          },
          "metadata": {},
          "execution_count": 64
        }
      ],
      "source": [
        "import string\n",
        "string.punctuation"
      ]
    },
    {
      "cell_type": "code",
      "execution_count": null,
      "metadata": {
        "id": "6hq2ZBWl_WMu"
      },
      "outputs": [],
      "source": [
        "from sparknlp.base import *\n",
        "from sparknlp.annotator import *\n",
        "\n",
        "documentAssembler = DocumentAssembler()\\\n",
        "    .setInputCol(\"text\")\\\n",
        "    .setOutputCol(\"document\")\n",
        "\n",
        "tokenizer = Tokenizer() \\\n",
        "    .setInputCols([\"document\"]) \\\n",
        "    .setOutputCol(\"token\")\n",
        "    \n",
        "normalizer = Normalizer() \\\n",
        "    .setInputCols([\"token\"]) \\\n",
        "    .setOutputCol(\"normalized\")\\\n",
        "    .setLowercase(True)\\\n",
        "    .setCleanupPatterns([\"[^\\w\\d\\s]\"]) # remove punctuations (keep alphanumeric chars)\n",
        "    # if we don't set CleanupPatterns, it will only keep alphabet letters ([^A-Za-z])\n",
        "\n",
        "nlpPipeline = Pipeline(stages=[documentAssembler, \n",
        "                               tokenizer,\n",
        "                               normalizer])\n",
        "\n",
        "result = nlpPipeline.fit(spark_df).transform(spark_df)"
      ]
    },
    {
      "cell_type": "code",
      "execution_count": null,
      "metadata": {
        "colab": {
          "base_uri": "https://localhost:8080/"
        },
        "id": "25YyJJYXppji",
        "outputId": "90820155-813b-482c-95d7-d2476e98a0f4"
      },
      "outputs": [
        {
          "output_type": "execute_result",
          "data": {
            "text/plain": [
              "[DocumentAssembler_4d51fd8c2235,\n",
              " REGEX_TOKENIZER_c1dbf8b97e3a,\n",
              " NORMALIZER_1a4eb2039cff]"
            ]
          },
          "metadata": {},
          "execution_count": 66
        }
      ],
      "source": [
        "nlpPipeline.fit(spark_df).stages"
      ]
    },
    {
      "cell_type": "code",
      "execution_count": null,
      "metadata": {
        "colab": {
          "base_uri": "https://localhost:8080/"
        },
        "id": "oUp4au5eoYrw",
        "outputId": "128d049c-026e-42f9-b421-757b0d28db88"
      },
      "outputs": [
        {
          "output_type": "stream",
          "name": "stdout",
          "text": [
            "+----------------------------------------+----------------------------------------+----------------------------------------+----------------------------------------+\n",
            "|                                    text|                                document|                                   token|                              normalized|\n",
            "+----------------------------------------+----------------------------------------+----------------------------------------+----------------------------------------+\n",
            "|            Peter is a very good person.|[{document, 0, 27, Peter is a very go...|[{token, 0, 4, Peter, {sentence -> 0}...|[{token, 0, 4, peter, {sentence -> 0}...|\n",
            "|  My life in Russia is very interesting.|[{document, 0, 37, My life in Russia ...|[{token, 0, 1, My, {sentence -> 0}, [...|[{token, 0, 1, my, {sentence -> 0}, [...|\n",
            "|John and Peter are brothers. However ...|[{document, 0, 76, John and Peter are...|[{token, 0, 3, John, {sentence -> 0},...|[{token, 0, 3, john, {sentence -> 0},...|\n",
            "|Lucas Nogal Dunbercker is no longer h...|[{document, 0, 67, Lucas Nogal Dunber...|[{token, 0, 4, Lucas, {sentence -> 0}...|[{token, 0, 4, lucas, {sentence -> 0}...|\n",
            "|Europe is very culture rich. There ar...|[{document, 0, 68, Europe is very cul...|[{token, 0, 5, Europe, {sentence -> 0...|[{token, 0, 5, europe, {sentence -> 0...|\n",
            "+----------------------------------------+----------------------------------------+----------------------------------------+----------------------------------------+\n",
            "\n"
          ]
        }
      ],
      "source": [
        "result.show(truncate=40)"
      ]
    },
    {
      "cell_type": "code",
      "execution_count": null,
      "metadata": {
        "colab": {
          "base_uri": "https://localhost:8080/"
        },
        "id": "zxS0MEoM02wl",
        "outputId": "5c41e24c-365c-4cda-f214-5a111cf5a89b"
      },
      "outputs": [
        {
          "output_type": "execute_result",
          "data": {
            "text/plain": [
              "[Row(token=[Row(annotatorType='token', begin=0, end=4, result='Peter', metadata={'sentence': '0'}, embeddings=[]), Row(annotatorType='token', begin=6, end=7, result='is', metadata={'sentence': '0'}, embeddings=[]), Row(annotatorType='token', begin=9, end=9, result='a', metadata={'sentence': '0'}, embeddings=[]), Row(annotatorType='token', begin=11, end=14, result='very', metadata={'sentence': '0'}, embeddings=[]), Row(annotatorType='token', begin=16, end=19, result='good', metadata={'sentence': '0'}, embeddings=[]), Row(annotatorType='token', begin=21, end=26, result='person', metadata={'sentence': '0'}, embeddings=[]), Row(annotatorType='token', begin=27, end=27, result='.', metadata={'sentence': '0'}, embeddings=[])]),\n",
              " Row(token=[Row(annotatorType='token', begin=0, end=1, result='My', metadata={'sentence': '0'}, embeddings=[]), Row(annotatorType='token', begin=3, end=6, result='life', metadata={'sentence': '0'}, embeddings=[]), Row(annotatorType='token', begin=8, end=9, result='in', metadata={'sentence': '0'}, embeddings=[]), Row(annotatorType='token', begin=11, end=16, result='Russia', metadata={'sentence': '0'}, embeddings=[]), Row(annotatorType='token', begin=18, end=19, result='is', metadata={'sentence': '0'}, embeddings=[]), Row(annotatorType='token', begin=21, end=24, result='very', metadata={'sentence': '0'}, embeddings=[]), Row(annotatorType='token', begin=26, end=36, result='interesting', metadata={'sentence': '0'}, embeddings=[]), Row(annotatorType='token', begin=37, end=37, result='.', metadata={'sentence': '0'}, embeddings=[])])]"
            ]
          },
          "metadata": {},
          "execution_count": 68
        }
      ],
      "source": [
        "result.select('token').take(2)"
      ]
    },
    {
      "cell_type": "code",
      "execution_count": null,
      "metadata": {
        "colab": {
          "base_uri": "https://localhost:8080/"
        },
        "id": "xYQcnFVloa8R",
        "outputId": "87c71eee-8e93-47b8-854f-2d96fe25e66b"
      },
      "outputs": [
        {
          "output_type": "execute_result",
          "data": {
            "text/plain": [
              "[Row(result=['peter', 'is', 'a', 'very', 'good', 'person']),\n",
              " Row(result=['my', 'life', 'in', 'russia', 'is', 'very', 'interesting'])]"
            ]
          },
          "metadata": {},
          "execution_count": 69
        }
      ],
      "source": [
        "result.select('normalized.result').take(2)"
      ]
    },
    {
      "cell_type": "code",
      "execution_count": null,
      "metadata": {
        "colab": {
          "base_uri": "https://localhost:8080/"
        },
        "id": "dy6TLD9c1LTg",
        "outputId": "f2c90ab7-e08f-438f-b48c-17691efd8414"
      },
      "outputs": [
        {
          "output_type": "execute_result",
          "data": {
            "text/plain": [
              "[Row(normalized=[Row(annotatorType='token', begin=0, end=4, result='peter', metadata={'sentence': '0'}, embeddings=[]), Row(annotatorType='token', begin=6, end=7, result='is', metadata={'sentence': '0'}, embeddings=[]), Row(annotatorType='token', begin=9, end=9, result='a', metadata={'sentence': '0'}, embeddings=[]), Row(annotatorType='token', begin=11, end=14, result='very', metadata={'sentence': '0'}, embeddings=[]), Row(annotatorType='token', begin=16, end=19, result='good', metadata={'sentence': '0'}, embeddings=[]), Row(annotatorType='token', begin=21, end=26, result='person', metadata={'sentence': '0'}, embeddings=[])]),\n",
              " Row(normalized=[Row(annotatorType='token', begin=0, end=1, result='my', metadata={'sentence': '0'}, embeddings=[]), Row(annotatorType='token', begin=3, end=6, result='life', metadata={'sentence': '0'}, embeddings=[]), Row(annotatorType='token', begin=8, end=9, result='in', metadata={'sentence': '0'}, embeddings=[]), Row(annotatorType='token', begin=11, end=16, result='russia', metadata={'sentence': '0'}, embeddings=[]), Row(annotatorType='token', begin=18, end=19, result='is', metadata={'sentence': '0'}, embeddings=[]), Row(annotatorType='token', begin=21, end=24, result='very', metadata={'sentence': '0'}, embeddings=[]), Row(annotatorType='token', begin=26, end=36, result='interesting', metadata={'sentence': '0'}, embeddings=[])])]"
            ]
          },
          "metadata": {},
          "execution_count": 70
        }
      ],
      "source": [
        "result.select('normalized').take(2)"
      ]
    },
    {
      "cell_type": "markdown",
      "metadata": {
        "id": "__iJ4EMeVb3n"
      },
      "source": [
        "## Document Normalizer"
      ]
    },
    {
      "cell_type": "markdown",
      "metadata": {
        "id": "wfLIupJFZi3c"
      },
      "source": [
        "The DocumentNormalizer is an annotator that can be used after the DocumentAssembler to narmalize documents once that they have been processed and indexed .\n",
        "It takes in input annotated documents of type Array AnnotatorType.DOCUMENT and gives as output annotated document of type AnnotatorType.DOCUMENT .\n",
        "\n",
        "Parameters are:  \n",
        "\n",
        "| Parametre   | Description |\n",
        "| - | - |\n",
        "|**inputCol**      |input column name string which targets a column of type Array(AnnotatorType.DOCUMENT).|\n",
        "|**outputCol**      |output column name string which targets a column of type AnnotatorType.DOCUMENT.|\n",
        "|**action** |action string to perform applying regex patterns, i.e. (clean | extract). Default is \"clean\".|\n",
        "|**cleanupPatterns**  |normalization regex patterns which match will be removed from document. Default is \"<[^>]*>\" (e.g., it removes all HTML tags).|\n",
        "|**replacement** |replacement string to apply when regexes match. Default is \" \".|\n",
        "|**lowercase** |whether to convert strings to lowercase. Default is False.|\n",
        "|**removalPolicy** |removalPolicy to remove patterns from text with a given policy. Valid policy values are: \"all\", \"pretty_all\", \"first\", \"pretty_first\". Defaults is \"pretty_all\". |\n",
        "|**encoding** |file encoding to apply on normalized documents. Supported encodings are: UTF_8, UTF_16, US_ASCII, ISO-8859-1, UTF-16BE, UTF-16LE. Default is \"UTF-8\".|\n"
      ]
    },
    {
      "cell_type": "code",
      "execution_count": null,
      "metadata": {
        "id": "8Tj1c6UYhSzK"
      },
      "outputs": [],
      "source": [
        "text = '''\n",
        "  <div id=\"theworldsgreatest\" class='my-right my-hide-small my-wide toptext' style=\"font-family:'Segoe UI',Arial,sans-serif\">\n",
        "    THE WORLD'S LARGEST WEB DEVELOPER SITE\n",
        "    <h1 style=\"font-size:300%;\">THE WORLD'S LARGEST WEB DEVELOPER SITE</h1>\n",
        "    <p style=\"font-size:160%;\">Lorem Ipsum is simply dummy text of the printing and typesetting industry. Lorem Ipsum has been the industry's standard dummy text ever since the 1500s, when an unknown printer took a galley of type and scrambled it to make a type specimen book. It has survived not only five centuries, but also the leap into electronic typesetting, remaining essentially unchanged. It was popularised in the 1960s with the release of Letraset sheets containing Lorem Ipsum passages, and more recently with desktop publishing software like Aldus PageMaker including versions of Lorem Ipsum..</p>\n",
        "  </div>\n",
        "\n",
        "</div>'''"
      ]
    },
    {
      "cell_type": "code",
      "execution_count": null,
      "metadata": {
        "colab": {
          "base_uri": "https://localhost:8080/"
        },
        "id": "vB6CgjLlhi63",
        "outputId": "fe894b4d-c6ba-4459-8b61-6b54b8869bdd"
      },
      "outputs": [
        {
          "output_type": "stream",
          "name": "stdout",
          "text": [
            "+----------------------------------------------------------------------------------------------------------------------------------------------------------------------------------------------------------------------------------------------------------------------------------------------------------------------------------------------------------------------------------------------------------------------------------------------------------------------------------------------------------------------------------------------------------------------------------------------------------------------------------------------------------------------------------------------------------------------------------------------------------------------------------------------------------------------------------------------------------------------------------------------------------------+\n",
            "|text                                                                                                                                                                                                                                                                                                                                                                                                                                                                                                                                                                                                                                                                                                                                                                                                                                                                                                            |\n",
            "+----------------------------------------------------------------------------------------------------------------------------------------------------------------------------------------------------------------------------------------------------------------------------------------------------------------------------------------------------------------------------------------------------------------------------------------------------------------------------------------------------------------------------------------------------------------------------------------------------------------------------------------------------------------------------------------------------------------------------------------------------------------------------------------------------------------------------------------------------------------------------------------------------------------+\n",
            "|\\n  <div id=\"theworldsgreatest\" class='my-right my-hide-small my-wide toptext' style=\"font-family:'Segoe UI',Arial,sans-serif\">\\n    THE WORLD'S LARGEST WEB DEVELOPER SITE\\n    <h1 style=\"font-size:300%;\">THE WORLD'S LARGEST WEB DEVELOPER SITE</h1>\\n    <p style=\"font-size:160%;\">Lorem Ipsum is simply dummy text of the printing and typesetting industry. Lorem Ipsum has been the industry's standard dummy text ever since the 1500s, when an unknown printer took a galley of type and scrambled it to make a type specimen book. It has survived not only five centuries, but also the leap into electronic typesetting, remaining essentially unchanged. It was popularised in the 1960s with the release of Letraset sheets containing Lorem Ipsum passages, and more recently with desktop publishing software like Aldus PageMaker including versions of Lorem Ipsum..</p>\\n  </div>\\n\\n</div>|\n",
            "+----------------------------------------------------------------------------------------------------------------------------------------------------------------------------------------------------------------------------------------------------------------------------------------------------------------------------------------------------------------------------------------------------------------------------------------------------------------------------------------------------------------------------------------------------------------------------------------------------------------------------------------------------------------------------------------------------------------------------------------------------------------------------------------------------------------------------------------------------------------------------------------------------------------+\n",
            "\n"
          ]
        }
      ],
      "source": [
        "spark_df = spark.createDataFrame([[text]]).toDF(\"text\")\n",
        "\n",
        "spark_df.show(truncate=False)"
      ]
    },
    {
      "cell_type": "code",
      "execution_count": null,
      "metadata": {
        "colab": {
          "base_uri": "https://localhost:8080/"
        },
        "id": "y0nOIC0GKEqX",
        "outputId": "7b6ed15f-1a01-48da-e118-d55995155e07"
      },
      "outputs": [
        {
          "output_type": "execute_result",
          "data": {
            "text/plain": [
              "{Param(parent='DocumentNormalizer_1ca105b70429', name='lazyAnnotator', doc='Whether this AnnotatorModel acts as lazy in RecursivePipelines'): False,\n",
              " Param(parent='DocumentNormalizer_1ca105b70429', name='action', doc='action to perform applying regex patterns on text'): 'clean',\n",
              " Param(parent='DocumentNormalizer_1ca105b70429', name='patterns', doc='normalization regex patterns which match will be removed from document. Defaults is <[^>]*>'): ['<[^>]*>'],\n",
              " Param(parent='DocumentNormalizer_1ca105b70429', name='replacement', doc='replacement string to apply when regexes match'): ' ',\n",
              " Param(parent='DocumentNormalizer_1ca105b70429', name='lowercase', doc='whether to convert strings to lowercase'): False,\n",
              " Param(parent='DocumentNormalizer_1ca105b70429', name='policy', doc='policy to remove pattern from text'): 'pretty_all',\n",
              " Param(parent='DocumentNormalizer_1ca105b70429', name='encoding', doc='file encoding to apply on normalized documents'): 'UTF-8',\n",
              " Param(parent='DocumentNormalizer_1ca105b70429', name='inputCols', doc='previous annotations columns, if renamed'): ['document'],\n",
              " Param(parent='DocumentNormalizer_1ca105b70429', name='outputCol', doc='output annotation column. can be left default.'): 'normalizedDocument'}"
            ]
          },
          "metadata": {},
          "execution_count": 73
        }
      ],
      "source": [
        "documentNormalizer = DocumentNormalizer() \\\n",
        "    .setInputCols(\"document\") \\\n",
        "    .setOutputCol(\"normalizedDocument\")\n",
        "\n",
        "documentNormalizer.extractParamMap()"
      ]
    },
    {
      "cell_type": "code",
      "execution_count": null,
      "metadata": {
        "id": "UA3tF3AOVZyY"
      },
      "outputs": [],
      "source": [
        "documentAssembler = DocumentAssembler() \\\n",
        "    .setInputCol('text') \\\n",
        "    .setOutputCol('document')\n",
        "\n",
        "#default\n",
        "cleanUpPatterns = [\"<[^>]*>\"]\n",
        "\n",
        "documentNormalizer = DocumentNormalizer() \\\n",
        "    .setInputCols(\"document\") \\\n",
        "    .setOutputCol(\"normalizedDocument\") \\\n",
        "    .setAction(\"clean\") \\\n",
        "    .setPatterns(cleanUpPatterns) \\\n",
        "    .setReplacement(\" \") \\\n",
        "    .setPolicy(\"pretty_all\") \\\n",
        "    .setLowercase(True)\n",
        "\n",
        "docPatternRemoverPipeline = Pipeline() \\\n",
        "    .setStages([documentAssembler,\n",
        "                documentNormalizer])\n",
        "    \n",
        "pipelineModel = docPatternRemoverPipeline.fit(spark_df).transform(spark_df)"
      ]
    },
    {
      "cell_type": "code",
      "execution_count": null,
      "metadata": {
        "colab": {
          "base_uri": "https://localhost:8080/"
        },
        "id": "BMxU26nTgiEU",
        "outputId": "a5ab9dfd-9b74-44e6-d1ec-5e25e62d15b0"
      },
      "outputs": [
        {
          "output_type": "stream",
          "name": "stdout",
          "text": [
            "+--------------------------------------------------------------------------------------------------------------------------------------------------------------------------------------------------------------------------------------------------------------------------------------------------------------------------------------------------------------------------------------------------------------------------------------------------------------------------------------------------------------------------------------------------------------------------------------------------------------------------------------------------------------------------------+\n",
            "|result                                                                                                                                                                                                                                                                                                                                                                                                                                                                                                                                                                                                                                                                          |\n",
            "+--------------------------------------------------------------------------------------------------------------------------------------------------------------------------------------------------------------------------------------------------------------------------------------------------------------------------------------------------------------------------------------------------------------------------------------------------------------------------------------------------------------------------------------------------------------------------------------------------------------------------------------------------------------------------------+\n",
            "|[ the world's largest web developer site the world's largest web developer site lorem ipsum is simply dummy text of the printing and typesetting industry. lorem ipsum has been the industry's standard dummy text ever since the 1500s, when an unknown printer took a galley of type and scrambled it to make a type specimen book. it has survived not only five centuries, but also the leap into electronic typesetting, remaining essentially unchanged. it was popularised in the 1960s with the release of letraset sheets containing lorem ipsum passages, and more recently with desktop publishing software like aldus pagemaker including versions of lorem ipsum..]|\n",
            "+--------------------------------------------------------------------------------------------------------------------------------------------------------------------------------------------------------------------------------------------------------------------------------------------------------------------------------------------------------------------------------------------------------------------------------------------------------------------------------------------------------------------------------------------------------------------------------------------------------------------------------------------------------------------------------+\n",
            "\n"
          ]
        }
      ],
      "source": [
        "pipelineModel.select('normalizedDocument.result').show(truncate=False)"
      ]
    },
    {
      "cell_type": "markdown",
      "metadata": {
        "id": "_Kxd4cCegROX"
      },
      "source": [
        " for more examples : https://github.com/JohnSnowLabs/spark-nlp-workshop/blob/master/jupyter/annotation/english/document-normalizer/document_normalizer_notebook.ipynb"
      ]
    },
    {
      "cell_type": "markdown",
      "metadata": {
        "id": "g4jmmGZRwdwo"
      },
      "source": [
        "## Stopwords Cleaner"
      ]
    },
    {
      "cell_type": "markdown",
      "metadata": {
        "id": "7fgcop89yIT-"
      },
      "source": [
        "This annotator excludes from a sequence of strings (e.g. the output of a Tokenizer, Normalizer, Lemmatizer, and Stemmer) and drops all the stop words from the input sequences.\n",
        "\n",
        "**Functions**:\n",
        "\n",
        "| Parametre   | Description |\n",
        "| - | - |\n",
        "|**setStopWords**      |The words to be filtered out. Array[String]|\n",
        "|**setCaseSensitive**      |Whether to do a case sensitive comparison over the stop words.|\n"
      ]
    },
    {
      "cell_type": "code",
      "execution_count": null,
      "metadata": {
        "id": "E7pS3jUcoedG"
      },
      "outputs": [],
      "source": [
        "stopwords_cleaner = StopWordsCleaner()\\\n",
        "    .setInputCols(\"token\")\\\n",
        "    .setOutputCol(\"cleanTokens\")\\\n",
        "    .setCaseSensitive(False)\\\n",
        "    #.setStopWords([\"no\", \"without\"]) (e.g. read a list of words from a txt)"
      ]
    },
    {
      "cell_type": "code",
      "execution_count": null,
      "metadata": {
        "colab": {
          "base_uri": "https://localhost:8080/"
        },
        "id": "2mGt9RoD1ezP",
        "outputId": "bb6a917a-e160-47ad-9dda-bc136995a49d"
      },
      "outputs": [
        {
          "output_type": "execute_result",
          "data": {
            "text/plain": [
              "['i',\n",
              " 'me',\n",
              " 'my',\n",
              " 'myself',\n",
              " 'we',\n",
              " 'our',\n",
              " 'ours',\n",
              " 'ourselves',\n",
              " 'you',\n",
              " 'your',\n",
              " 'yours',\n",
              " 'yourself',\n",
              " 'yourselves',\n",
              " 'he',\n",
              " 'him',\n",
              " 'his',\n",
              " 'himself',\n",
              " 'she',\n",
              " 'her',\n",
              " 'hers',\n",
              " 'herself',\n",
              " 'it',\n",
              " 'its',\n",
              " 'itself',\n",
              " 'they',\n",
              " 'them',\n",
              " 'their',\n",
              " 'theirs',\n",
              " 'themselves',\n",
              " 'what',\n",
              " 'which',\n",
              " 'who',\n",
              " 'whom',\n",
              " 'this',\n",
              " 'that',\n",
              " 'these',\n",
              " 'those',\n",
              " 'am',\n",
              " 'is',\n",
              " 'are',\n",
              " 'was',\n",
              " 'were',\n",
              " 'be',\n",
              " 'been',\n",
              " 'being',\n",
              " 'have',\n",
              " 'has',\n",
              " 'had',\n",
              " 'having',\n",
              " 'do',\n",
              " 'does',\n",
              " 'did',\n",
              " 'doing',\n",
              " 'a',\n",
              " 'an',\n",
              " 'the',\n",
              " 'and',\n",
              " 'but',\n",
              " 'if',\n",
              " 'or',\n",
              " 'because',\n",
              " 'as',\n",
              " 'until',\n",
              " 'while',\n",
              " 'of',\n",
              " 'at',\n",
              " 'by',\n",
              " 'for',\n",
              " 'with',\n",
              " 'about',\n",
              " 'against',\n",
              " 'between',\n",
              " 'into',\n",
              " 'through',\n",
              " 'during',\n",
              " 'before',\n",
              " 'after',\n",
              " 'above',\n",
              " 'below',\n",
              " 'to',\n",
              " 'from',\n",
              " 'up',\n",
              " 'down',\n",
              " 'in',\n",
              " 'out',\n",
              " 'on',\n",
              " 'off',\n",
              " 'over',\n",
              " 'under',\n",
              " 'again',\n",
              " 'further',\n",
              " 'then',\n",
              " 'once',\n",
              " 'here',\n",
              " 'there',\n",
              " 'when',\n",
              " 'where',\n",
              " 'why',\n",
              " 'how',\n",
              " 'all',\n",
              " 'any',\n",
              " 'both',\n",
              " 'each',\n",
              " 'few',\n",
              " 'more',\n",
              " 'most',\n",
              " 'other',\n",
              " 'some',\n",
              " 'such',\n",
              " 'no',\n",
              " 'nor',\n",
              " 'not',\n",
              " 'only',\n",
              " 'own',\n",
              " 'same',\n",
              " 'so',\n",
              " 'than',\n",
              " 'too',\n",
              " 'very',\n",
              " 's',\n",
              " 't',\n",
              " 'can',\n",
              " 'will',\n",
              " 'just',\n",
              " 'don',\n",
              " 'should',\n",
              " 'now',\n",
              " \"i'll\",\n",
              " \"you'll\",\n",
              " \"he'll\",\n",
              " \"she'll\",\n",
              " \"we'll\",\n",
              " \"they'll\",\n",
              " \"i'd\",\n",
              " \"you'd\",\n",
              " \"he'd\",\n",
              " \"she'd\",\n",
              " \"we'd\",\n",
              " \"they'd\",\n",
              " \"i'm\",\n",
              " \"you're\",\n",
              " \"he's\",\n",
              " \"she's\",\n",
              " \"it's\",\n",
              " \"we're\",\n",
              " \"they're\",\n",
              " \"i've\",\n",
              " \"we've\",\n",
              " \"you've\",\n",
              " \"they've\",\n",
              " \"isn't\",\n",
              " \"aren't\",\n",
              " \"wasn't\",\n",
              " \"weren't\",\n",
              " \"haven't\",\n",
              " \"hasn't\",\n",
              " \"hadn't\",\n",
              " \"don't\",\n",
              " \"doesn't\",\n",
              " \"didn't\",\n",
              " \"won't\",\n",
              " \"wouldn't\",\n",
              " \"shan't\",\n",
              " \"shouldn't\",\n",
              " \"mustn't\",\n",
              " \"can't\",\n",
              " \"couldn't\",\n",
              " 'cannot',\n",
              " 'could',\n",
              " \"here's\",\n",
              " \"how's\",\n",
              " \"let's\",\n",
              " 'ought',\n",
              " \"that's\",\n",
              " \"there's\",\n",
              " \"what's\",\n",
              " \"when's\",\n",
              " \"where's\",\n",
              " \"who's\",\n",
              " \"why's\",\n",
              " 'would']"
            ]
          },
          "metadata": {},
          "execution_count": 77
        }
      ],
      "source": [
        "stopwords_cleaner.getStopWords()"
      ]
    },
    {
      "cell_type": "code",
      "execution_count": null,
      "metadata": {
        "colab": {
          "base_uri": "https://localhost:8080/"
        },
        "id": "i7-YZcLRv8Y7",
        "outputId": "d8d1baf5-b23c-4f4d-da30-75db38c5ec55"
      },
      "outputs": [
        {
          "output_type": "stream",
          "name": "stdout",
          "text": [
            "+----------------------------------------+----------------------------------------+----------------------------------------+----------------------------------------+\n",
            "|                                    text|                                document|                                   token|                             cleanTokens|\n",
            "+----------------------------------------+----------------------------------------+----------------------------------------+----------------------------------------+\n",
            "|            Peter is a very good person.|[{document, 0, 27, Peter is a very go...|[{token, 0, 4, Peter, {sentence -> 0}...|[{token, 0, 4, Peter, {sentence -> 0}...|\n",
            "|  My life in Russia is very interesting.|[{document, 0, 37, My life in Russia ...|[{token, 0, 1, My, {sentence -> 0}, [...|[{token, 3, 6, life, {sentence -> 0},...|\n",
            "|John and Peter are brothers. However ...|[{document, 0, 76, John and Peter are...|[{token, 0, 3, John, {sentence -> 0},...|[{token, 0, 3, John, {sentence -> 0},...|\n",
            "|Lucas Nogal Dunbercker is no longer h...|[{document, 0, 67, Lucas Nogal Dunber...|[{token, 0, 4, Lucas, {sentence -> 0}...|[{token, 0, 4, Lucas, {sentence -> 0}...|\n",
            "|Europe is very culture rich. There ar...|[{document, 0, 68, Europe is very cul...|[{token, 0, 5, Europe, {sentence -> 0...|[{token, 0, 5, Europe, {sentence -> 0...|\n",
            "+----------------------------------------+----------------------------------------+----------------------------------------+----------------------------------------+\n",
            "\n"
          ]
        }
      ],
      "source": [
        "documentAssembler = DocumentAssembler()\\\n",
        "    .setInputCol(\"text\")\\\n",
        "    .setOutputCol(\"document\")\n",
        "\n",
        "tokenizer = Tokenizer() \\\n",
        "    .setInputCols([\"document\"]) \\\n",
        "    .setOutputCol(\"token\")\n",
        "\n",
        "nlpPipeline = Pipeline(stages=[documentAssembler, \n",
        "                               tokenizer,\n",
        "                               stopwords_cleaner])\n",
        " \n",
        "spark_df = spark.read.text('./sample-sentences-en.txt').toDF('text')\n",
        "\n",
        "result = nlpPipeline.fit(spark_df).transform(spark_df)\n",
        "\n",
        "result.show(truncate=40)"
      ]
    },
    {
      "cell_type": "code",
      "execution_count": null,
      "metadata": {
        "colab": {
          "base_uri": "https://localhost:8080/"
        },
        "id": "lp_oGHvt1waL",
        "outputId": "3bb58dd1-c0d2-4fa9-c5db-53955993ac6c"
      },
      "outputs": [
        {
          "output_type": "execute_result",
          "data": {
            "text/plain": [
              "[Row(result=['Peter', 'good', 'person', '.'])]"
            ]
          },
          "metadata": {},
          "execution_count": 79
        }
      ],
      "source": [
        "result.select('cleanTokens.result').take(1)"
      ]
    },
    {
      "cell_type": "markdown",
      "metadata": {
        "id": "zN9HpW_Lix7_"
      },
      "source": [
        "## Token Assembler"
      ]
    },
    {
      "cell_type": "code",
      "execution_count": null,
      "metadata": {
        "colab": {
          "base_uri": "https://localhost:8080/"
        },
        "id": "V1wMkz9cix7_",
        "outputId": "6d9dc141-030f-4688-c852-8212da8b9f27"
      },
      "outputs": [
        {
          "output_type": "stream",
          "name": "stdout",
          "text": [
            "+--------------------+--------------------+--------------------+--------------------+--------------------+--------------------+--------------------+\n",
            "|                text|            document|           sentences|               token|          normalized|         cleanTokens|          clean_text|\n",
            "+--------------------+--------------------+--------------------+--------------------+--------------------+--------------------+--------------------+\n",
            "|Peter is a very g...|[{document, 0, 27...|[{document, 0, 27...|[{token, 0, 4, Pe...|[{token, 0, 4, Pe...|[{token, 0, 4, Pe...|[{document, 0, 16...|\n",
            "|My life in Russia...|[{document, 0, 37...|[{document, 0, 37...|[{token, 0, 1, My...|[{token, 0, 1, My...|[{token, 3, 6, li...|[{document, 0, 22...|\n",
            "|John and Peter ar...|[{document, 0, 76...|[{document, 0, 27...|[{token, 0, 3, Jo...|[{token, 0, 3, Jo...|[{token, 0, 3, Jo...|[{document, 0, 18...|\n",
            "|Lucas Nogal Dunbe...|[{document, 0, 67...|[{document, 0, 41...|[{token, 0, 4, Lu...|[{token, 0, 4, Lu...|[{token, 0, 4, Lu...|[{document, 0, 34...|\n",
            "|Europe is very cu...|[{document, 0, 68...|[{document, 0, 27...|[{token, 0, 5, Eu...|[{token, 0, 5, Eu...|[{token, 0, 5, Eu...|[{document, 0, 18...|\n",
            "+--------------------+--------------------+--------------------+--------------------+--------------------+--------------------+--------------------+\n",
            "\n"
          ]
        }
      ],
      "source": [
        "documentAssembler = DocumentAssembler()\\\n",
        "    .setInputCol(\"text\")\\\n",
        "    .setOutputCol(\"document\")\n",
        "\n",
        "sentenceDetector = SentenceDetector()\\\n",
        "    .setInputCols(['document'])\\\n",
        "    .setOutputCol('sentences')\n",
        "\n",
        "tokenizer = Tokenizer() \\\n",
        "    .setInputCols([\"sentences\"]) \\\n",
        "    .setOutputCol(\"token\")\n",
        "\n",
        "normalizer = Normalizer() \\\n",
        "    .setInputCols([\"token\"]) \\\n",
        "    .setOutputCol(\"normalized\")\\\n",
        "    .setLowercase(False)\\\n",
        "\n",
        "stopwords_cleaner = StopWordsCleaner()\\\n",
        "    .setInputCols(\"normalized\")\\\n",
        "    .setOutputCol(\"cleanTokens\")\\\n",
        "    .setCaseSensitive(False)\\\n",
        "\n",
        "tokenassembler = TokenAssembler()\\\n",
        "    .setInputCols([\"sentences\", \"cleanTokens\"]) \\\n",
        "    .setOutputCol(\"clean_text\")\n",
        "\n",
        "\n",
        "nlpPipeline = Pipeline(stages=[documentAssembler,\n",
        "                               sentenceDetector,\n",
        "                               tokenizer,\n",
        "                               normalizer,\n",
        "                               stopwords_cleaner,\n",
        "                               tokenassembler])\n",
        "\n",
        "result = nlpPipeline.fit(spark_df).transform(spark_df)\n",
        "result.show()"
      ]
    },
    {
      "cell_type": "code",
      "execution_count": null,
      "metadata": {
        "colab": {
          "base_uri": "https://localhost:8080/"
        },
        "id": "eOMngM9y78tp",
        "outputId": "2de45590-531b-4e2b-ab15-8c1b038f4c53"
      },
      "outputs": [
        {
          "output_type": "execute_result",
          "data": {
            "text/plain": [
              "[Row(clean_text=[Row(annotatorType='document', begin=0, end=16, result='Peter good person', metadata={'sentence': '0'}, embeddings=[])])]"
            ]
          },
          "metadata": {},
          "execution_count": 81
        }
      ],
      "source": [
        "# if we use TokenAssembler().setPreservePosition(True), the original borders will be preserved (dropped & unwanted chars will be replaced by spaces)\n",
        "\n",
        "result.select('clean_text').take(1)"
      ]
    },
    {
      "cell_type": "code",
      "execution_count": null,
      "metadata": {
        "colab": {
          "base_uri": "https://localhost:8080/"
        },
        "id": "qEN-vDyQ_AUc",
        "outputId": "ad13b7fc-d524-4b14-d2eb-da29d58e81e5"
      },
      "outputs": [
        {
          "output_type": "stream",
          "name": "stdout",
          "text": [
            "+-----------------------------------------------------------------------------+-----------------------------------+\n",
            "|text                                                                         |clean_text                         |\n",
            "+-----------------------------------------------------------------------------+-----------------------------------+\n",
            "|Peter is a very good person.                                                 |Peter good person                  |\n",
            "|My life in Russia is very interesting.                                       |life Russia interesting            |\n",
            "|John and Peter are brothers. However they don't support each other that much.|John Peter brothers                |\n",
            "|John and Peter are brothers. However they don't support each other that much.|However dont support much          |\n",
            "|Lucas Nogal Dunbercker is no longer happy. He has a good car though.         |Lucas Nogal Dunbercker longer happy|\n",
            "|Lucas Nogal Dunbercker is no longer happy. He has a good car though.         |good car though                    |\n",
            "|Europe is very culture rich. There are huge churches! and big houses!        |Europe culture rich                |\n",
            "|Europe is very culture rich. There are huge churches! and big houses!        |huge churches                      |\n",
            "|Europe is very culture rich. There are huge churches! and big houses!        |big houses                         |\n",
            "+-----------------------------------------------------------------------------+-----------------------------------+\n",
            "\n"
          ]
        }
      ],
      "source": [
        "result.select('text', F.explode(result.clean_text.result).alias('clean_text')).show(truncate=False)"
      ]
    },
    {
      "cell_type": "code",
      "execution_count": null,
      "metadata": {
        "colab": {
          "base_uri": "https://localhost:8080/",
          "height": 332
        },
        "id": "PMS_uxkXqOFu",
        "outputId": "4d549b8e-0374-44de-dd43-8cee1f97a922"
      },
      "outputs": [
        {
          "output_type": "execute_result",
          "data": {
            "text/plain": [
              "                                                text  \\\n",
              "0                       Peter is a very good person.   \n",
              "1             My life in Russia is very interesting.   \n",
              "2  John and Peter are brothers. However they don'...   \n",
              "3  John and Peter are brothers. However they don'...   \n",
              "4  Lucas Nogal Dunbercker is no longer happy. He ...   \n",
              "5  Lucas Nogal Dunbercker is no longer happy. He ...   \n",
              "6  Europe is very culture rich. There are huge ch...   \n",
              "7  Europe is very culture rich. There are huge ch...   \n",
              "8  Europe is very culture rich. There are huge ch...   \n",
              "\n",
              "                            clean_text  \n",
              "0                    Peter good person  \n",
              "1              life Russia interesting  \n",
              "2                  John Peter brothers  \n",
              "3            However dont support much  \n",
              "4  Lucas Nogal Dunbercker longer happy  \n",
              "5                      good car though  \n",
              "6                  Europe culture rich  \n",
              "7                        huge churches  \n",
              "8                           big houses  "
            ],
            "text/html": [
              "\n",
              "  <div id=\"df-9feaa39d-bdcc-441f-a5c5-d5413b27e2d1\">\n",
              "    <div class=\"colab-df-container\">\n",
              "      <div>\n",
              "<style scoped>\n",
              "    .dataframe tbody tr th:only-of-type {\n",
              "        vertical-align: middle;\n",
              "    }\n",
              "\n",
              "    .dataframe tbody tr th {\n",
              "        vertical-align: top;\n",
              "    }\n",
              "\n",
              "    .dataframe thead th {\n",
              "        text-align: right;\n",
              "    }\n",
              "</style>\n",
              "<table border=\"1\" class=\"dataframe\">\n",
              "  <thead>\n",
              "    <tr style=\"text-align: right;\">\n",
              "      <th></th>\n",
              "      <th>text</th>\n",
              "      <th>clean_text</th>\n",
              "    </tr>\n",
              "  </thead>\n",
              "  <tbody>\n",
              "    <tr>\n",
              "      <th>0</th>\n",
              "      <td>Peter is a very good person.</td>\n",
              "      <td>Peter good person</td>\n",
              "    </tr>\n",
              "    <tr>\n",
              "      <th>1</th>\n",
              "      <td>My life in Russia is very interesting.</td>\n",
              "      <td>life Russia interesting</td>\n",
              "    </tr>\n",
              "    <tr>\n",
              "      <th>2</th>\n",
              "      <td>John and Peter are brothers. However they don'...</td>\n",
              "      <td>John Peter brothers</td>\n",
              "    </tr>\n",
              "    <tr>\n",
              "      <th>3</th>\n",
              "      <td>John and Peter are brothers. However they don'...</td>\n",
              "      <td>However dont support much</td>\n",
              "    </tr>\n",
              "    <tr>\n",
              "      <th>4</th>\n",
              "      <td>Lucas Nogal Dunbercker is no longer happy. He ...</td>\n",
              "      <td>Lucas Nogal Dunbercker longer happy</td>\n",
              "    </tr>\n",
              "    <tr>\n",
              "      <th>5</th>\n",
              "      <td>Lucas Nogal Dunbercker is no longer happy. He ...</td>\n",
              "      <td>good car though</td>\n",
              "    </tr>\n",
              "    <tr>\n",
              "      <th>6</th>\n",
              "      <td>Europe is very culture rich. There are huge ch...</td>\n",
              "      <td>Europe culture rich</td>\n",
              "    </tr>\n",
              "    <tr>\n",
              "      <th>7</th>\n",
              "      <td>Europe is very culture rich. There are huge ch...</td>\n",
              "      <td>huge churches</td>\n",
              "    </tr>\n",
              "    <tr>\n",
              "      <th>8</th>\n",
              "      <td>Europe is very culture rich. There are huge ch...</td>\n",
              "      <td>big houses</td>\n",
              "    </tr>\n",
              "  </tbody>\n",
              "</table>\n",
              "</div>\n",
              "      <button class=\"colab-df-convert\" onclick=\"convertToInteractive('df-9feaa39d-bdcc-441f-a5c5-d5413b27e2d1')\"\n",
              "              title=\"Convert this dataframe to an interactive table.\"\n",
              "              style=\"display:none;\">\n",
              "        \n",
              "  <svg xmlns=\"http://www.w3.org/2000/svg\" height=\"24px\"viewBox=\"0 0 24 24\"\n",
              "       width=\"24px\">\n",
              "    <path d=\"M0 0h24v24H0V0z\" fill=\"none\"/>\n",
              "    <path d=\"M18.56 5.44l.94 2.06.94-2.06 2.06-.94-2.06-.94-.94-2.06-.94 2.06-2.06.94zm-11 1L8.5 8.5l.94-2.06 2.06-.94-2.06-.94L8.5 2.5l-.94 2.06-2.06.94zm10 10l.94 2.06.94-2.06 2.06-.94-2.06-.94-.94-2.06-.94 2.06-2.06.94z\"/><path d=\"M17.41 7.96l-1.37-1.37c-.4-.4-.92-.59-1.43-.59-.52 0-1.04.2-1.43.59L10.3 9.45l-7.72 7.72c-.78.78-.78 2.05 0 2.83L4 21.41c.39.39.9.59 1.41.59.51 0 1.02-.2 1.41-.59l7.78-7.78 2.81-2.81c.8-.78.8-2.07 0-2.86zM5.41 20L4 18.59l7.72-7.72 1.47 1.35L5.41 20z\"/>\n",
              "  </svg>\n",
              "      </button>\n",
              "      \n",
              "  <style>\n",
              "    .colab-df-container {\n",
              "      display:flex;\n",
              "      flex-wrap:wrap;\n",
              "      gap: 12px;\n",
              "    }\n",
              "\n",
              "    .colab-df-convert {\n",
              "      background-color: #E8F0FE;\n",
              "      border: none;\n",
              "      border-radius: 50%;\n",
              "      cursor: pointer;\n",
              "      display: none;\n",
              "      fill: #1967D2;\n",
              "      height: 32px;\n",
              "      padding: 0 0 0 0;\n",
              "      width: 32px;\n",
              "    }\n",
              "\n",
              "    .colab-df-convert:hover {\n",
              "      background-color: #E2EBFA;\n",
              "      box-shadow: 0px 1px 2px rgba(60, 64, 67, 0.3), 0px 1px 3px 1px rgba(60, 64, 67, 0.15);\n",
              "      fill: #174EA6;\n",
              "    }\n",
              "\n",
              "    [theme=dark] .colab-df-convert {\n",
              "      background-color: #3B4455;\n",
              "      fill: #D2E3FC;\n",
              "    }\n",
              "\n",
              "    [theme=dark] .colab-df-convert:hover {\n",
              "      background-color: #434B5C;\n",
              "      box-shadow: 0px 1px 3px 1px rgba(0, 0, 0, 0.15);\n",
              "      filter: drop-shadow(0px 1px 2px rgba(0, 0, 0, 0.3));\n",
              "      fill: #FFFFFF;\n",
              "    }\n",
              "  </style>\n",
              "\n",
              "      <script>\n",
              "        const buttonEl =\n",
              "          document.querySelector('#df-9feaa39d-bdcc-441f-a5c5-d5413b27e2d1 button.colab-df-convert');\n",
              "        buttonEl.style.display =\n",
              "          google.colab.kernel.accessAllowed ? 'block' : 'none';\n",
              "\n",
              "        async function convertToInteractive(key) {\n",
              "          const element = document.querySelector('#df-9feaa39d-bdcc-441f-a5c5-d5413b27e2d1');\n",
              "          const dataTable =\n",
              "            await google.colab.kernel.invokeFunction('convertToInteractive',\n",
              "                                                     [key], {});\n",
              "          if (!dataTable) return;\n",
              "\n",
              "          const docLinkHtml = 'Like what you see? Visit the ' +\n",
              "            '<a target=\"_blank\" href=https://colab.research.google.com/notebooks/data_table.ipynb>data table notebook</a>'\n",
              "            + ' to learn more about interactive tables.';\n",
              "          element.innerHTML = '';\n",
              "          dataTable['output_type'] = 'display_data';\n",
              "          await google.colab.output.renderOutput(dataTable, element);\n",
              "          const docLink = document.createElement('div');\n",
              "          docLink.innerHTML = docLinkHtml;\n",
              "          element.appendChild(docLink);\n",
              "        }\n",
              "      </script>\n",
              "    </div>\n",
              "  </div>\n",
              "  "
            ]
          },
          "metadata": {},
          "execution_count": 83
        }
      ],
      "source": [
        "result.select('text', F.explode(result.clean_text.result).alias('clean_text')).toPandas()"
      ]
    },
    {
      "cell_type": "code",
      "execution_count": null,
      "metadata": {
        "colab": {
          "base_uri": "https://localhost:8080/"
        },
        "id": "4NIAZNWcix8D",
        "outputId": "2eb57789-0496-4d34-c709-b4e5921e4d3b"
      },
      "outputs": [
        {
          "output_type": "stream",
          "name": "stdout",
          "text": [
            "+-----+---+-----------------------------------+--------+\n",
            "|begin|end|result                             |sentence|\n",
            "+-----+---+-----------------------------------+--------+\n",
            "|0    |16 |Peter good person                  |0       |\n",
            "|0    |22 |life Russia interesting            |0       |\n",
            "|0    |18 |John Peter brothers                |0       |\n",
            "|29   |53 |However dont support much          |1       |\n",
            "|0    |34 |Lucas Nogal Dunbercker longer happy|0       |\n",
            "|43   |57 |good car though                    |1       |\n",
            "|0    |18 |Europe culture rich                |0       |\n",
            "|29   |41 |huge churches                      |1       |\n",
            "|54   |63 |big houses                         |2       |\n",
            "+-----+---+-----------------------------------+--------+\n",
            "\n"
          ]
        }
      ],
      "source": [
        "import pyspark.sql.functions as F\n",
        "\n",
        "result.withColumn(\n",
        "    \"tmp\", \n",
        "    F.explode(\"clean_text\")) \\\n",
        "    .select(\"tmp.*\").select(\"begin\",\"end\",\"result\",\"metadata.sentence\").show(truncate = False)"
      ]
    },
    {
      "cell_type": "code",
      "execution_count": null,
      "metadata": {
        "colab": {
          "base_uri": "https://localhost:8080/"
        },
        "id": "zJLjfE_Qix8G",
        "outputId": "e9800160-f002-4484-8bf6-ffbf0f86278a"
      },
      "outputs": [
        {
          "output_type": "stream",
          "name": "stdout",
          "text": [
            "+-----------------------------------------------------------------------------+-----------------------------------------------------+\n",
            "|text                                                                         |result                                               |\n",
            "+-----------------------------------------------------------------------------+-----------------------------------------------------+\n",
            "|Peter is a very good person.                                                 |[Peter good person]                                  |\n",
            "|My life in Russia is very interesting.                                       |[life Russia interesting]                            |\n",
            "|John and Peter are brothers. However they don't support each other that much.|[John Peter brothers However dont support much]      |\n",
            "|Lucas Nogal Dunbercker is no longer happy. He has a good car though.         |[Lucas Nogal Dunbercker longer happy good car though]|\n",
            "|Europe is very culture rich. There are huge churches! and big houses!        |[Europe culture rich huge churches big houses]       |\n",
            "+-----------------------------------------------------------------------------+-----------------------------------------------------+\n",
            "\n"
          ]
        }
      ],
      "source": [
        "# if we hadn't used Sentence Detector, this would be what we got. (tokenizer gets document instead of sentences column)\n",
        "\n",
        "tokenizer = Tokenizer() \\\n",
        "    .setInputCols([\"document\"]) \\\n",
        "    .setOutputCol(\"token\")\n",
        "\n",
        "tokenassembler = TokenAssembler()\\\n",
        "    .setInputCols([\"document\", \"cleanTokens\"]) \\\n",
        "    .setOutputCol(\"clean_text\")\n",
        "\n",
        "nlpPipeline = Pipeline(stages=[documentAssembler,\n",
        "                               tokenizer,\n",
        "                               normalizer,\n",
        "                               stopwords_cleaner,\n",
        "                               tokenassembler])\n",
        "\n",
        "result = nlpPipeline.fit(spark_df).transform(spark_df)\n",
        "result.select('text', 'clean_text.result').show(truncate=False)"
      ]
    },
    {
      "cell_type": "code",
      "execution_count": null,
      "metadata": {
        "colab": {
          "base_uri": "https://localhost:8080/"
        },
        "id": "Pr419bEwix8H",
        "outputId": "fc1f88f6-7d19-46cd-9fa5-ea191f4b5f98"
      },
      "outputs": [
        {
          "output_type": "stream",
          "name": "stdout",
          "text": [
            "+-----+---+---------------------------------------------------+--------+\n",
            "|begin|end|result                                             |sentence|\n",
            "+-----+---+---------------------------------------------------+--------+\n",
            "|0    |16 |Peter good person                                  |0       |\n",
            "|0    |22 |life Russia interesting                            |0       |\n",
            "|0    |44 |John Peter brothers However dont support much      |0       |\n",
            "|0    |50 |Lucas Nogal Dunbercker longer happy good car though|0       |\n",
            "|0    |43 |Europe culture rich huge churches big houses       |0       |\n",
            "+-----+---+---------------------------------------------------+--------+\n",
            "\n"
          ]
        }
      ],
      "source": [
        "result.withColumn(\n",
        "    \"tmp\", \n",
        "    F.explode(\"clean_text\")) \\\n",
        "    .select(\"tmp.*\").select(\"begin\",\"end\",\"result\",\"metadata.sentence\").show(truncate = False)"
      ]
    },
    {
      "cell_type": "markdown",
      "metadata": {
        "id": "iPrXwVA9GCCS"
      },
      "source": [
        "**IMPORTANT NOTE:**\n",
        "\n",
        "If you have some other steps & annotators in your pipeline that will need to use the tokens from cleaned text (assembled tokens), you will need to tokenize the processed text again as the original text is probably changed completely."
      ]
    },
    {
      "cell_type": "markdown",
      "metadata": {
        "id": "XO_ZWY2z1Ka6"
      },
      "source": [
        "## Stemmer"
      ]
    },
    {
      "cell_type": "markdown",
      "metadata": {
        "id": "aE2PEX0x1NgQ"
      },
      "source": [
        "Returns hard-stems out of words with the objective of retrieving the meaningful part of the word\n"
      ]
    },
    {
      "cell_type": "code",
      "execution_count": null,
      "metadata": {
        "id": "0sN0gS3ayfHT"
      },
      "outputs": [],
      "source": [
        "stemmer = Stemmer() \\\n",
        "    .setInputCols([\"token\"]) \\\n",
        "    .setOutputCol(\"stem\")"
      ]
    },
    {
      "cell_type": "code",
      "execution_count": null,
      "metadata": {
        "colab": {
          "base_uri": "https://localhost:8080/"
        },
        "id": "VdJ-8aUy1RrC",
        "outputId": "868a2adf-a32f-4d7f-8738-e4dea06b9b61"
      },
      "outputs": [
        {
          "output_type": "stream",
          "name": "stdout",
          "text": [
            "+----------------------------------------+----------------------------------------+----------------------------------------+----------------------------------------+\n",
            "|                                    text|                                document|                                   token|                                    stem|\n",
            "+----------------------------------------+----------------------------------------+----------------------------------------+----------------------------------------+\n",
            "|            Peter is a very good person.|[{document, 0, 27, Peter is a very go...|[{token, 0, 4, Peter, {sentence -> 0}...|[{token, 0, 4, peter, {sentence -> 0}...|\n",
            "|  My life in Russia is very interesting.|[{document, 0, 37, My life in Russia ...|[{token, 0, 1, My, {sentence -> 0}, [...|[{token, 0, 1, my, {sentence -> 0}, [...|\n",
            "|John and Peter are brothers. However ...|[{document, 0, 76, John and Peter are...|[{token, 0, 3, John, {sentence -> 0},...|[{token, 0, 3, john, {sentence -> 0},...|\n",
            "|Lucas Nogal Dunbercker is no longer h...|[{document, 0, 67, Lucas Nogal Dunber...|[{token, 0, 4, Lucas, {sentence -> 0}...|[{token, 0, 4, luca, {sentence -> 0},...|\n",
            "|Europe is very culture rich. There ar...|[{document, 0, 68, Europe is very cul...|[{token, 0, 5, Europe, {sentence -> 0...|[{token, 0, 5, europ, {sentence -> 0}...|\n",
            "+----------------------------------------+----------------------------------------+----------------------------------------+----------------------------------------+\n",
            "\n"
          ]
        }
      ],
      "source": [
        "documentAssembler = DocumentAssembler()\\\n",
        "    .setInputCol(\"text\")\\\n",
        "    .setOutputCol(\"document\")\n",
        "\n",
        "tokenizer = Tokenizer() \\\n",
        "    .setInputCols([\"document\"]) \\\n",
        "    .setOutputCol(\"token\")\n",
        "\n",
        "nlpPipeline = Pipeline(stages=[documentAssembler, \n",
        "                               tokenizer,\n",
        "                               stemmer])\n",
        "\n",
        "result = nlpPipeline.fit(spark_df).transform(spark_df)\n",
        "\n",
        "result.show(truncate=40)"
      ]
    },
    {
      "cell_type": "code",
      "execution_count": null,
      "metadata": {
        "colab": {
          "base_uri": "https://localhost:8080/"
        },
        "id": "SvapcdcM1fWR",
        "outputId": "57225c1f-615e-428e-ab6e-e1fd5843b660"
      },
      "outputs": [
        {
          "output_type": "stream",
          "name": "stdout",
          "text": [
            "+-------------------------------------------------------------------------------------------+\n",
            "|result                                                                                     |\n",
            "+-------------------------------------------------------------------------------------------+\n",
            "|[peter, i, a, veri, good, person, .]                                                       |\n",
            "|[my, life, in, russia, i, veri, interest, .]                                               |\n",
            "|[john, and, peter, ar, brother, ., howev, thei, don't, support, each, other, that, much, .]|\n",
            "|[luca, nogal, dunberck, i, no, longer, happi, ., he, ha, a, good, car, though, .]          |\n",
            "|[europ, i, veri, cultur, rich, ., there, ar, huge, church, !, and, big, hous, !]           |\n",
            "+-------------------------------------------------------------------------------------------+\n",
            "\n"
          ]
        }
      ],
      "source": [
        "result.select('stem.result').show(truncate=False)"
      ]
    },
    {
      "cell_type": "markdown",
      "metadata": {
        "id": "CKvKqZx9wtpj"
      },
      "source": [
        "If you are using PySpark 3.1.2 or below, You should use this format.\n",
        "``` \n",
        "import pyspark.sql.functions as F\n",
        "\n",
        "result_df = result.select(F.explode(F.arrays_zip(\"token.result\", \"stem.result\")).alias(\"cols\")) \\\n",
        "                  .select(F.expr(\"cols['0']\").alias(\"token\"),\n",
        "                          F.expr(\"cols['1']\").alias(\"stem\")).toPandas()\n",
        "\n",
        "result_df.head(10)\n",
        "```"
      ]
    },
    {
      "cell_type": "code",
      "execution_count": null,
      "metadata": {
        "colab": {
          "base_uri": "https://localhost:8080/",
          "height": 363
        },
        "id": "wCEPeXr-1iXR",
        "outputId": "a99a6741-afb6-4b64-d184-d58a12fecc1d"
      },
      "outputs": [
        {
          "output_type": "execute_result",
          "data": {
            "text/plain": [
              "    token    stem\n",
              "0   Peter   peter\n",
              "1      is       i\n",
              "2       a       a\n",
              "3    very    veri\n",
              "4    good    good\n",
              "5  person  person\n",
              "6       .       .\n",
              "7      My      my\n",
              "8    life    life\n",
              "9      in      in"
            ],
            "text/html": [
              "\n",
              "  <div id=\"df-6e44f939-862d-4726-bb05-305bd164bfdf\">\n",
              "    <div class=\"colab-df-container\">\n",
              "      <div>\n",
              "<style scoped>\n",
              "    .dataframe tbody tr th:only-of-type {\n",
              "        vertical-align: middle;\n",
              "    }\n",
              "\n",
              "    .dataframe tbody tr th {\n",
              "        vertical-align: top;\n",
              "    }\n",
              "\n",
              "    .dataframe thead th {\n",
              "        text-align: right;\n",
              "    }\n",
              "</style>\n",
              "<table border=\"1\" class=\"dataframe\">\n",
              "  <thead>\n",
              "    <tr style=\"text-align: right;\">\n",
              "      <th></th>\n",
              "      <th>token</th>\n",
              "      <th>stem</th>\n",
              "    </tr>\n",
              "  </thead>\n",
              "  <tbody>\n",
              "    <tr>\n",
              "      <th>0</th>\n",
              "      <td>Peter</td>\n",
              "      <td>peter</td>\n",
              "    </tr>\n",
              "    <tr>\n",
              "      <th>1</th>\n",
              "      <td>is</td>\n",
              "      <td>i</td>\n",
              "    </tr>\n",
              "    <tr>\n",
              "      <th>2</th>\n",
              "      <td>a</td>\n",
              "      <td>a</td>\n",
              "    </tr>\n",
              "    <tr>\n",
              "      <th>3</th>\n",
              "      <td>very</td>\n",
              "      <td>veri</td>\n",
              "    </tr>\n",
              "    <tr>\n",
              "      <th>4</th>\n",
              "      <td>good</td>\n",
              "      <td>good</td>\n",
              "    </tr>\n",
              "    <tr>\n",
              "      <th>5</th>\n",
              "      <td>person</td>\n",
              "      <td>person</td>\n",
              "    </tr>\n",
              "    <tr>\n",
              "      <th>6</th>\n",
              "      <td>.</td>\n",
              "      <td>.</td>\n",
              "    </tr>\n",
              "    <tr>\n",
              "      <th>7</th>\n",
              "      <td>My</td>\n",
              "      <td>my</td>\n",
              "    </tr>\n",
              "    <tr>\n",
              "      <th>8</th>\n",
              "      <td>life</td>\n",
              "      <td>life</td>\n",
              "    </tr>\n",
              "    <tr>\n",
              "      <th>9</th>\n",
              "      <td>in</td>\n",
              "      <td>in</td>\n",
              "    </tr>\n",
              "  </tbody>\n",
              "</table>\n",
              "</div>\n",
              "      <button class=\"colab-df-convert\" onclick=\"convertToInteractive('df-6e44f939-862d-4726-bb05-305bd164bfdf')\"\n",
              "              title=\"Convert this dataframe to an interactive table.\"\n",
              "              style=\"display:none;\">\n",
              "        \n",
              "  <svg xmlns=\"http://www.w3.org/2000/svg\" height=\"24px\"viewBox=\"0 0 24 24\"\n",
              "       width=\"24px\">\n",
              "    <path d=\"M0 0h24v24H0V0z\" fill=\"none\"/>\n",
              "    <path d=\"M18.56 5.44l.94 2.06.94-2.06 2.06-.94-2.06-.94-.94-2.06-.94 2.06-2.06.94zm-11 1L8.5 8.5l.94-2.06 2.06-.94-2.06-.94L8.5 2.5l-.94 2.06-2.06.94zm10 10l.94 2.06.94-2.06 2.06-.94-2.06-.94-.94-2.06-.94 2.06-2.06.94z\"/><path d=\"M17.41 7.96l-1.37-1.37c-.4-.4-.92-.59-1.43-.59-.52 0-1.04.2-1.43.59L10.3 9.45l-7.72 7.72c-.78.78-.78 2.05 0 2.83L4 21.41c.39.39.9.59 1.41.59.51 0 1.02-.2 1.41-.59l7.78-7.78 2.81-2.81c.8-.78.8-2.07 0-2.86zM5.41 20L4 18.59l7.72-7.72 1.47 1.35L5.41 20z\"/>\n",
              "  </svg>\n",
              "      </button>\n",
              "      \n",
              "  <style>\n",
              "    .colab-df-container {\n",
              "      display:flex;\n",
              "      flex-wrap:wrap;\n",
              "      gap: 12px;\n",
              "    }\n",
              "\n",
              "    .colab-df-convert {\n",
              "      background-color: #E8F0FE;\n",
              "      border: none;\n",
              "      border-radius: 50%;\n",
              "      cursor: pointer;\n",
              "      display: none;\n",
              "      fill: #1967D2;\n",
              "      height: 32px;\n",
              "      padding: 0 0 0 0;\n",
              "      width: 32px;\n",
              "    }\n",
              "\n",
              "    .colab-df-convert:hover {\n",
              "      background-color: #E2EBFA;\n",
              "      box-shadow: 0px 1px 2px rgba(60, 64, 67, 0.3), 0px 1px 3px 1px rgba(60, 64, 67, 0.15);\n",
              "      fill: #174EA6;\n",
              "    }\n",
              "\n",
              "    [theme=dark] .colab-df-convert {\n",
              "      background-color: #3B4455;\n",
              "      fill: #D2E3FC;\n",
              "    }\n",
              "\n",
              "    [theme=dark] .colab-df-convert:hover {\n",
              "      background-color: #434B5C;\n",
              "      box-shadow: 0px 1px 3px 1px rgba(0, 0, 0, 0.15);\n",
              "      filter: drop-shadow(0px 1px 2px rgba(0, 0, 0, 0.3));\n",
              "      fill: #FFFFFF;\n",
              "    }\n",
              "  </style>\n",
              "\n",
              "      <script>\n",
              "        const buttonEl =\n",
              "          document.querySelector('#df-6e44f939-862d-4726-bb05-305bd164bfdf button.colab-df-convert');\n",
              "        buttonEl.style.display =\n",
              "          google.colab.kernel.accessAllowed ? 'block' : 'none';\n",
              "\n",
              "        async function convertToInteractive(key) {\n",
              "          const element = document.querySelector('#df-6e44f939-862d-4726-bb05-305bd164bfdf');\n",
              "          const dataTable =\n",
              "            await google.colab.kernel.invokeFunction('convertToInteractive',\n",
              "                                                     [key], {});\n",
              "          if (!dataTable) return;\n",
              "\n",
              "          const docLinkHtml = 'Like what you see? Visit the ' +\n",
              "            '<a target=\"_blank\" href=https://colab.research.google.com/notebooks/data_table.ipynb>data table notebook</a>'\n",
              "            + ' to learn more about interactive tables.';\n",
              "          element.innerHTML = '';\n",
              "          dataTable['output_type'] = 'display_data';\n",
              "          await google.colab.output.renderOutput(dataTable, element);\n",
              "          const docLink = document.createElement('div');\n",
              "          docLink.innerHTML = docLinkHtml;\n",
              "          element.appendChild(docLink);\n",
              "        }\n",
              "      </script>\n",
              "    </div>\n",
              "  </div>\n",
              "  "
            ]
          },
          "metadata": {},
          "execution_count": 90
        }
      ],
      "source": [
        "import pyspark.sql.functions as F\n",
        "\n",
        "result_df = result.select(F.explode(F.arrays_zip(result.token.result, \n",
        "                                                 result.stem.result)).alias(\"cols\")) \\\n",
        "                  .select(F.expr(\"cols['0']\").alias(\"token\"),\n",
        "                          F.expr(\"cols['1']\").alias(\"stem\")).toPandas()\n",
        "\n",
        "result_df.head(10)"
      ]
    },
    {
      "cell_type": "markdown",
      "metadata": {
        "id": "On3UrCoM2RFQ"
      },
      "source": [
        "## Lemmatizer"
      ]
    },
    {
      "cell_type": "markdown",
      "source": [
        "|index|model|index|model|index|model|index|model|\n",
        "|-----:|:-----|-----:|:-----|-----:|:-----|-----:|:-----|\n",
        "| 1| [lemma_antbnc](https://nlp.johnsnowlabs.com/2021/11/22/lemma_antbnc_en.html)  | 2| [lemma_atis](https://nlp.johnsnowlabs.com/2022/03/31/lemma_atis_en_3_0.html)  | 3| [lemma_esl](https://nlp.johnsnowlabs.com/2022/03/31/lemma_esl_en_3_0.html)  | 4| [lemma_ewt](https://nlp.johnsnowlabs.com/2022/05/01/lemma_ewt_en_3_0.html)  |\n",
        "| 5| [lemma_gum](https://nlp.johnsnowlabs.com/2022/03/31/lemma_gum_en_3_0.html)  | 6| [lemma_lines](https://nlp.johnsnowlabs.com/2022/05/01/lemma_lines_en_3_0.html)  | 7| [lemma_partut](https://nlp.johnsnowlabs.com/2022/03/31/lemma_partut_en_3_0.html)  | 8| [lemma_spacylookup](https://nlp.johnsnowlabs.com/2022/03/08/lemma_spacylookup_en_3_0.html)  |\n"
      ],
      "metadata": {
        "id": "J9FcAhq4wzKL"
      }
    },
    {
      "cell_type": "markdown",
      "metadata": {
        "id": "onCYFXGO2VSk"
      },
      "source": [
        "Retrieves lemmas out of words with the objective of returning a base dictionary word "
      ]
    },
    {
      "cell_type": "code",
      "execution_count": null,
      "metadata": {
        "id": "gZYXURzi3N2T"
      },
      "outputs": [],
      "source": [
        "!wget -q https://raw.githubusercontent.com/mahavivo/vocabulary/master/lemmas/AntBNC_lemmas_ver_001.txt"
      ]
    },
    {
      "cell_type": "code",
      "execution_count": null,
      "metadata": {
        "id": "2y_woCty2QXj"
      },
      "outputs": [],
      "source": [
        "lemmatizer = Lemmatizer() \\\n",
        "    .setInputCols([\"token\"]) \\\n",
        "    .setOutputCol(\"lemma\") \\\n",
        "    .setDictionary(\"./AntBNC_lemmas_ver_001.txt\", value_delimiter =\"\\t\", key_delimiter = \"->\")"
      ]
    },
    {
      "cell_type": "code",
      "execution_count": null,
      "metadata": {
        "colab": {
          "base_uri": "https://localhost:8080/"
        },
        "id": "eR19i9uCKytw",
        "outputId": "ecc9fec1-3a34-4477-92a9-a02d80415093"
      },
      "outputs": [
        {
          "output_type": "execute_result",
          "data": {
            "text/plain": [
              "{Param(parent='Lemmatizer_38a976a83e4d', name='lazyAnnotator', doc='Whether this AnnotatorModel acts as lazy in RecursivePipelines'): False,\n",
              " Param(parent='Lemmatizer_38a976a83e4d', name='formCol', doc='Column that correspends to CoNLLU(formCol=) output'): 'form',\n",
              " Param(parent='Lemmatizer_38a976a83e4d', name='lemmaCol', doc='Column that correspends to CoNLLU(lemmaCol=) output'): 'lemma',\n",
              " Param(parent='Lemmatizer_38a976a83e4d', name='inputCols', doc='previous annotations columns, if renamed'): ['token'],\n",
              " Param(parent='Lemmatizer_38a976a83e4d', name='outputCol', doc='output annotation column. can be left default.'): 'lemma',\n",
              " Param(parent='Lemmatizer_38a976a83e4d', name='dictionary', doc=\"lemmatizer external dictionary. needs 'keyDelimiter' and 'valueDelimiter' in options for parsing target text\"): JavaObject id=o2792}"
            ]
          },
          "metadata": {},
          "execution_count": 93
        }
      ],
      "source": [
        "lemmatizer.extractParamMap()"
      ]
    },
    {
      "cell_type": "code",
      "execution_count": null,
      "metadata": {
        "colab": {
          "base_uri": "https://localhost:8080/"
        },
        "id": "dxSeQ0yz16cv",
        "outputId": "c92093bb-09e9-43e7-931b-93152d0a0f94"
      },
      "outputs": [
        {
          "output_type": "stream",
          "name": "stdout",
          "text": [
            "+--------------------+--------------------+--------------------+--------------------+--------------------+\n",
            "|                text|            document|               token|                stem|               lemma|\n",
            "+--------------------+--------------------+--------------------+--------------------+--------------------+\n",
            "|Peter is a very g...|[{document, 0, 27...|[{token, 0, 4, Pe...|[{token, 0, 4, pe...|[{token, 0, 4, Pe...|\n",
            "|My life in Russia...|[{document, 0, 37...|[{token, 0, 1, My...|[{token, 0, 1, my...|[{token, 0, 1, My...|\n",
            "|John and Peter ar...|[{document, 0, 76...|[{token, 0, 3, Jo...|[{token, 0, 3, jo...|[{token, 0, 3, Jo...|\n",
            "|Lucas Nogal Dunbe...|[{document, 0, 67...|[{token, 0, 4, Lu...|[{token, 0, 4, lu...|[{token, 0, 4, Lu...|\n",
            "|Europe is very cu...|[{document, 0, 68...|[{token, 0, 5, Eu...|[{token, 0, 5, eu...|[{token, 0, 5, Eu...|\n",
            "+--------------------+--------------------+--------------------+--------------------+--------------------+\n",
            "\n"
          ]
        }
      ],
      "source": [
        "\n",
        "documentAssembler = DocumentAssembler()\\\n",
        "    .setInputCol(\"text\")\\\n",
        "    .setOutputCol(\"document\")\n",
        "\n",
        "tokenizer = Tokenizer() \\\n",
        "    .setInputCols([\"document\"]) \\\n",
        "    .setOutputCol(\"token\")\n",
        "\n",
        "stemmer = Stemmer() \\\n",
        "    .setInputCols([\"token\"]) \\\n",
        "    .setOutputCol(\"stem\")\n",
        "\n",
        "nlpPipeline = Pipeline(stages=[documentAssembler, \n",
        "                               tokenizer,\n",
        "                               stemmer,\n",
        "                               lemmatizer])\n",
        "\n",
        "result = nlpPipeline.fit(spark_df).transform(spark_df)\n",
        "result.show()"
      ]
    },
    {
      "cell_type": "code",
      "execution_count": null,
      "metadata": {
        "colab": {
          "base_uri": "https://localhost:8080/"
        },
        "id": "3LVBY-fL3kmv",
        "outputId": "41d229b0-dd84-4271-8ded-d121bccc94d3"
      },
      "outputs": [
        {
          "output_type": "stream",
          "name": "stdout",
          "text": [
            "+---------------------------------------------------------------------------------------------+\n",
            "|result                                                                                       |\n",
            "+---------------------------------------------------------------------------------------------+\n",
            "|[Peter, be, a, very, good, person, .]                                                        |\n",
            "|[My, life, in, Russia, be, very, interest, .]                                                |\n",
            "|[John, and, Peter, be, brother, ., However, they, don't, support, each, other, that, much, .]|\n",
            "|[Lucas, Nogal, Dunbercker, be, no, long, happy, ., He, have, a, good, car, though, .]        |\n",
            "|[Europe, be, very, culture, rich, ., There, be, huge, church, !, and, big, house, !]         |\n",
            "+---------------------------------------------------------------------------------------------+\n",
            "\n"
          ]
        }
      ],
      "source": [
        "result.select('lemma.result').show(truncate=False)"
      ]
    },
    {
      "cell_type": "code",
      "execution_count": null,
      "metadata": {
        "colab": {
          "base_uri": "https://localhost:8080/",
          "height": 363
        },
        "id": "QAJCpPbW3oZq",
        "outputId": "c45da6c6-e05e-4926-da1f-21d908fdf7ea"
      },
      "outputs": [
        {
          "output_type": "execute_result",
          "data": {
            "text/plain": [
              "    token    stem   lemma\n",
              "0   Peter   peter   Peter\n",
              "1      is       i      be\n",
              "2       a       a       a\n",
              "3    very    veri    very\n",
              "4    good    good    good\n",
              "5  person  person  person\n",
              "6       .       .       .\n",
              "7      My      my      My\n",
              "8    life    life    life\n",
              "9      in      in      in"
            ],
            "text/html": [
              "\n",
              "  <div id=\"df-a421db1e-4f7c-4f3b-8f87-69e33beea432\">\n",
              "    <div class=\"colab-df-container\">\n",
              "      <div>\n",
              "<style scoped>\n",
              "    .dataframe tbody tr th:only-of-type {\n",
              "        vertical-align: middle;\n",
              "    }\n",
              "\n",
              "    .dataframe tbody tr th {\n",
              "        vertical-align: top;\n",
              "    }\n",
              "\n",
              "    .dataframe thead th {\n",
              "        text-align: right;\n",
              "    }\n",
              "</style>\n",
              "<table border=\"1\" class=\"dataframe\">\n",
              "  <thead>\n",
              "    <tr style=\"text-align: right;\">\n",
              "      <th></th>\n",
              "      <th>token</th>\n",
              "      <th>stem</th>\n",
              "      <th>lemma</th>\n",
              "    </tr>\n",
              "  </thead>\n",
              "  <tbody>\n",
              "    <tr>\n",
              "      <th>0</th>\n",
              "      <td>Peter</td>\n",
              "      <td>peter</td>\n",
              "      <td>Peter</td>\n",
              "    </tr>\n",
              "    <tr>\n",
              "      <th>1</th>\n",
              "      <td>is</td>\n",
              "      <td>i</td>\n",
              "      <td>be</td>\n",
              "    </tr>\n",
              "    <tr>\n",
              "      <th>2</th>\n",
              "      <td>a</td>\n",
              "      <td>a</td>\n",
              "      <td>a</td>\n",
              "    </tr>\n",
              "    <tr>\n",
              "      <th>3</th>\n",
              "      <td>very</td>\n",
              "      <td>veri</td>\n",
              "      <td>very</td>\n",
              "    </tr>\n",
              "    <tr>\n",
              "      <th>4</th>\n",
              "      <td>good</td>\n",
              "      <td>good</td>\n",
              "      <td>good</td>\n",
              "    </tr>\n",
              "    <tr>\n",
              "      <th>5</th>\n",
              "      <td>person</td>\n",
              "      <td>person</td>\n",
              "      <td>person</td>\n",
              "    </tr>\n",
              "    <tr>\n",
              "      <th>6</th>\n",
              "      <td>.</td>\n",
              "      <td>.</td>\n",
              "      <td>.</td>\n",
              "    </tr>\n",
              "    <tr>\n",
              "      <th>7</th>\n",
              "      <td>My</td>\n",
              "      <td>my</td>\n",
              "      <td>My</td>\n",
              "    </tr>\n",
              "    <tr>\n",
              "      <th>8</th>\n",
              "      <td>life</td>\n",
              "      <td>life</td>\n",
              "      <td>life</td>\n",
              "    </tr>\n",
              "    <tr>\n",
              "      <th>9</th>\n",
              "      <td>in</td>\n",
              "      <td>in</td>\n",
              "      <td>in</td>\n",
              "    </tr>\n",
              "  </tbody>\n",
              "</table>\n",
              "</div>\n",
              "      <button class=\"colab-df-convert\" onclick=\"convertToInteractive('df-a421db1e-4f7c-4f3b-8f87-69e33beea432')\"\n",
              "              title=\"Convert this dataframe to an interactive table.\"\n",
              "              style=\"display:none;\">\n",
              "        \n",
              "  <svg xmlns=\"http://www.w3.org/2000/svg\" height=\"24px\"viewBox=\"0 0 24 24\"\n",
              "       width=\"24px\">\n",
              "    <path d=\"M0 0h24v24H0V0z\" fill=\"none\"/>\n",
              "    <path d=\"M18.56 5.44l.94 2.06.94-2.06 2.06-.94-2.06-.94-.94-2.06-.94 2.06-2.06.94zm-11 1L8.5 8.5l.94-2.06 2.06-.94-2.06-.94L8.5 2.5l-.94 2.06-2.06.94zm10 10l.94 2.06.94-2.06 2.06-.94-2.06-.94-.94-2.06-.94 2.06-2.06.94z\"/><path d=\"M17.41 7.96l-1.37-1.37c-.4-.4-.92-.59-1.43-.59-.52 0-1.04.2-1.43.59L10.3 9.45l-7.72 7.72c-.78.78-.78 2.05 0 2.83L4 21.41c.39.39.9.59 1.41.59.51 0 1.02-.2 1.41-.59l7.78-7.78 2.81-2.81c.8-.78.8-2.07 0-2.86zM5.41 20L4 18.59l7.72-7.72 1.47 1.35L5.41 20z\"/>\n",
              "  </svg>\n",
              "      </button>\n",
              "      \n",
              "  <style>\n",
              "    .colab-df-container {\n",
              "      display:flex;\n",
              "      flex-wrap:wrap;\n",
              "      gap: 12px;\n",
              "    }\n",
              "\n",
              "    .colab-df-convert {\n",
              "      background-color: #E8F0FE;\n",
              "      border: none;\n",
              "      border-radius: 50%;\n",
              "      cursor: pointer;\n",
              "      display: none;\n",
              "      fill: #1967D2;\n",
              "      height: 32px;\n",
              "      padding: 0 0 0 0;\n",
              "      width: 32px;\n",
              "    }\n",
              "\n",
              "    .colab-df-convert:hover {\n",
              "      background-color: #E2EBFA;\n",
              "      box-shadow: 0px 1px 2px rgba(60, 64, 67, 0.3), 0px 1px 3px 1px rgba(60, 64, 67, 0.15);\n",
              "      fill: #174EA6;\n",
              "    }\n",
              "\n",
              "    [theme=dark] .colab-df-convert {\n",
              "      background-color: #3B4455;\n",
              "      fill: #D2E3FC;\n",
              "    }\n",
              "\n",
              "    [theme=dark] .colab-df-convert:hover {\n",
              "      background-color: #434B5C;\n",
              "      box-shadow: 0px 1px 3px 1px rgba(0, 0, 0, 0.15);\n",
              "      filter: drop-shadow(0px 1px 2px rgba(0, 0, 0, 0.3));\n",
              "      fill: #FFFFFF;\n",
              "    }\n",
              "  </style>\n",
              "\n",
              "      <script>\n",
              "        const buttonEl =\n",
              "          document.querySelector('#df-a421db1e-4f7c-4f3b-8f87-69e33beea432 button.colab-df-convert');\n",
              "        buttonEl.style.display =\n",
              "          google.colab.kernel.accessAllowed ? 'block' : 'none';\n",
              "\n",
              "        async function convertToInteractive(key) {\n",
              "          const element = document.querySelector('#df-a421db1e-4f7c-4f3b-8f87-69e33beea432');\n",
              "          const dataTable =\n",
              "            await google.colab.kernel.invokeFunction('convertToInteractive',\n",
              "                                                     [key], {});\n",
              "          if (!dataTable) return;\n",
              "\n",
              "          const docLinkHtml = 'Like what you see? Visit the ' +\n",
              "            '<a target=\"_blank\" href=https://colab.research.google.com/notebooks/data_table.ipynb>data table notebook</a>'\n",
              "            + ' to learn more about interactive tables.';\n",
              "          element.innerHTML = '';\n",
              "          dataTable['output_type'] = 'display_data';\n",
              "          await google.colab.output.renderOutput(dataTable, element);\n",
              "          const docLink = document.createElement('div');\n",
              "          docLink.innerHTML = docLinkHtml;\n",
              "          element.appendChild(docLink);\n",
              "        }\n",
              "      </script>\n",
              "    </div>\n",
              "  </div>\n",
              "  "
            ]
          },
          "metadata": {},
          "execution_count": 96
        }
      ],
      "source": [
        "result_df = result.select(F.explode(F.arrays_zip(result.token.result, \n",
        "                                                 result.stem.result, \n",
        "                                                 result.lemma.result)).alias(\"cols\")) \\\n",
        "                  .select(F.expr(\"cols['0']\").alias(\"token\"),\n",
        "                          F.expr(\"cols['1']\").alias(\"stem\"),\n",
        "                          F.expr(\"cols['2']\").alias(\"lemma\")).toPandas()\n",
        "\n",
        "result_df.head(10)"
      ]
    },
    {
      "cell_type": "markdown",
      "metadata": {
        "id": "EgdWV7yFix8e"
      },
      "source": [
        "## NGram Generator"
      ]
    },
    {
      "cell_type": "markdown",
      "metadata": {
        "id": "TCuzINkOix8f"
      },
      "source": [
        "NGramGenerator annotator takes as input a sequence of strings (e.g. the output of a `Tokenizer`, `Normalizer`, `Stemmer`, `Lemmatizer`, and `StopWordsCleaner`). \n",
        "\n",
        "The parameter n is used to determine the number of terms in each n-gram. The output will consist of a sequence of n-grams where each n-gram is represented by a space-delimited string of n consecutive words with annotatorType `CHUNK` same as the Chunker annotator.\n",
        "\n",
        "Functions:\n",
        "\n",
        "`setN:` number elements per n-gram (>=1)\n",
        "\n",
        "`setEnableCumulative:` whether to calculate just the actual n-grams or all n-grams from 1 through n\n",
        "\n",
        "`setDelimiter:` Glue character used to join the tokens"
      ]
    },
    {
      "cell_type": "code",
      "execution_count": null,
      "metadata": {
        "colab": {
          "base_uri": "https://localhost:8080/"
        },
        "id": "DxhS3L0_ix8f",
        "outputId": "45dfd93b-9750-449c-c79e-aa4634f97c45"
      },
      "outputs": [
        {
          "output_type": "stream",
          "name": "stdout",
          "text": [
            "+--------------------------------------------------------------------------------------------------------------------------------------------------------------------------------------------------------+\n",
            "|                                                                                                                                                                                                  result|\n",
            "+--------------------------------------------------------------------------------------------------------------------------------------------------------------------------------------------------------+\n",
            "|                                    [Peter, is, a, very, good, person, ., Peter_is, is_a, a_very, very_good, good_person, person_., Peter_is_a, is_a_very, a_very_good, very_good_person, good_person_.]|\n",
            "|[My, life, in, Russia, is, very, interesting, ., My_life, life_in, in_Russia, Russia_is, is_very, very_interesting, interesting_., My_life_in, life_in_Russia, in_Russia_is, Russia_is_very, is_very_...|\n",
            "|[John, and, Peter, are, brothers, ., However, they, don't, support, each, other, that, much, ., John_and, and_Peter, Peter_are, are_brothers, brothers_., ._However, However_they, they_don't, don't_...|\n",
            "|[Lucas, Nogal, Dunbercker, is, no, longer, happy, ., He, has, a, good, car, though, ., Lucas_Nogal, Nogal_Dunbercker, Dunbercker_is, is_no, no_longer, longer_happy, happy_., ._He, He_has, has_a, a_...|\n",
            "|[Europe, is, very, culture, rich, ., There, are, huge, churches, !, and, big, houses, !, Europe_is, is_very, very_culture, culture_rich, rich_., ._There, There_are, are_huge, huge_churches, churche...|\n",
            "+--------------------------------------------------------------------------------------------------------------------------------------------------------------------------------------------------------+\n",
            "\n"
          ]
        }
      ],
      "source": [
        "ngrams_cum = NGramGenerator() \\\n",
        "                .setInputCols([\"token\"]) \\\n",
        "                .setOutputCol(\"ngrams\") \\\n",
        "                .setN(3) \\\n",
        "                .setEnableCumulative(True)\\\n",
        "                .setDelimiter(\"_\") # Default is space\n",
        "    \n",
        "# .setN(3) means, take bigrams and trigrams.\n",
        "\n",
        "nlpPipeline = Pipeline(stages=[documentAssembler, \n",
        "                               tokenizer,\n",
        "                               ngrams_cum])\n",
        "\n",
        "result = nlpPipeline.fit(spark_df).transform(spark_df)\n",
        "result.select('ngrams.result').show(truncate=200)"
      ]
    },
    {
      "cell_type": "code",
      "execution_count": null,
      "metadata": {
        "colab": {
          "base_uri": "https://localhost:8080/"
        },
        "id": "oCVMPxBGGvXu",
        "outputId": "5f86fc25-e1d9-46c5-b964-db7bc02ca576"
      },
      "outputs": [
        {
          "output_type": "stream",
          "name": "stdout",
          "text": [
            "+--------------------------------------------------------------------------------------------------------------------------------------------------------------------------------------------------------+\n",
            "|                                                                                                                                                                                                  result|\n",
            "+--------------------------------------------------------------------------------------------------------------------------------------------------------------------------------------------------------+\n",
            "|                                                                                                                                   [Peter_is_a, is_a_very, a_very_good, very_good_person, good_person_.]|\n",
            "|                                                                                                     [My_life_in, life_in_Russia, in_Russia_is, Russia_is_very, is_very_interesting, very_interesting_.]|\n",
            "|[John_and_Peter, and_Peter_are, Peter_are_brothers, are_brothers_., brothers_._However, ._However_they, However_they_don't, they_don't_support, don't_support_each, support_each_other, each_other_th...|\n",
            "|   [Lucas_Nogal_Dunbercker, Nogal_Dunbercker_is, Dunbercker_is_no, is_no_longer, no_longer_happy, longer_happy_., happy_._He, ._He_has, He_has_a, has_a_good, a_good_car, good_car_though, car_though_.]|\n",
            "|[Europe_is_very, is_very_culture, very_culture_rich, culture_rich_., rich_._There, ._There_are, There_are_huge, are_huge_churches, huge_churches_!, churches_!_and, !_and_big, and_big_houses, big_ho...|\n",
            "+--------------------------------------------------------------------------------------------------------------------------------------------------------------------------------------------------------+\n",
            "\n"
          ]
        }
      ],
      "source": [
        "ngrams_nonCum = NGramGenerator() \\\n",
        "                  .setInputCols([\"token\"]) \\\n",
        "                  .setOutputCol(\"ngrams_v2\") \\\n",
        "                  .setN(3) \\\n",
        "                  .setEnableCumulative(False)\\\n",
        "                  .setDelimiter(\"_\") # Default is space\n",
        "    \n",
        "ngrams_nonCum.transform(result).select('ngrams_v2.result').show(truncate=200)"
      ]
    },
    {
      "cell_type": "markdown",
      "metadata": {
        "id": "C55M47nKCL3E"
      },
      "source": [
        "## TextMatcher"
      ]
    },
    {
      "cell_type": "markdown",
      "metadata": {
        "id": "8hLITrkJICKO"
      },
      "source": [
        "Annotator to match entire phrases (by token) provided in a file against a Document\n",
        "\n",
        "Functions:\n",
        "\n",
        "`setEntities(path, format, options)`: Provides a file with phrases to match. Default: Looks up path in configuration.\n",
        "\n",
        "`path`: a path to a file that contains the entities in the specified format.\n",
        "\n",
        "`readAs`: the format of the file, can be one of {ReadAs.LINE_BY_LINE, ReadAs.SPARK_DATASET}. Defaults to LINE_BY_LINE.\n",
        "\n",
        "`options`: a map of additional parameters. Defaults to {“format”: “text”}.\n",
        "\n",
        "`entityValue` : Value for the entity metadata field to indicate which chunk comes from which textMatcher when there are multiple textMatchers. \n",
        "\n",
        "`mergeOverlapping` : whether to merge overlapping matched chunks. Defaults false\n",
        "\n",
        "`caseSensitive` : whether to match regardless of case. Defaults true\n"
      ]
    },
    {
      "cell_type": "code",
      "execution_count": null,
      "metadata": {
        "colab": {
          "base_uri": "https://localhost:8080/"
        },
        "id": "l_DrFKDqK7_-",
        "outputId": "434af1e2-c349-4c2f-db04-5ed9ddce3bfb"
      },
      "outputs": [
        {
          "output_type": "execute_result",
          "data": {
            "text/plain": [
              "{Param(parent='TextMatcher_cfbda8669c91', name='lazyAnnotator', doc='Whether this AnnotatorModel acts as lazy in RecursivePipelines'): False,\n",
              " Param(parent='TextMatcher_cfbda8669c91', name='inputCols', doc='previous annotations columns, if renamed'): ['document',\n",
              "  'token'],\n",
              " Param(parent='TextMatcher_cfbda8669c91', name='caseSensitive', doc='whether to match regardless of case. Defaults true'): True,\n",
              " Param(parent='TextMatcher_cfbda8669c91', name='mergeOverlapping', doc='whether to merge overlapping matched chunks. Defaults false'): False,\n",
              " Param(parent='TextMatcher_cfbda8669c91', name='outputCol', doc='output annotation column. can be left default.'): 'matched_entities'}"
            ]
          },
          "metadata": {},
          "execution_count": 99
        }
      ],
      "source": [
        "entity_extractor = TextMatcher() \\\n",
        "    .setInputCols([\"document\",'token'])\\\n",
        "    .setOutputCol(\"matched_entities\")\\\n",
        "\n",
        "entity_extractor.extractParamMap()"
      ]
    },
    {
      "cell_type": "code",
      "execution_count": null,
      "metadata": {
        "id": "ZyY6vL-gCOnV"
      },
      "outputs": [],
      "source": [
        "! wget -q https://raw.githubusercontent.com/JohnSnowLabs/spark-nlp-workshop/master/tutorials/Certification_Trainings/Public/data/news_category_train.csv\n",
        "\n",
        "news_df = spark.read \\\n",
        "            .option(\"header\", True) \\\n",
        "            .csv(\"news_category_train.csv\")\n"
      ]
    },
    {
      "cell_type": "code",
      "execution_count": null,
      "metadata": {
        "colab": {
          "base_uri": "https://localhost:8080/"
        },
        "id": "mY7ZBEpwESzO",
        "outputId": "bc1bc484-f0c7-46fb-8c5b-4d6547b771f1"
      },
      "outputs": [
        {
          "output_type": "stream",
          "name": "stdout",
          "text": [
            "+--------+--------------------------------------------------+\n",
            "|category|                                       description|\n",
            "+--------+--------------------------------------------------+\n",
            "|Business| Short sellers, Wall Street's dwindling band of...|\n",
            "|Business| Private investment firm Carlyle Group, which h...|\n",
            "|Business| Soaring crude prices plus worries about the ec...|\n",
            "|Business| Authorities have halted oil export flows from ...|\n",
            "|Business| Tearaway world oil prices, toppling records an...|\n",
            "+--------+--------------------------------------------------+\n",
            "only showing top 5 rows\n",
            "\n"
          ]
        }
      ],
      "source": [
        "news_df.show(5, truncate=50)"
      ]
    },
    {
      "cell_type": "code",
      "execution_count": null,
      "metadata": {
        "id": "it2UjbV_ZRHp"
      },
      "outputs": [],
      "source": [
        "# write the target entities to txt file \n",
        "\n",
        "entities = ['Wall Street', 'USD', 'stock', 'NYSE']\n",
        "with open ('financial_entities.txt', 'w') as f:\n",
        "    for i in entities:\n",
        "        f.write(i+'\\n')\n",
        "\n",
        "\n",
        "entities = ['soccer', 'world cup', 'Messi', 'FC Barcelona']\n",
        "with open ('sport_entities.txt', 'w') as f:\n",
        "    for i in entities:\n",
        "        f.write(i+'\\n')\n"
      ]
    },
    {
      "cell_type": "code",
      "execution_count": null,
      "metadata": {
        "id": "ExRo9nnCCgG3"
      },
      "outputs": [],
      "source": [
        "documentAssembler = DocumentAssembler()\\\n",
        "    .setInputCol(\"description\")\\\n",
        "    .setOutputCol(\"document\")\n",
        "\n",
        "tokenizer = Tokenizer() \\\n",
        "    .setInputCols([\"document\"]) \\\n",
        "    .setOutputCol(\"token\")\n",
        "\n",
        "financial_entity_extractor = TextMatcher() \\\n",
        "    .setInputCols([\"document\",'token'])\\\n",
        "    .setOutputCol(\"financial_entities\")\\\n",
        "    .setEntities(\"financial_entities.txt\")\\\n",
        "    .setCaseSensitive(False)\\\n",
        "    .setEntityValue('financial_entity')\n",
        "\n",
        "sport_entity_extractor = TextMatcher() \\\n",
        "    .setInputCols([\"document\",'token'])\\\n",
        "    .setOutputCol(\"sport_entities\")\\\n",
        "    .setEntities(\"sport_entities.txt\")\\\n",
        "    .setCaseSensitive(False)\\\n",
        "    .setEntityValue('sport_entity')\n",
        "\n",
        "nlpPipeline = Pipeline(\n",
        "    stages=[\n",
        "        documentAssembler, \n",
        "        tokenizer,\n",
        "        financial_entity_extractor,\n",
        "        sport_entity_extractor\n",
        "        ])\n",
        "\n",
        "result = nlpPipeline.fit(news_df).transform(news_df)"
      ]
    },
    {
      "cell_type": "code",
      "execution_count": null,
      "metadata": {
        "colab": {
          "base_uri": "https://localhost:8080/"
        },
        "id": "NctznXrSFb7Y",
        "outputId": "f9ab133f-6018-4f50-dd09-6cec329dab8c"
      },
      "outputs": [
        {
          "output_type": "execute_result",
          "data": {
            "text/plain": [
              "[Row(result=[], result=[]),\n",
              " Row(result=[], result=[]),\n",
              " Row(result=['stock'], result=[])]"
            ]
          },
          "metadata": {},
          "execution_count": 104
        }
      ],
      "source": [
        "result.select('financial_entities.result','sport_entities.result').take(3)"
      ]
    },
    {
      "cell_type": "code",
      "execution_count": null,
      "metadata": {
        "colab": {
          "base_uri": "https://localhost:8080/"
        },
        "id": "8nm65RMNNBha",
        "outputId": "3fe029c2-cb4b-4767-cab8-3b4f3ecf739a"
      },
      "outputs": [
        {
          "output_type": "stream",
          "name": "stdout",
          "text": [
            "+----------------------------------------------------------------------+----------------------------------+-------------------+\n",
            "|                                                                  text|                 financial_matches|      sport_matches|\n",
            "+----------------------------------------------------------------------+----------------------------------+-------------------+\n",
            "|\"Company launched the biggest electronic auction of stock in Wall S...|              [stock, Wall Street]|                 []|\n",
            "|Google, Inc. significantly cut the expected share price for its ini...|                    [stock, stock]|                 []|\n",
            "|Google, Inc. significantly cut the expected share price this mornin...|                    [stock, stock]|                 []|\n",
            "| Shares of Air Canada  (AC.TO) fell by more than half on Wednesday,...|                    [Stock, stock]|                 []|\n",
            "|Stock prices are lower in moderate trading. The Dow Jones Industria...|                    [Stock, Stock]|                 []|\n",
            "|The bad news just keeps pouring in for mutual fund manager Janus Ca...|                      [NYSE, NYSE]|                 []|\n",
            "|  Shaun Wright Phillips scored in his international debut as Englan...|                                []|[soccer, World Cup]|\n",
            "|NEWCASTLE, ENGLAND - England deservedly beat Ukraine 3-0 today in t...|                                []|[soccer, World Cup]|\n",
            "|MONTREAL (Reuters) - Shares of Air Canada (AC.TO: Quote, Profile, R...|                    [Stock, stock]|                 []|\n",
            "|\"SAN JOSE, California - On the cusp of its voyage into public tradi...|[stock, Wall Street, stock, Stock]|                 []|\n",
            "|\"Shortly before noon today, Google Inc. stock began trading under t...|                    [stock, stock]|                 []|\n",
            "|roundup Plus: EA to take World Cup soccer to Xbox...IBM chalks up t...|                                []|[World Cup, soccer]|\n",
            "|The U.S. Securities and Exchange Commission yesterday approved Goog...|                    [stock, stock]|                 []|\n",
            "|After a bumpy ride toward becoming a publicly traded company, Googl...|                    [stock, stock]|                 []|\n",
            "|In the most highly anticipated Wall Street debut since the heady da...|              [Wall Street, stock]|                 []|\n",
            "|NEW YORK Despite voluble skepticism among investors, Google #39;s s...|                    [stock, stock]|                 []|\n",
            "|If only the rest of my investments worked out this way. One week ag...|                    [stock, stock]|                 []|\n",
            "| U.S. stocks to watch: GOOGLE INC. (GOOG.O) Google shares jumped 18...|                    [stock, stock]|                 []|\n",
            "|\" U.S. stocks to watch: GOOGLE INC.  &lt;A HREF=\"\"http://www.invest...|                    [stock, stock]|                 []|\n",
            "|roundup Plus: KDE updates Linux desktop...EA to take World Cup socc...|                                []|[World Cup, soccer]|\n",
            "+----------------------------------------------------------------------+----------------------------------+-------------------+\n",
            "only showing top 20 rows\n",
            "\n"
          ]
        }
      ],
      "source": [
        "result.select('description','financial_entities.result','sport_entities.result')\\\n",
        "      .toDF('text','financial_matches','sport_matches').filter((F.size('financial_matches')>1) | (F.size('sport_matches')>1))\\\n",
        "      .show(truncate=70)\n"
      ]
    },
    {
      "cell_type": "code",
      "execution_count": null,
      "metadata": {
        "colab": {
          "base_uri": "https://localhost:8080/",
          "height": 363
        },
        "id": "-bVEDIblFoL6",
        "outputId": "3956e83c-a161-43a0-e98b-22f7a5cf7486"
      },
      "outputs": [
        {
          "output_type": "execute_result",
          "data": {
            "text/plain": [
              "  clinical_entities  begin  end\n",
              "0             stock    112  116\n",
              "1             stock    114  118\n",
              "2             stock     45   49\n",
              "3             stock    126  130\n",
              "4             stock    188  192\n",
              "5             stock     52   56\n",
              "6       Wall Street     61   71\n",
              "7             stock     70   74\n",
              "8             stock    143  147\n",
              "9             stock    294  298"
            ],
            "text/html": [
              "\n",
              "  <div id=\"df-071e1f1c-a9b0-4157-8bf7-5a9ead4626d0\">\n",
              "    <div class=\"colab-df-container\">\n",
              "      <div>\n",
              "<style scoped>\n",
              "    .dataframe tbody tr th:only-of-type {\n",
              "        vertical-align: middle;\n",
              "    }\n",
              "\n",
              "    .dataframe tbody tr th {\n",
              "        vertical-align: top;\n",
              "    }\n",
              "\n",
              "    .dataframe thead th {\n",
              "        text-align: right;\n",
              "    }\n",
              "</style>\n",
              "<table border=\"1\" class=\"dataframe\">\n",
              "  <thead>\n",
              "    <tr style=\"text-align: right;\">\n",
              "      <th></th>\n",
              "      <th>clinical_entities</th>\n",
              "      <th>begin</th>\n",
              "      <th>end</th>\n",
              "    </tr>\n",
              "  </thead>\n",
              "  <tbody>\n",
              "    <tr>\n",
              "      <th>0</th>\n",
              "      <td>stock</td>\n",
              "      <td>112</td>\n",
              "      <td>116</td>\n",
              "    </tr>\n",
              "    <tr>\n",
              "      <th>1</th>\n",
              "      <td>stock</td>\n",
              "      <td>114</td>\n",
              "      <td>118</td>\n",
              "    </tr>\n",
              "    <tr>\n",
              "      <th>2</th>\n",
              "      <td>stock</td>\n",
              "      <td>45</td>\n",
              "      <td>49</td>\n",
              "    </tr>\n",
              "    <tr>\n",
              "      <th>3</th>\n",
              "      <td>stock</td>\n",
              "      <td>126</td>\n",
              "      <td>130</td>\n",
              "    </tr>\n",
              "    <tr>\n",
              "      <th>4</th>\n",
              "      <td>stock</td>\n",
              "      <td>188</td>\n",
              "      <td>192</td>\n",
              "    </tr>\n",
              "    <tr>\n",
              "      <th>5</th>\n",
              "      <td>stock</td>\n",
              "      <td>52</td>\n",
              "      <td>56</td>\n",
              "    </tr>\n",
              "    <tr>\n",
              "      <th>6</th>\n",
              "      <td>Wall Street</td>\n",
              "      <td>61</td>\n",
              "      <td>71</td>\n",
              "    </tr>\n",
              "    <tr>\n",
              "      <th>7</th>\n",
              "      <td>stock</td>\n",
              "      <td>70</td>\n",
              "      <td>74</td>\n",
              "    </tr>\n",
              "    <tr>\n",
              "      <th>8</th>\n",
              "      <td>stock</td>\n",
              "      <td>143</td>\n",
              "      <td>147</td>\n",
              "    </tr>\n",
              "    <tr>\n",
              "      <th>9</th>\n",
              "      <td>stock</td>\n",
              "      <td>294</td>\n",
              "      <td>298</td>\n",
              "    </tr>\n",
              "  </tbody>\n",
              "</table>\n",
              "</div>\n",
              "      <button class=\"colab-df-convert\" onclick=\"convertToInteractive('df-071e1f1c-a9b0-4157-8bf7-5a9ead4626d0')\"\n",
              "              title=\"Convert this dataframe to an interactive table.\"\n",
              "              style=\"display:none;\">\n",
              "        \n",
              "  <svg xmlns=\"http://www.w3.org/2000/svg\" height=\"24px\"viewBox=\"0 0 24 24\"\n",
              "       width=\"24px\">\n",
              "    <path d=\"M0 0h24v24H0V0z\" fill=\"none\"/>\n",
              "    <path d=\"M18.56 5.44l.94 2.06.94-2.06 2.06-.94-2.06-.94-.94-2.06-.94 2.06-2.06.94zm-11 1L8.5 8.5l.94-2.06 2.06-.94-2.06-.94L8.5 2.5l-.94 2.06-2.06.94zm10 10l.94 2.06.94-2.06 2.06-.94-2.06-.94-.94-2.06-.94 2.06-2.06.94z\"/><path d=\"M17.41 7.96l-1.37-1.37c-.4-.4-.92-.59-1.43-.59-.52 0-1.04.2-1.43.59L10.3 9.45l-7.72 7.72c-.78.78-.78 2.05 0 2.83L4 21.41c.39.39.9.59 1.41.59.51 0 1.02-.2 1.41-.59l7.78-7.78 2.81-2.81c.8-.78.8-2.07 0-2.86zM5.41 20L4 18.59l7.72-7.72 1.47 1.35L5.41 20z\"/>\n",
              "  </svg>\n",
              "      </button>\n",
              "      \n",
              "  <style>\n",
              "    .colab-df-container {\n",
              "      display:flex;\n",
              "      flex-wrap:wrap;\n",
              "      gap: 12px;\n",
              "    }\n",
              "\n",
              "    .colab-df-convert {\n",
              "      background-color: #E8F0FE;\n",
              "      border: none;\n",
              "      border-radius: 50%;\n",
              "      cursor: pointer;\n",
              "      display: none;\n",
              "      fill: #1967D2;\n",
              "      height: 32px;\n",
              "      padding: 0 0 0 0;\n",
              "      width: 32px;\n",
              "    }\n",
              "\n",
              "    .colab-df-convert:hover {\n",
              "      background-color: #E2EBFA;\n",
              "      box-shadow: 0px 1px 2px rgba(60, 64, 67, 0.3), 0px 1px 3px 1px rgba(60, 64, 67, 0.15);\n",
              "      fill: #174EA6;\n",
              "    }\n",
              "\n",
              "    [theme=dark] .colab-df-convert {\n",
              "      background-color: #3B4455;\n",
              "      fill: #D2E3FC;\n",
              "    }\n",
              "\n",
              "    [theme=dark] .colab-df-convert:hover {\n",
              "      background-color: #434B5C;\n",
              "      box-shadow: 0px 1px 3px 1px rgba(0, 0, 0, 0.15);\n",
              "      filter: drop-shadow(0px 1px 2px rgba(0, 0, 0, 0.3));\n",
              "      fill: #FFFFFF;\n",
              "    }\n",
              "  </style>\n",
              "\n",
              "      <script>\n",
              "        const buttonEl =\n",
              "          document.querySelector('#df-071e1f1c-a9b0-4157-8bf7-5a9ead4626d0 button.colab-df-convert');\n",
              "        buttonEl.style.display =\n",
              "          google.colab.kernel.accessAllowed ? 'block' : 'none';\n",
              "\n",
              "        async function convertToInteractive(key) {\n",
              "          const element = document.querySelector('#df-071e1f1c-a9b0-4157-8bf7-5a9ead4626d0');\n",
              "          const dataTable =\n",
              "            await google.colab.kernel.invokeFunction('convertToInteractive',\n",
              "                                                     [key], {});\n",
              "          if (!dataTable) return;\n",
              "\n",
              "          const docLinkHtml = 'Like what you see? Visit the ' +\n",
              "            '<a target=\"_blank\" href=https://colab.research.google.com/notebooks/data_table.ipynb>data table notebook</a>'\n",
              "            + ' to learn more about interactive tables.';\n",
              "          element.innerHTML = '';\n",
              "          dataTable['output_type'] = 'display_data';\n",
              "          await google.colab.output.renderOutput(dataTable, element);\n",
              "          const docLink = document.createElement('div');\n",
              "          docLink.innerHTML = docLinkHtml;\n",
              "          element.appendChild(docLink);\n",
              "        }\n",
              "      </script>\n",
              "    </div>\n",
              "  </div>\n",
              "  "
            ]
          },
          "metadata": {},
          "execution_count": 106
        }
      ],
      "source": [
        "result_df = result.select(F.explode(F.arrays_zip(result.financial_entities.result, \n",
        "                                                 result.financial_entities.begin, \n",
        "                                                 result.financial_entities.end)).alias(\"cols\")) \\\n",
        "                  .select(F.expr(\"cols['0']\").alias(\"clinical_entities\"),\n",
        "                          F.expr(\"cols['1']\").alias(\"begin\"),\n",
        "                          F.expr(\"cols['2']\").alias(\"end\")).toPandas()\n",
        "\n",
        "result_df.head(10)"
      ]
    },
    {
      "cell_type": "markdown",
      "metadata": {
        "id": "maNIjBznix8x"
      },
      "source": [
        "## RegexMatcher"
      ]
    },
    {
      "cell_type": "code",
      "execution_count": null,
      "metadata": {
        "colab": {
          "base_uri": "https://localhost:8080/"
        },
        "id": "1FCcjxSsaeEk",
        "outputId": "949bb42a-cd2b-4a69-dfb9-ee3612c75a5e"
      },
      "outputs": [
        {
          "output_type": "stream",
          "name": "stdout",
          "text": [
            "+--------------------------------------------------+\n",
            "|                                              text|\n",
            "+--------------------------------------------------+\n",
            "|The human KCNJ9 (Kir 3.3, GIRK3) is a member of...|\n",
            "|BACKGROUND: At present, it is one of the most i...|\n",
            "|OBJECTIVE: To investigate the relationship betw...|\n",
            "|Combined EEG/fMRI recording has been used to lo...|\n",
            "|Kohlschutter syndrome is a rare neurodegenerati...|\n",
            "|Statistical analysis of neuroimages is commonly...|\n",
            "|The synthetic DOX-LNA conjugate was characteriz...|\n",
            "|Our objective was to compare three different me...|\n",
            "|We conducted a phase II study to assess the eff...|\n",
            "|\"Monomeric sarcosine oxidase (MSOX) is a flavoe...|\n",
            "|We presented the tachinid fly Exorista japonica...|\n",
            "|The literature dealing with the water conductin...|\n",
            "|A novel approach to synthesize chitosan-O-isopr...|\n",
            "|An HPLC-ESI-MS-MS method has been developed for...|\n",
            "|The localizing and lateralizing values of eye a...|\n",
            "|OBJECTIVE: To evaluate the effectiveness and ac...|\n",
            "|For the construction of new combinatorial libra...|\n",
            "|We report the results of a screen for genetic a...|\n",
            "|Intraparenchymal pericatheter cyst is rarely re...|\n",
            "|It is known that patients with Klinefelter's sy...|\n",
            "+--------------------------------------------------+\n",
            "only showing top 20 rows\n",
            "\n"
          ]
        }
      ],
      "source": [
        "! wget -q\thttps://s3.amazonaws.com/auxdata.johnsnowlabs.com/public/resources/en/pubmed/pubmed-sample.csv\n",
        "\n",
        "pubMedDF = spark.read\\\n",
        "              .option(\"header\", \"true\")\\\n",
        "              .csv(\"./pubmed-sample.csv\")\\\n",
        "              .filter(\"AB IS NOT null\")\\\n",
        "              .withColumnRenamed(\"AB\", \"text\")\\\n",
        "              .drop(\"TI\")\n",
        "\n",
        "pubMedDF.show(truncate=50)"
      ]
    },
    {
      "cell_type": "markdown",
      "source": [
        "**setExternalRules**"
      ],
      "metadata": {
        "id": "NrUltUspdSYi"
      }
    },
    {
      "cell_type": "code",
      "execution_count": null,
      "metadata": {
        "id": "jT2DkSEMix8y"
      },
      "outputs": [],
      "source": [
        "rules = '''\n",
        "renal\\s\\w+, started with 'renal'\n",
        "cardiac\\s\\w+, started with 'cardiac'\n",
        "\\w*ly\\b, ending with 'ly'\n",
        "\\S*\\d+\\S*, match any word that contains numbers\n",
        "(\\d+).?(\\d*)\\s*(mg|ml|g), match medication metrics\n",
        "'''\n",
        "\n",
        "with open('regex_rules.txt', 'w') as f:\n",
        "    \n",
        "    f.write(rules)\n",
        "    "
      ]
    },
    {
      "cell_type": "code",
      "execution_count": null,
      "metadata": {
        "colab": {
          "base_uri": "https://localhost:8080/"
        },
        "id": "9xff1kP8LFHr",
        "outputId": "5e6d2a29-1599-40cb-923c-3ad908ec7922"
      },
      "outputs": [
        {
          "output_type": "execute_result",
          "data": {
            "text/plain": [
              "{Param(parent='RegexMatcher_59c5e1d4730c', name='lazyAnnotator', doc='Whether this AnnotatorModel acts as lazy in RecursivePipelines'): False,\n",
              " Param(parent='RegexMatcher_59c5e1d4730c', name='strategy', doc='MATCH_FIRST|MATCH_ALL|MATCH_COMPLETE'): 'MATCH_ALL'}"
            ]
          },
          "metadata": {},
          "execution_count": 109
        }
      ],
      "source": [
        "RegexMatcher().extractParamMap()"
      ]
    },
    {
      "cell_type": "code",
      "execution_count": null,
      "metadata": {
        "colab": {
          "base_uri": "https://localhost:8080/"
        },
        "id": "ejUrjIGjix8z",
        "outputId": "c5299a93-06ca-4952-e3c0-3f214b45dba5"
      },
      "outputs": [
        {
          "output_type": "execute_result",
          "data": {
            "text/plain": [
              "[Row(result=['inwardly', 'family', 'spansapproximately', 'byapproximately', 'approximately', 'respectively', 'poly', 'KCNJ9', '3.3,', 'GIRK3)', 'KCNJ9', '1q21-23', '7.6', '2.2', '2.6', 'identified14', 'aVal366Ala', '8', 'KCNJ9', 'KCNJ9', '9 g']),\n",
              " Row(result=['previously', 'previously', 'intravenously', 'previously', '25', 'mg/m(2)', '1', '8', 'a3', '50', '20.0%', '(10', '50;', '95%', 'interval,10.0-33.7%).', '58.0%', '[10', '18', '50].', '(50%', '115.0', '17.3%', '52).', '25 mg']),\n",
              " Row(result=['renal failure', 'cardiac surgery', 'cardiac surgery', 'cardiac surgical', 'early', 'statistically', 'analy', '1995', '2005', '=9796).', '2.9', '11years).', '11.3%', '1105),', '7.2%', '30%', '0.0001),', '1.55,95%', '1.42-1.70,', '0.0001).'])]"
            ]
          },
          "metadata": {},
          "execution_count": 110
        }
      ],
      "source": [
        "documentAssembler = DocumentAssembler()\\\n",
        "    .setInputCol(\"text\")\\\n",
        "    .setOutputCol(\"document\")\n",
        "\n",
        "regex_matcher = RegexMatcher()\\\n",
        "    .setInputCols('document')\\\n",
        "    .setStrategy(\"MATCH_ALL\")\\\n",
        "    .setOutputCol(\"regex_matches\")\\\n",
        "    .setExternalRules(path='./regex_rules.txt', delimiter=',')\n",
        "    \n",
        "\n",
        "nlpPipeline = Pipeline(\n",
        "    stages=[\n",
        "        documentAssembler, \n",
        "        regex_matcher\n",
        "        ])\n",
        "\n",
        "match_df = nlpPipeline.fit(pubMedDF).transform(pubMedDF)\n",
        "match_df.select('regex_matches.result').take(3)"
      ]
    },
    {
      "cell_type": "code",
      "execution_count": null,
      "metadata": {
        "colab": {
          "base_uri": "https://localhost:8080/"
        },
        "id": "3xLGRM6Vix81",
        "outputId": "40d48b09-0091-42b3-8f4d-7b4e044703b1"
      },
      "outputs": [
        {
          "output_type": "stream",
          "name": "stdout",
          "text": [
            "+----------------------------------------------------------------------+----------------------------------------------------------------------+\n",
            "|                                                                  text|                                                               matches|\n",
            "+----------------------------------------------------------------------+----------------------------------------------------------------------+\n",
            "|The human KCNJ9 (Kir 3.3, GIRK3) is a member of the G-protein-activ...|[inwardly, family, spansapproximately, byapproximately, approximate...|\n",
            "|BACKGROUND: At present, it is one of the most important issues for ...|[previously, previously, intravenously, previously, 25, mg/m(2), 1,...|\n",
            "|OBJECTIVE: To investigate the relationship between preoperative atr...|[renal failure, cardiac surgery, cardiac surgery, cardiac surgical,...|\n",
            "|Combined EEG/fMRI recording has been used to localize the generator...|[normally, significantly, effectively, analy, only, considerably, 2...|\n",
            "|Statistical analysis of neuroimages is commonly approached with int...|[analy, commonly, overly, normally, thatsuccessfully, recently, ana...|\n",
            "|The synthetic DOX-LNA conjugate was characterized by proton nuclear...|                                             [wasanaly, substantially]|\n",
            "|Our objective was to compare three different methods of blood press...|[daily, only, Conversely, Hourly, hourly, Hourly, hourly, hourly, h...|\n",
            "|We conducted a phase II study to assess the efficacy and tolerabili...|[analy, respectively, generally, 5-fluorouracil, (5-FU)-, 5-FU-base...|\n",
            "|\"Monomeric sarcosine oxidase (MSOX) is a flavoenzyme that catalyzes...|[cataly, methylgly, gly, ethylgly, dimethylgly, spectrally, practic...|\n",
            "|We presented the tachinid fly Exorista japonica with moving host mo...|                                             [fly, fly, fly, fly, fly]|\n",
            "+----------------------------------------------------------------------+----------------------------------------------------------------------+\n",
            "only showing top 10 rows\n",
            "\n"
          ]
        }
      ],
      "source": [
        "match_df.select('text','regex_matches.result')\\\n",
        "        .toDF('text','matches').filter(F.size('matches')>1)\\\n",
        "        .show(10, truncate=70)"
      ]
    },
    {
      "cell_type": "markdown",
      "source": [
        "**setRules**"
      ],
      "metadata": {
        "id": "Hh4-EiMGdVrv"
      }
    },
    {
      "cell_type": "code",
      "source": [
        "documentAssembler = DocumentAssembler()\\\n",
        "    .setInputCol(\"text\")\\\n",
        "    .setOutputCol(\"document\")\n",
        "\n",
        "regexmatcher = RegexMatcher()\\\n",
        "    .setRules([\"\\\\d{4}\\\\/\\\\d\\\\d\\\\/\\\\d\\\\d,date\", \"\\\\d{2}\\\\/\\\\d\\\\d\\\\/\\\\d\\\\d,short_date\"])\\\n",
        "    .setDelimiter(\",\") \\\n",
        "    .setInputCols('document')\\\n",
        "    .setStrategy(\"MATCH_ALL\")\\\n",
        "    .setOutputCol(\"regex_matches\")\n",
        "    \n",
        "\n",
        "nlpPipeline = Pipeline(\n",
        "    stages=[\n",
        "        documentAssembler, \n",
        "        regexmatcher\n",
        "        ])\n",
        "\n",
        "match_df2 = nlpPipeline.fit(pubMedDF).transform(pubMedDF)"
      ],
      "metadata": {
        "id": "p6V0tz89dUZK"
      },
      "execution_count": null,
      "outputs": []
    },
    {
      "cell_type": "code",
      "source": [
        "match_df2.select('text','regex_matches.result')\\\n",
        "        .toDF('text','matches').filter(F.size('matches')>1)\\\n",
        "        .show(10, truncate=70)"
      ],
      "metadata": {
        "id": "94WZMYn3dUWQ",
        "colab": {
          "base_uri": "https://localhost:8080/"
        },
        "outputId": "662658ef-a21c-40b0-962e-9e92ed2bbba4"
      },
      "execution_count": null,
      "outputs": [
        {
          "output_type": "stream",
          "name": "stdout",
          "text": [
            "+----------------------------------------------------------------------+--------------------+\n",
            "|                                                                  text|             matches|\n",
            "+----------------------------------------------------------------------+--------------------+\n",
            "|BACKGROUND CONTEXT: In the last decade, the number of patients unde...|[64/63/65, 27/24/27]|\n",
            "+----------------------------------------------------------------------+--------------------+\n",
            "\n"
          ]
        }
      ]
    },
    {
      "cell_type": "markdown",
      "metadata": {
        "id": "g5tfkArf0XQT"
      },
      "source": [
        "## MultiDateMatcher"
      ]
    },
    {
      "cell_type": "markdown",
      "metadata": {
        "id": "mY7q_7zl9HR5"
      },
      "source": [
        "Extract exact & normalize dates from relative date-time phrases. The default anchor date will be the date the code is run."
      ]
    },
    {
      "cell_type": "code",
      "execution_count": null,
      "metadata": {
        "colab": {
          "base_uri": "https://localhost:8080/"
        },
        "id": "EBIg8nm0LNaF",
        "outputId": "65b6580a-8faa-4000-be21-8538f84805f9"
      },
      "outputs": [
        {
          "output_type": "execute_result",
          "data": {
            "text/plain": [
              "{Param(parent='MultiDateMatcher_766c021a07cd', name='lazyAnnotator', doc='Whether this AnnotatorModel acts as lazy in RecursivePipelines'): False,\n",
              " Param(parent='MultiDateMatcher_766c021a07cd', name='inputFormats', doc='input formats list of patterns to match'): [''],\n",
              " Param(parent='MultiDateMatcher_766c021a07cd', name='outputFormat', doc='desired output format for dates extracted'): 'yyyy/MM/dd',\n",
              " Param(parent='MultiDateMatcher_766c021a07cd', name='readMonthFirst', doc='Whether to parse july 07/05/2015 or as 05/07/2015'): True,\n",
              " Param(parent='MultiDateMatcher_766c021a07cd', name='defaultDayWhenMissing', doc='which day to set when it is missing from parsed input'): 1}"
            ]
          },
          "metadata": {},
          "execution_count": 114
        }
      ],
      "source": [
        "MultiDateMatcher().extractParamMap()"
      ]
    },
    {
      "cell_type": "code",
      "execution_count": null,
      "metadata": {
        "colab": {
          "base_uri": "https://localhost:8080/"
        },
        "id": "QxNprtam9S6Q",
        "outputId": "97b81350-46d6-430b-b34a-d542189b7654"
      },
      "outputs": [
        {
          "output_type": "stream",
          "name": "stdout",
          "text": [
            "+------------------------+\n",
            "|result                  |\n",
            "+------------------------+\n",
            "|[2023/01/20, 2023/01/12]|\n",
            "+------------------------+\n",
            "\n"
          ]
        }
      ],
      "source": [
        "documentAssembler = DocumentAssembler()\\\n",
        "    .setInputCol(\"text\")\\\n",
        "    .setOutputCol(\"document\")\n",
        "\n",
        "date_matcher = MultiDateMatcher() \\\n",
        "    .setInputCols('document') \\\n",
        "    .setOutputCol(\"date\")\\\n",
        "    .setOutputFormat(\"yyyy/MM/dd\")\\\n",
        "    .setSourceLanguage(\"en\")\n",
        "\n",
        "\n",
        "date_pipeline = PipelineModel(\n",
        "    stages=[\n",
        "        documentAssembler, \n",
        "        date_matcher\n",
        "        ])\n",
        "\n",
        "sample_df = spark.createDataFrame([['I saw him yesterday and he told me that he will visit us next week']]).toDF(\"text\")\n",
        "\n",
        "result = date_pipeline.transform(sample_df)\n",
        "result.select('date.result').show(truncate=False)"
      ]
    },
    {
      "cell_type": "markdown",
      "metadata": {
        "id": "R0Wd3ZLDqM4K"
      },
      "source": [
        "Let's set the Input Format and Output Format to specific format"
      ]
    },
    {
      "cell_type": "code",
      "execution_count": null,
      "metadata": {
        "colab": {
          "base_uri": "https://localhost:8080/"
        },
        "id": "VFZSzKMrteHj",
        "outputId": "c977db18-ee9d-4a61-c65b-0e5e3f947a94"
      },
      "outputs": [
        {
          "output_type": "stream",
          "name": "stdout",
          "text": [
            "+------------+\n",
            "|result      |\n",
            "+------------+\n",
            "|[2022/05/21]|\n",
            "+------------+\n",
            "\n"
          ]
        }
      ],
      "source": [
        "documentAssembler = DocumentAssembler()\\\n",
        "    .setInputCol(\"text\")\\\n",
        "    .setOutputCol(\"document\")\n",
        "\n",
        "date_matcher = MultiDateMatcher() \\\n",
        "    .setInputCols('document') \\\n",
        "    .setOutputCol(\"date\")\\\n",
        "    .setInputFormats([\"dd/MM/yyyy\"])\\\n",
        "    .setOutputFormat(\"yyyy/MM/dd\")\\\n",
        "    .setSourceLanguage(\"en\")\n",
        "\n",
        "date_pipeline = PipelineModel(\n",
        "    stages=[\n",
        "        documentAssembler, \n",
        "        date_matcher\n",
        "        ])\n",
        "\n",
        "sample_df = spark.createDataFrame([[\"the last payment date of this invoice is 21/05/2022\"]]).toDF(\"text\")\n",
        "\n",
        "result = date_pipeline.transform(sample_df)\n",
        "result.select('date.result').show(truncate=False)"
      ]
    },
    {
      "cell_type": "markdown",
      "metadata": {
        "id": "ZOwrFGd8ix83"
      },
      "source": [
        "## Text Cleaning with UDF"
      ]
    },
    {
      "cell_type": "code",
      "execution_count": null,
      "metadata": {
        "colab": {
          "base_uri": "https://localhost:8080/"
        },
        "id": "FMGb8oMoix83",
        "outputId": "a0444e59-4087-4cd6-d57e-f2677c8c3c40"
      },
      "outputs": [
        {
          "output_type": "stream",
          "name": "stdout",
          "text": [
            "+----------------------------------------------------------------------------------------------+-----------------------+\n",
            "|text                                                                                          |cleaned                |\n",
            "+----------------------------------------------------------------------------------------------+-----------------------+\n",
            "|<h1 style=\"color: #5e9ca0;\">Have a great <span  style=\"color: #2b2301;\">birth</span> day!</h1>|Have a great birth day!|\n",
            "+----------------------------------------------------------------------------------------------+-----------------------+\n",
            "\n"
          ]
        }
      ],
      "source": [
        "text = '<h1 style=\"color: #5e9ca0;\">Have a great <span  style=\"color: #2b2301;\">birth</span> day!</h1>'\n",
        "\n",
        "text_df = spark.createDataFrame([[text]]).toDF(\"text\")\n",
        "\n",
        "import re\n",
        "from pyspark.sql.functions import udf\n",
        "from pyspark.sql.types import StringType, IntegerType\n",
        "\n",
        "clean_text = lambda s: re.sub(r'<[^>]*>', '', s)\n",
        "\n",
        "text_df.withColumn('cleaned', udf(clean_text, StringType())('text')).select('text','cleaned').show(truncate= False)"
      ]
    },
    {
      "cell_type": "code",
      "execution_count": null,
      "metadata": {
        "colab": {
          "base_uri": "https://localhost:8080/"
        },
        "id": "2jtfb5TGix86",
        "outputId": "b114a638-7b2f-4ff4-e731-d6f8bf4b9891"
      },
      "outputs": [
        {
          "output_type": "execute_result",
          "data": {
            "text/plain": [
              "2"
            ]
          },
          "metadata": {},
          "execution_count": 118
        }
      ],
      "source": [
        "find_not_alnum_count = lambda s: len([i for i in s if not i.isalnum() and i!=' '])\n",
        "\n",
        "find_not_alnum_count(\"it's your birth day!\")"
      ]
    },
    {
      "cell_type": "code",
      "execution_count": null,
      "metadata": {
        "colab": {
          "base_uri": "https://localhost:8080/"
        },
        "id": "5d7DkFK7ix87",
        "outputId": "5b113e13-466b-4d57-a620-4142c1f73fa3"
      },
      "outputs": [
        {
          "output_type": "execute_result",
          "data": {
            "text/plain": [
              "23"
            ]
          },
          "metadata": {},
          "execution_count": 119
        }
      ],
      "source": [
        "text = '<h1 style=\"color: #5e9ca0;\">Have a great <span  style=\"color: #2b2301;\">birth</span> day!</h1>'\n",
        "\n",
        "find_not_alnum_count(text)"
      ]
    },
    {
      "cell_type": "code",
      "execution_count": null,
      "metadata": {
        "colab": {
          "base_uri": "https://localhost:8080/"
        },
        "id": "OACwrrToix89",
        "outputId": "55722c6d-20fd-4c99-c179-32cfb4061398"
      },
      "outputs": [
        {
          "output_type": "stream",
          "name": "stdout",
          "text": [
            "+----------------------------------------------------------------------------------------------+-------+\n",
            "|text                                                                                          |cleaned|\n",
            "+----------------------------------------------------------------------------------------------+-------+\n",
            "|<h1 style=\"color: #5e9ca0;\">Have a great <span  style=\"color: #2b2301;\">birth</span> day!</h1>|23     |\n",
            "+----------------------------------------------------------------------------------------------+-------+\n",
            "\n"
          ]
        }
      ],
      "source": [
        "text_df.withColumn('cleaned', udf(find_not_alnum_count, IntegerType())('text')).select('text','cleaned').show(truncate= False)"
      ]
    },
    {
      "cell_type": "markdown",
      "metadata": {
        "id": "Tj-RyTZaix8-"
      },
      "source": [
        "## Finisher"
      ]
    },
    {
      "cell_type": "markdown",
      "metadata": {
        "id": "czhvgXuHix8-"
      },
      "source": [
        "***Finisher:*** Once we have our NLP pipeline ready to go, we might want to use our annotation results somewhere else where it is easy to use. The Finisher outputs annotation(s) values into a string.\n",
        "\n",
        "If we just want the desired output column in the final dataframe, we can use Finisher to drop previous stages in the final output and get the `result` from the process.\n",
        "\n",
        "This is very handy when you want to use the output from Spark NLP annotator as an input to another Spark ML transformer.\n",
        "\n",
        "**Settable parameters are:**\n",
        "\n",
        "| Parametre   | Description |\n",
        "| - | - |\n",
        "|**setInputCols**      |input column name string which targets a column of type Array|\n",
        "|**setOutputCols**      |output column name string which targets a column of type AnnotatorType|\n",
        "|**setCleanAnnotations(True)**|Whether to remove intermediate annotations|\n",
        "|**setValueSplitSymbol(“#”)**|split values within an annotation character|\n",
        "|**setAnnotationSplitSymbol(“@”)**|split values between annotations character|\n",
        "|**setIncludeMetadata(False)**|Whether to include metadata keys. Sometimes useful in some annotations.|\n",
        "|**setOutputAsArray(False)**| Whether to output as Array. Useful as input for other Spark transformers.|"
      ]
    },
    {
      "cell_type": "code",
      "execution_count": null,
      "metadata": {
        "colab": {
          "base_uri": "https://localhost:8080/"
        },
        "id": "z0aDUU2Fix8-",
        "outputId": "697c62c4-1076-4f4d-f9f0-1e41f9babf92"
      },
      "outputs": [
        {
          "output_type": "stream",
          "name": "stdout",
          "text": [
            "+--------------------------------------------------+--------------------------------------------------+\n",
            "|                                              text|                            finished_regex_matches|\n",
            "+--------------------------------------------------+--------------------------------------------------+\n",
            "|The human KCNJ9 (Kir 3.3, GIRK3) is a member of...|[inwardly, family, spansapproximately, byapprox...|\n",
            "|BACKGROUND: At present, it is one of the most i...|[previously, previously, intravenously, previou...|\n",
            "|OBJECTIVE: To investigate the relationship betw...|[renal failure, cardiac surgery, cardiac surger...|\n",
            "|Combined EEG/fMRI recording has been used to lo...|[normally, significantly, effectively, analy, o...|\n",
            "|Kohlschutter syndrome is a rare neurodegenerati...|                                          [family]|\n",
            "|Statistical analysis of neuroimages is commonly...|[analy, commonly, overly, normally, thatsuccess...|\n",
            "|The synthetic DOX-LNA conjugate was characteriz...|                         [wasanaly, substantially]|\n",
            "|Our objective was to compare three different me...|[daily, only, Conversely, Hourly, hourly, Hourl...|\n",
            "|We conducted a phase II study to assess the eff...|[analy, respectively, generally, 5-fluorouracil...|\n",
            "|\"Monomeric sarcosine oxidase (MSOX) is a flavoe...|[cataly, methylgly, gly, ethylgly, dimethylgly,...|\n",
            "|We presented the tachinid fly Exorista japonica...|                         [fly, fly, fly, fly, fly]|\n",
            "|The literature dealing with the water conductin...|           [generally, mathematically, especially]|\n",
            "|A novel approach to synthesize chitosan-O-isopr...|[efficiently, poly, chitosan-O-isopropyl-5'-O-d...|\n",
            "|An HPLC-ESI-MS-MS method has been developed for...|[chromatographically, respectively, successfull...|\n",
            "|The localizing and lateralizing values of eye a...|                                    [early, early]|\n",
            "|OBJECTIVE: To evaluate the effectiveness and ac...|[weekly, respectively, theanaly, 2006, 2007,, 2...|\n",
            "|For the construction of new combinatorial libra...|                                           [newly]|\n",
            "|We report the results of a screen for genetic a...|[poly, threepoly, significantly, analy, actuall...|\n",
            "|Intraparenchymal pericatheter cyst is rarely re...|              [rarely, possibly, unusually, Early]|\n",
            "|It is known that patients with Klinefelter's sy...|                                                []|\n",
            "+--------------------------------------------------+--------------------------------------------------+\n",
            "only showing top 20 rows\n",
            "\n"
          ]
        }
      ],
      "source": [
        "finisher = Finisher() \\\n",
        "    .setInputCols([\"regex_matches\"]) \\\n",
        "    .setIncludeMetadata(False) # set to False to remove metadata\n",
        "\n",
        "nlpPipeline = Pipeline(stages=[documentAssembler, \n",
        "                               regex_matcher,\n",
        "                               finisher])\n",
        "\n",
        "match_df = nlpPipeline.fit(pubMedDF).transform(pubMedDF)\n",
        "match_df.show(truncate = 50)"
      ]
    },
    {
      "cell_type": "code",
      "execution_count": null,
      "metadata": {
        "colab": {
          "base_uri": "https://localhost:8080/"
        },
        "id": "f9Yy-yUgix9A",
        "outputId": "3f52f392-dc11-43f5-e2f3-66ef7744be12"
      },
      "outputs": [
        {
          "output_type": "stream",
          "name": "stdout",
          "text": [
            "root\n",
            " |-- text: string (nullable = true)\n",
            " |-- finished_regex_matches: array (nullable = true)\n",
            " |    |-- element: string (containsNull = true)\n",
            "\n"
          ]
        }
      ],
      "source": [
        "match_df.printSchema()"
      ]
    },
    {
      "cell_type": "code",
      "execution_count": null,
      "metadata": {
        "colab": {
          "base_uri": "https://localhost:8080/"
        },
        "id": "gZCd2KSfix9C",
        "outputId": "e6cbe647-edc8-48bc-c00f-b27da408939f"
      },
      "outputs": [
        {
          "output_type": "stream",
          "name": "stdout",
          "text": [
            "+--------------------------------------------------+--------------------------------------------------+\n",
            "|                                              text|                            finished_regex_matches|\n",
            "+--------------------------------------------------+--------------------------------------------------+\n",
            "|The human KCNJ9 (Kir 3.3, GIRK3) is a member of...|[inwardly, family, spansapproximately, byapprox...|\n",
            "|BACKGROUND: At present, it is one of the most i...|[previously, previously, intravenously, previou...|\n",
            "|OBJECTIVE: To investigate the relationship betw...|[renal failure, cardiac surgery, cardiac surger...|\n",
            "|Combined EEG/fMRI recording has been used to lo...|[normally, significantly, effectively, analy, o...|\n",
            "|Statistical analysis of neuroimages is commonly...|[analy, commonly, overly, normally, thatsuccess...|\n",
            "|Our objective was to compare three different me...|[daily, only, Conversely, Hourly, hourly, Hourl...|\n",
            "|We conducted a phase II study to assess the eff...|[analy, respectively, generally, 5-fluorouracil...|\n",
            "|\"Monomeric sarcosine oxidase (MSOX) is a flavoe...|[cataly, methylgly, gly, ethylgly, dimethylgly,...|\n",
            "|We presented the tachinid fly Exorista japonica...|                         [fly, fly, fly, fly, fly]|\n",
            "|The literature dealing with the water conductin...|           [generally, mathematically, especially]|\n",
            "|A novel approach to synthesize chitosan-O-isopr...|[efficiently, poly, chitosan-O-isopropyl-5'-O-d...|\n",
            "|An HPLC-ESI-MS-MS method has been developed for...|[chromatographically, respectively, successfull...|\n",
            "|OBJECTIVE: To evaluate the effectiveness and ac...|[weekly, respectively, theanaly, 2006, 2007,, 2...|\n",
            "|We report the results of a screen for genetic a...|[poly, threepoly, significantly, analy, actuall...|\n",
            "|Intraparenchymal pericatheter cyst is rarely re...|              [rarely, possibly, unusually, Early]|\n",
            "|PURPOSE: To compare the effectiveness, potentia...|[analy, comparatively, wassignificantly, respec...|\n",
            "|We have demonstrated a new type of all-optical ...|[approximately, fully, approximately, approxima...|\n",
            "|Physalis peruviana (PP) is a widely used medici...|[widely, (20,, 40,, 60,, 80, 95%, 100, 95%, (82...|\n",
            "|We report the discovery of a series of substitu...|[highly, potentially, highly, respectively, tub...|\n",
            "|The purpose of this study was to identify and c...|[family, Nearly, only, 43, 10, 44%, 32%, 64%, 4...|\n",
            "+--------------------------------------------------+--------------------------------------------------+\n",
            "only showing top 20 rows\n",
            "\n"
          ]
        }
      ],
      "source": [
        "match_df.filter(F.size('finished_regex_matches')>2).show(truncate = 50)"
      ]
    },
    {
      "cell_type": "markdown",
      "metadata": {
        "id": "RBeh9Yv44elz"
      },
      "source": [
        "## LightPipeline\n",
        "\n",
        "https://medium.com/spark-nlp/spark-nlp-101-lightpipeline-a544e93f20f1"
      ]
    },
    {
      "cell_type": "markdown",
      "metadata": {
        "id": "eaANY-Bg4paN"
      },
      "source": [
        "LightPipelines are Spark NLP specific Pipelines, equivalent to Spark ML Pipeline, but meant to deal with smaller amounts of data. They’re useful working with small datasets, debugging results, or when running either training or prediction from an API that serves one-off requests.\n",
        "\n",
        "Spark NLP LightPipelines are Spark ML pipelines converted into a single machine but the multi-threaded task, becoming more than 10x times faster for smaller amounts of data (small is relative, but 50k sentences are roughly a good maximum). To use them, we simply plug in a trained (fitted) pipeline and then annotate a plain text. We don't even need to convert the input text to DataFrame in order to feed it into a pipeline that's accepting DataFrame as an input in the first place. This feature would be quite useful when it comes to getting a prediction for a few lines of text from a trained ML model.\n",
        "\n",
        " **It is nearly 10x faster than using Spark ML Pipeline**\n",
        "\n",
        "`LightPipeline(someTrainedPipeline).annotate(someStringOrArray)`"
      ]
    },
    {
      "cell_type": "code",
      "execution_count": null,
      "metadata": {
        "colab": {
          "base_uri": "https://localhost:8080/"
        },
        "id": "D5DwGaT4oTyu",
        "outputId": "27384882-e7e5-4116-a044-9515d100ef10"
      },
      "outputs": [
        {
          "output_type": "stream",
          "name": "stdout",
          "text": [
            "+--------------------+--------------------+--------------------+--------------------+--------------------+\n",
            "|                text|            document|               token|                stem|               lemma|\n",
            "+--------------------+--------------------+--------------------+--------------------+--------------------+\n",
            "|Peter is a very g...|[{document, 0, 27...|[{token, 0, 4, Pe...|[{token, 0, 4, pe...|[{token, 0, 4, Pe...|\n",
            "|My life in Russia...|[{document, 0, 37...|[{token, 0, 1, My...|[{token, 0, 1, my...|[{token, 0, 1, My...|\n",
            "|John and Peter ar...|[{document, 0, 76...|[{token, 0, 3, Jo...|[{token, 0, 3, jo...|[{token, 0, 3, Jo...|\n",
            "|Lucas Nogal Dunbe...|[{document, 0, 67...|[{token, 0, 4, Lu...|[{token, 0, 4, lu...|[{token, 0, 4, Lu...|\n",
            "|Europe is very cu...|[{document, 0, 68...|[{token, 0, 5, Eu...|[{token, 0, 5, eu...|[{token, 0, 5, Eu...|\n",
            "+--------------------+--------------------+--------------------+--------------------+--------------------+\n",
            "\n"
          ]
        }
      ],
      "source": [
        "documentAssembler = DocumentAssembler()\\\n",
        "    .setInputCol(\"text\")\\\n",
        "    .setOutputCol(\"document\")\n",
        "\n",
        "tokenizer = Tokenizer() \\\n",
        "    .setInputCols([\"document\"]) \\\n",
        "    .setOutputCol(\"token\")\n",
        "\n",
        "stemmer = Stemmer() \\\n",
        "    .setInputCols([\"token\"]) \\\n",
        "    .setOutputCol(\"stem\")\n",
        "\n",
        "nlpPipeline = Pipeline(\n",
        "    stages=[\n",
        "        documentAssembler, \n",
        "        tokenizer,\n",
        "        stemmer,\n",
        "        lemmatizer\n",
        "        ])\n",
        "\n",
        "empty_df = spark.createDataFrame([['']]).toDF(\"text\")\n",
        "\n",
        "pipelineModel = nlpPipeline.fit(empty_df)\n",
        "nlpPipeline.fit(empty_df).transform(spark_df).show()"
      ]
    },
    {
      "cell_type": "code",
      "execution_count": null,
      "metadata": {
        "id": "kilQL1ps4kXh"
      },
      "outputs": [],
      "source": [
        "from sparknlp.base import LightPipeline\n",
        "\n",
        "light_model = LightPipeline(pipelineModel)\n",
        "light_result = light_model.annotate(\"John and Peter are brothers. However they don't support each other that much.\")"
      ]
    },
    {
      "cell_type": "code",
      "execution_count": null,
      "metadata": {
        "colab": {
          "base_uri": "https://localhost:8080/"
        },
        "id": "Sw9Z5q_H49M_",
        "outputId": "c64e10b3-3500-4d9e-dd72-25b1dcdb0523"
      },
      "outputs": [
        {
          "output_type": "execute_result",
          "data": {
            "text/plain": [
              "dict_keys(['document', 'token', 'stem', 'lemma'])"
            ]
          },
          "metadata": {},
          "execution_count": 126
        }
      ],
      "source": [
        "light_result.keys()"
      ]
    },
    {
      "cell_type": "code",
      "execution_count": null,
      "metadata": {
        "colab": {
          "base_uri": "https://localhost:8080/"
        },
        "id": "3x4u11yQ5CxR",
        "outputId": "7ad8446f-6624-496f-af23-b0f3e982fefe"
      },
      "outputs": [
        {
          "output_type": "execute_result",
          "data": {
            "text/plain": [
              "[('John', 'john', 'John'),\n",
              " ('and', 'and', 'and'),\n",
              " ('Peter', 'peter', 'Peter'),\n",
              " ('are', 'ar', 'be'),\n",
              " ('brothers', 'brother', 'brother'),\n",
              " ('.', '.', '.'),\n",
              " ('However', 'howev', 'However'),\n",
              " ('they', 'thei', 'they'),\n",
              " (\"don't\", \"don't\", \"don't\"),\n",
              " ('support', 'support', 'support'),\n",
              " ('each', 'each', 'each'),\n",
              " ('other', 'other', 'other'),\n",
              " ('that', 'that', 'that'),\n",
              " ('much', 'much', 'much'),\n",
              " ('.', '.', '.')]"
            ]
          },
          "metadata": {},
          "execution_count": 127
        }
      ],
      "source": [
        "list(zip(light_result['token'], light_result['stem'], light_result['lemma']))"
      ]
    },
    {
      "cell_type": "code",
      "execution_count": null,
      "metadata": {
        "id": "cOe6aYzn5NXG"
      },
      "outputs": [],
      "source": [
        "light_result = light_model.fullAnnotate(\"John and Peter are brothers. However they don't support each other that much.\")"
      ]
    },
    {
      "cell_type": "code",
      "execution_count": null,
      "metadata": {
        "colab": {
          "base_uri": "https://localhost:8080/"
        },
        "id": "nObeWNkt55pS",
        "outputId": "0dc784d5-d2af-473f-af98-888abc9df514"
      },
      "outputs": [
        {
          "output_type": "execute_result",
          "data": {
            "text/plain": [
              "[{'document': [Annotation(document, 0, 76, John and Peter are brothers. However they don't support each other that much., {})],\n",
              "  'token': [Annotation(token, 0, 3, John, {'sentence': '0'}),\n",
              "   Annotation(token, 5, 7, and, {'sentence': '0'}),\n",
              "   Annotation(token, 9, 13, Peter, {'sentence': '0'}),\n",
              "   Annotation(token, 15, 17, are, {'sentence': '0'}),\n",
              "   Annotation(token, 19, 26, brothers, {'sentence': '0'}),\n",
              "   Annotation(token, 27, 27, ., {'sentence': '0'}),\n",
              "   Annotation(token, 29, 35, However, {'sentence': '0'}),\n",
              "   Annotation(token, 37, 40, they, {'sentence': '0'}),\n",
              "   Annotation(token, 42, 46, don't, {'sentence': '0'}),\n",
              "   Annotation(token, 48, 54, support, {'sentence': '0'}),\n",
              "   Annotation(token, 56, 59, each, {'sentence': '0'}),\n",
              "   Annotation(token, 61, 65, other, {'sentence': '0'}),\n",
              "   Annotation(token, 67, 70, that, {'sentence': '0'}),\n",
              "   Annotation(token, 72, 75, much, {'sentence': '0'}),\n",
              "   Annotation(token, 76, 76, ., {'sentence': '0'})],\n",
              "  'stem': [Annotation(token, 0, 3, john, {'sentence': '0'}),\n",
              "   Annotation(token, 5, 7, and, {'sentence': '0'}),\n",
              "   Annotation(token, 9, 13, peter, {'sentence': '0'}),\n",
              "   Annotation(token, 15, 17, ar, {'sentence': '0'}),\n",
              "   Annotation(token, 19, 26, brother, {'sentence': '0'}),\n",
              "   Annotation(token, 27, 27, ., {'sentence': '0'}),\n",
              "   Annotation(token, 29, 35, howev, {'sentence': '0'}),\n",
              "   Annotation(token, 37, 40, thei, {'sentence': '0'}),\n",
              "   Annotation(token, 42, 46, don't, {'sentence': '0'}),\n",
              "   Annotation(token, 48, 54, support, {'sentence': '0'}),\n",
              "   Annotation(token, 56, 59, each, {'sentence': '0'}),\n",
              "   Annotation(token, 61, 65, other, {'sentence': '0'}),\n",
              "   Annotation(token, 67, 70, that, {'sentence': '0'}),\n",
              "   Annotation(token, 72, 75, much, {'sentence': '0'}),\n",
              "   Annotation(token, 76, 76, ., {'sentence': '0'})],\n",
              "  'lemma': [Annotation(token, 0, 3, John, {'sentence': '0'}),\n",
              "   Annotation(token, 5, 7, and, {'sentence': '0'}),\n",
              "   Annotation(token, 9, 13, Peter, {'sentence': '0'}),\n",
              "   Annotation(token, 15, 17, be, {'sentence': '0'}),\n",
              "   Annotation(token, 19, 26, brother, {'sentence': '0'}),\n",
              "   Annotation(token, 27, 27, ., {'sentence': '0'}),\n",
              "   Annotation(token, 29, 35, However, {'sentence': '0'}),\n",
              "   Annotation(token, 37, 40, they, {'sentence': '0'}),\n",
              "   Annotation(token, 42, 46, don't, {'sentence': '0'}),\n",
              "   Annotation(token, 48, 54, support, {'sentence': '0'}),\n",
              "   Annotation(token, 56, 59, each, {'sentence': '0'}),\n",
              "   Annotation(token, 61, 65, other, {'sentence': '0'}),\n",
              "   Annotation(token, 67, 70, that, {'sentence': '0'}),\n",
              "   Annotation(token, 72, 75, much, {'sentence': '0'}),\n",
              "   Annotation(token, 76, 76, ., {'sentence': '0'})]}]"
            ]
          },
          "metadata": {},
          "execution_count": 129
        }
      ],
      "source": [
        "light_result"
      ]
    },
    {
      "cell_type": "code",
      "execution_count": null,
      "metadata": {
        "colab": {
          "base_uri": "https://localhost:8080/"
        },
        "id": "uEgemHyB57LJ",
        "outputId": "d93f9957-1707-494d-a4de-d720693f17fc"
      },
      "outputs": [
        {
          "output_type": "execute_result",
          "data": {
            "text/plain": [
              "[{'document': ['How did serfdom develop in and then leave Russia ?'],\n",
              "  'token': ['How',\n",
              "   'did',\n",
              "   'serfdom',\n",
              "   'develop',\n",
              "   'in',\n",
              "   'and',\n",
              "   'then',\n",
              "   'leave',\n",
              "   'Russia',\n",
              "   '?'],\n",
              "  'stem': ['how',\n",
              "   'did',\n",
              "   'serfdom',\n",
              "   'develop',\n",
              "   'in',\n",
              "   'and',\n",
              "   'then',\n",
              "   'leav',\n",
              "   'russia',\n",
              "   '?'],\n",
              "  'lemma': ['How',\n",
              "   'do',\n",
              "   'serfdom',\n",
              "   'develop',\n",
              "   'in',\n",
              "   'and',\n",
              "   'then',\n",
              "   'leave',\n",
              "   'Russia',\n",
              "   '?']},\n",
              " {'document': ['There will be some exciting breakthroughs in NLP this year.'],\n",
              "  'token': ['There',\n",
              "   'will',\n",
              "   'be',\n",
              "   'some',\n",
              "   'exciting',\n",
              "   'breakthroughs',\n",
              "   'in',\n",
              "   'NLP',\n",
              "   'this',\n",
              "   'year',\n",
              "   '.'],\n",
              "  'stem': ['there',\n",
              "   'will',\n",
              "   'be',\n",
              "   'some',\n",
              "   'excit',\n",
              "   'breakthrough',\n",
              "   'in',\n",
              "   'nlp',\n",
              "   'thi',\n",
              "   'year',\n",
              "   '.'],\n",
              "  'lemma': ['There',\n",
              "   'will',\n",
              "   'be',\n",
              "   'some',\n",
              "   'exciting',\n",
              "   'breakthrough',\n",
              "   'in',\n",
              "   'NLP',\n",
              "   'this',\n",
              "   'year',\n",
              "   '.']}]"
            ]
          },
          "metadata": {},
          "execution_count": 130
        }
      ],
      "source": [
        "text_list= [\"How did serfdom develop in and then leave Russia ?\",\n",
        "\"There will be some exciting breakthroughs in NLP this year.\"]\n",
        "\n",
        "light_model.annotate(text_list)"
      ]
    },
    {
      "cell_type": "markdown",
      "metadata": {
        "id": "-44fmATEqrL_"
      },
      "source": [
        "**important note:** When you use Finisher in your pipeline, regardless of setting `cleanAnnotations` to False or True, LigtPipeline will only return the finished columns."
      ]
    }
  ],
  "metadata": {
    "colab": {
      "machine_shape": "hm",
      "provenance": [],
      "toc_visible": true
    },
    "gpuClass": "standard",
    "kernelspec": {
      "display_name": "Python 3",
      "language": "python",
      "name": "python3"
    },
    "language_info": {
      "codemirror_mode": {
        "name": "ipython",
        "version": 3
      },
      "file_extension": ".py",
      "mimetype": "text/x-python",
      "name": "python",
      "nbconvert_exporter": "python",
      "pygments_lexer": "ipython3",
      "version": "3.7.4"
    }
  },
  "nbformat": 4,
  "nbformat_minor": 0
}